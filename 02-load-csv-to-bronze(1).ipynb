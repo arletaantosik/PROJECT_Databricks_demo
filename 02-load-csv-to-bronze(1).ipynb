{
 "cells": [
  {
   "cell_type": "code",
   "execution_count": 0,
   "metadata": {
    "application/vnd.databricks.v1+cell": {
     "cellMetadata": {
      "byteLimit": 2048000,
      "rowLimit": 10000
     },
     "inputWidgets": {},
     "nuid": "0fab6563-05d6-4ca0-ab52-8cbf7b979bb0",
     "showTitle": false,
     "tableResultSettingsMap": {},
     "title": ""
    }
   },
   "outputs": [
    {
     "output_type": "display_data",
     "data": {
      "text/html": [
       "<style scoped>\n",
       "  .table-result-container {\n",
       "    max-height: 300px;\n",
       "    overflow: auto;\n",
       "  }\n",
       "  table, th, td {\n",
       "    border: 1px solid black;\n",
       "    border-collapse: collapse;\n",
       "  }\n",
       "  th, td {\n",
       "    padding: 5px;\n",
       "  }\n",
       "  th {\n",
       "    text-align: left;\n",
       "  }\n",
       "</style><div class='table-result-container'><table class='table-result'><thead style='background-color: white'><tr><th>path</th><th>name</th><th>size</th><th>modificationTime</th></tr></thead><tbody><tr><td>dbfs:/mnt/raw-data/dirty_cafe_sales.csv</td><td>dirty_cafe_sales.csv</td><td>516003</td><td>1761562490000</td></tr></tbody></table></div>"
      ]
     },
     "metadata": {
      "application/vnd.databricks.v1+output": {
       "addedWidgets": {},
       "aggData": [],
       "aggError": "",
       "aggOverflow": false,
       "aggSchema": [],
       "aggSeriesLimitReached": false,
       "aggType": "",
       "arguments": {},
       "columnCustomDisplayInfos": {},
       "data": [
        [
         "dbfs:/mnt/raw-data/dirty_cafe_sales.csv",
         "dirty_cafe_sales.csv",
         516003,
         1761562490000
        ]
       ],
       "datasetInfos": [],
       "dbfsResultPath": null,
       "isJsonSchema": true,
       "metadata": {},
       "overflow": false,
       "plotOptions": {
        "customPlotOptions": {},
        "displayType": "table",
        "pivotAggregation": null,
        "pivotColumns": null,
        "xColumns": null,
        "yColumns": null
       },
       "removedWidgets": [],
       "schema": [
        {
         "metadata": "{}",
         "name": "path",
         "type": "\"string\""
        },
        {
         "metadata": "{}",
         "name": "name",
         "type": "\"string\""
        },
        {
         "metadata": "{}",
         "name": "size",
         "type": "\"long\""
        },
        {
         "metadata": "{}",
         "name": "modificationTime",
         "type": "\"long\""
        }
       ],
       "type": "table"
      }
     },
     "output_type": "display_data"
    }
   ],
   "source": [
    "# Verify the CSV file is accessible in mounted storage\n",
    "display(dbutils.fs.ls(\"/mnt/raw-data\"))\n"
   ]
  },
  {
   "cell_type": "code",
   "execution_count": 0,
   "metadata": {
    "application/vnd.databricks.v1+cell": {
     "cellMetadata": {
      "byteLimit": 2048000,
      "rowLimit": 10000
     },
     "inputWidgets": {},
     "nuid": "78a16368-e19b-4562-9689-8f7a926d136d",
     "showTitle": false,
     "tableResultSettingsMap": {},
     "title": ""
    }
   },
   "outputs": [
    {
     "output_type": "stream",
     "name": "stdout",
     "output_type": "stream",
     "text": [
      "✅ Schema defined\n"
     ]
    }
   ],
   "source": [
    "from pyspark.sql.types import StructType, StructField, StringType\n",
    "\n",
    "# Define schema with underscores instead of spaces (all STRING)\n",
    "schema = StructType([\n",
    "    StructField(\"transaction_id\", StringType(), True),\n",
    "    StructField(\"item\", StringType(), True),\n",
    "    StructField(\"quantity\", StringType(), True),\n",
    "    StructField(\"price_per_unit\", StringType(), True),\n",
    "    StructField(\"total_spent\", StringType(), True),\n",
    "    StructField(\"payment_method\", StringType(), True),\n",
    "    StructField(\"location\", StringType(), True),\n",
    "    StructField(\"transaction_date\", StringType(), True)\n",
    "])\n",
    "\n",
    "print(\"✅ Schema defined\")\n"
   ]
  },
  {
   "cell_type": "code",
   "execution_count": 0,
   "metadata": {
    "application/vnd.databricks.v1+cell": {
     "cellMetadata": {
      "byteLimit": 2048000,
      "rowLimit": 10000
     },
     "inputWidgets": {},
     "nuid": "f9b66f20-fca7-45bc-9050-5ad6f668c4f9",
     "showTitle": false,
     "tableResultSettingsMap": {
      "0": {
       "dataGridStateBlob": "{\"version\":1,\"tableState\":{\"columnPinning\":{\"left\":[\"#row_number#\"],\"right\":[]},\"columnSizing\":{},\"columnVisibility\":{}},\"settings\":{\"columns\":{}},\"syncTimestamp\":1761575264391}",
       "filterBlob": null,
       "queryPlanFiltersBlob": null,
       "tableResultIndex": 0
      }
     },
     "title": ""
    }
   },
   "outputs": [
    {
     "output_type": "stream",
     "name": "stdout",
     "output_type": "stream",
     "text": [
      "✅ Loaded 10000 rows from CSV\n"
     ]
    },
    {
     "output_type": "display_data",
     "data": {
      "text/html": [
       "<style scoped>\n",
       "  .table-result-container {\n",
       "    max-height: 300px;\n",
       "    overflow: auto;\n",
       "  }\n",
       "  table, th, td {\n",
       "    border: 1px solid black;\n",
       "    border-collapse: collapse;\n",
       "  }\n",
       "  th, td {\n",
       "    padding: 5px;\n",
       "  }\n",
       "  th {\n",
       "    text-align: left;\n",
       "  }\n",
       "</style><div class='table-result-container'><table class='table-result'><thead style='background-color: white'><tr><th>transaction_id</th><th>item</th><th>quantity</th><th>price_per_unit</th><th>total_spent</th><th>payment_method</th><th>location</th><th>transaction_date</th></tr></thead><tbody><tr><td>txn_1961373</td><td>Coffee</td><td>2</td><td>2</td><td>4</td><td>Credit Card</td><td>Takeaway</td><td>08.09.2023</td></tr><tr><td>TXn_4977031</td><td>Cake</td><td>4</td><td>3</td><td>12</td><td>Cash</td><td>In-store</td><td>16.05.2023</td></tr><tr><td>TXN4271903</td><td>Cookie</td><td>4</td><td>1</td><td>ERROR</td><td>Credit Card</td><td>In-store</td><td>19.07.2023</td></tr><tr><td>\tTXN_7034554</td><td>Salad</td><td>2</td><td>5</td><td>10</td><td>UNKNOWN</td><td>UNKNOWN</td><td>27.04.2023</td></tr><tr><td>TXN3160411\t</td><td>Coffee</td><td>2</td><td>2</td><td>4</td><td>Digital Wallet</td><td>In-store</td><td>11.06.2023</td></tr><tr><td>TXN_260 2893</td><td>Smoothie</td><td>5</td><td>4</td><td>20</td><td>Credit Card</td><td>null</td><td>31.03.2023</td></tr><tr><td>TXN_44</td><td>UNKNOWN</td><td>3</td><td>3</td><td>9</td><td>ERROR</td><td>Takeaway</td><td>06.10.2023</td></tr><tr><td>TXN_6699534</td><td>Sandwich</td><td>4</td><td>4</td><td>16</td><td>Cash</td><td>UNKNOWN</td><td>28.10.2023</td></tr><tr><td>TXN_4717867</td><td>null</td><td>5</td><td>3</td><td>15</td><td>null</td><td>Takeaway</td><td>28.07.2023</td></tr><tr><td>TXN_2064365</td><td>Sandwich</td><td>5</td><td>4</td><td>20</td><td>null</td><td>In-store</td><td>31.12.2023</td></tr></tbody></table></div>"
      ]
     },
     "metadata": {
      "application/vnd.databricks.v1+output": {
       "addedWidgets": {},
       "aggData": [],
       "aggError": "",
       "aggOverflow": false,
       "aggSchema": [],
       "aggSeriesLimitReached": false,
       "aggType": "",
       "arguments": {},
       "columnCustomDisplayInfos": {},
       "data": [
        [
         "txn_1961373",
         "Coffee",
         "2",
         "2",
         "4",
         "Credit Card",
         "Takeaway",
         "08.09.2023"
        ],
        [
         "TXn_4977031",
         "Cake",
         "4",
         "3",
         "12",
         "Cash",
         "In-store",
         "16.05.2023"
        ],
        [
         "TXN4271903",
         "Cookie",
         "4",
         "1",
         "ERROR",
         "Credit Card",
         "In-store",
         "19.07.2023"
        ],
        [
         "\tTXN_7034554",
         "Salad",
         "2",
         "5",
         "10",
         "UNKNOWN",
         "UNKNOWN",
         "27.04.2023"
        ],
        [
         "TXN3160411\t",
         "Coffee",
         "2",
         "2",
         "4",
         "Digital Wallet",
         "In-store",
         "11.06.2023"
        ],
        [
         "TXN_260 2893",
         "Smoothie",
         "5",
         "4",
         "20",
         "Credit Card",
         null,
         "31.03.2023"
        ],
        [
         "TXN_44",
         "UNKNOWN",
         "3",
         "3",
         "9",
         "ERROR",
         "Takeaway",
         "06.10.2023"
        ],
        [
         "TXN_6699534",
         "Sandwich",
         "4",
         "4",
         "16",
         "Cash",
         "UNKNOWN",
         "28.10.2023"
        ],
        [
         "TXN_4717867",
         null,
         "5",
         "3",
         "15",
         null,
         "Takeaway",
         "28.07.2023"
        ],
        [
         "TXN_2064365",
         "Sandwich",
         "5",
         "4",
         "20",
         null,
         "In-store",
         "31.12.2023"
        ]
       ],
       "datasetInfos": [],
       "dbfsResultPath": null,
       "isJsonSchema": true,
       "metadata": {},
       "overflow": false,
       "plotOptions": {
        "customPlotOptions": {},
        "displayType": "table",
        "pivotAggregation": null,
        "pivotColumns": null,
        "xColumns": null,
        "yColumns": null
       },
       "removedWidgets": [],
       "schema": [
        {
         "metadata": "{}",
         "name": "transaction_id",
         "type": "\"string\""
        },
        {
         "metadata": "{}",
         "name": "item",
         "type": "\"string\""
        },
        {
         "metadata": "{}",
         "name": "quantity",
         "type": "\"string\""
        },
        {
         "metadata": "{}",
         "name": "price_per_unit",
         "type": "\"string\""
        },
        {
         "metadata": "{}",
         "name": "total_spent",
         "type": "\"string\""
        },
        {
         "metadata": "{}",
         "name": "payment_method",
         "type": "\"string\""
        },
        {
         "metadata": "{}",
         "name": "location",
         "type": "\"string\""
        },
        {
         "metadata": "{}",
         "name": "transaction_date",
         "type": "\"string\""
        }
       ],
       "type": "table"
      }
     },
     "output_type": "display_data"
    }
   ],
   "source": [
    "# Read CSV and rename columns to match schema\n",
    "df_raw = spark.read \\\n",
    "    .option(\"header\", \"true\") \\\n",
    "    .csv(\"/mnt/raw-data/dirty_cafe_sales.csv\")\n",
    "\n",
    "# Rename columns to replace spaces with underscores\n",
    "df_raw = df_raw.toDF(*[col.lower().replace(\" \", \"_\") for col in df_raw.columns])\n",
    "\n",
    "# Cast all columns to String (Bronze layer standard)\n",
    "for column in df_raw.columns:\n",
    "    df_raw = df_raw.withColumn(column, df_raw[column].cast(StringType()))\n",
    "\n",
    "# Display row count\n",
    "count = df_raw.count()\n",
    "print(f\"✅ Loaded {count} rows from CSV\")\n",
    "\n",
    "# Show first 10 rows\n",
    "display(df_raw.limit(10))\n"
   ]
  },
  {
   "cell_type": "code",
   "execution_count": 0,
   "metadata": {
    "application/vnd.databricks.v1+cell": {
     "cellMetadata": {
      "byteLimit": 2048000,
      "rowLimit": 10000
     },
     "inputWidgets": {},
     "nuid": "fe87c9ad-9b8e-4c33-801d-8aecd36ea77e",
     "showTitle": false,
     "tableResultSettingsMap": {},
     "title": ""
    }
   },
   "outputs": [
    {
     "output_type": "stream",
     "name": "stdout",
     "output_type": "stream",
     "text": [
      "✅ Data saved to Delta Table at: /mnt/bronze/cafe_sales\n"
     ]
    }
   ],
   "source": [
    "# Define path for Bronze Delta Table\n",
    "bronze_path = \"/mnt/bronze/cafe_sales\"\n",
    "bronze_table_name = \"cafe_sales_bronze\"\n",
    "\n",
    "# Write DataFrame to Delta Lake (Bronze layer)\n",
    "df_raw.write \\\n",
    "    .format(\"delta\") \\\n",
    "    .mode(\"overwrite\") \\\n",
    "    .option(\"overwriteSchema\", \"true\") \\\n",
    "    .save(bronze_path)\n",
    "\n",
    "print(f\"✅ Data saved to Delta Table at: {bronze_path}\")\n"
   ]
  },
  {
   "cell_type": "code",
   "execution_count": 0,
   "metadata": {
    "application/vnd.databricks.v1+cell": {
     "cellMetadata": {
      "byteLimit": 2048000,
      "rowLimit": 10000
     },
     "inputWidgets": {},
     "nuid": "093eb1ce-3316-48e9-beeb-c8272fd089da",
     "showTitle": false,
     "tableResultSettingsMap": {},
     "title": ""
    }
   },
   "outputs": [
    {
     "output_type": "stream",
     "name": "stdout",
     "output_type": "stream",
     "text": [
      "✅ Table 'cafe_sales_bronze' registered in catalog\n"
     ]
    }
   ],
   "source": [
    "# Register Delta Table as SQL table in Databricks catalog\n",
    "spark.sql(f\"\"\"\n",
    "    CREATE TABLE IF NOT EXISTS {bronze_table_name}\n",
    "    USING DELTA\n",
    "    LOCATION '{bronze_path}'\n",
    "\"\"\")\n",
    "\n",
    "print(f\"✅ Table '{bronze_table_name}' registered in catalog\")\n"
   ]
  },
  {
   "cell_type": "code",
   "execution_count": 0,
   "metadata": {
    "application/vnd.databricks.v1+cell": {
     "cellMetadata": {
      "byteLimit": 2048000,
      "rowLimit": 10000
     },
     "inputWidgets": {},
     "nuid": "4422aa28-dcf4-4bbc-bbd2-430860de5659",
     "showTitle": false,
     "tableResultSettingsMap": {},
     "title": ""
    }
   },
   "outputs": [
    {
     "output_type": "stream",
     "name": "stdout",
     "output_type": "stream",
     "text": [
      "Row count in Bronze: 10000\n"
     ]
    },
    {
     "output_type": "display_data",
     "data": {
      "text/html": [
       "<style scoped>\n",
       "  .table-result-container {\n",
       "    max-height: 300px;\n",
       "    overflow: auto;\n",
       "  }\n",
       "  table, th, td {\n",
       "    border: 1px solid black;\n",
       "    border-collapse: collapse;\n",
       "  }\n",
       "  th, td {\n",
       "    padding: 5px;\n",
       "  }\n",
       "  th {\n",
       "    text-align: left;\n",
       "  }\n",
       "</style><div class='table-result-container'><table class='table-result'><thead style='background-color: white'><tr><th>transaction_id</th><th>item</th><th>quantity</th><th>price_per_unit</th><th>total_spent</th><th>payment_method</th><th>location</th><th>transaction_date</th></tr></thead><tbody><tr><td>txn_1961373</td><td>Coffee</td><td>2</td><td>2</td><td>4</td><td>Credit Card</td><td>Takeaway</td><td>08.09.2023</td></tr><tr><td>TXn_4977031</td><td>Cake</td><td>4</td><td>3</td><td>12</td><td>Cash</td><td>In-store</td><td>16.05.2023</td></tr><tr><td>TXN4271903</td><td>Cookie</td><td>4</td><td>1</td><td>ERROR</td><td>Credit Card</td><td>In-store</td><td>19.07.2023</td></tr><tr><td>\tTXN_7034554</td><td>Salad</td><td>2</td><td>5</td><td>10</td><td>UNKNOWN</td><td>UNKNOWN</td><td>27.04.2023</td></tr><tr><td>TXN3160411\t</td><td>Coffee</td><td>2</td><td>2</td><td>4</td><td>Digital Wallet</td><td>In-store</td><td>11.06.2023</td></tr><tr><td>TXN_260 2893</td><td>Smoothie</td><td>5</td><td>4</td><td>20</td><td>Credit Card</td><td>null</td><td>31.03.2023</td></tr><tr><td>TXN_44</td><td>UNKNOWN</td><td>3</td><td>3</td><td>9</td><td>ERROR</td><td>Takeaway</td><td>06.10.2023</td></tr><tr><td>TXN_6699534</td><td>Sandwich</td><td>4</td><td>4</td><td>16</td><td>Cash</td><td>UNKNOWN</td><td>28.10.2023</td></tr><tr><td>TXN_4717867</td><td>null</td><td>5</td><td>3</td><td>15</td><td>null</td><td>Takeaway</td><td>28.07.2023</td></tr><tr><td>TXN_2064365</td><td>Sandwich</td><td>5</td><td>4</td><td>20</td><td>null</td><td>In-store</td><td>31.12.2023</td></tr></tbody></table></div>"
      ]
     },
     "metadata": {
      "application/vnd.databricks.v1+output": {
       "addedWidgets": {},
       "aggData": [],
       "aggError": "",
       "aggOverflow": false,
       "aggSchema": [],
       "aggSeriesLimitReached": false,
       "aggType": "",
       "arguments": {},
       "columnCustomDisplayInfos": {},
       "data": [
        [
         "txn_1961373",
         "Coffee",
         "2",
         "2",
         "4",
         "Credit Card",
         "Takeaway",
         "08.09.2023"
        ],
        [
         "TXn_4977031",
         "Cake",
         "4",
         "3",
         "12",
         "Cash",
         "In-store",
         "16.05.2023"
        ],
        [
         "TXN4271903",
         "Cookie",
         "4",
         "1",
         "ERROR",
         "Credit Card",
         "In-store",
         "19.07.2023"
        ],
        [
         "\tTXN_7034554",
         "Salad",
         "2",
         "5",
         "10",
         "UNKNOWN",
         "UNKNOWN",
         "27.04.2023"
        ],
        [
         "TXN3160411\t",
         "Coffee",
         "2",
         "2",
         "4",
         "Digital Wallet",
         "In-store",
         "11.06.2023"
        ],
        [
         "TXN_260 2893",
         "Smoothie",
         "5",
         "4",
         "20",
         "Credit Card",
         null,
         "31.03.2023"
        ],
        [
         "TXN_44",
         "UNKNOWN",
         "3",
         "3",
         "9",
         "ERROR",
         "Takeaway",
         "06.10.2023"
        ],
        [
         "TXN_6699534",
         "Sandwich",
         "4",
         "4",
         "16",
         "Cash",
         "UNKNOWN",
         "28.10.2023"
        ],
        [
         "TXN_4717867",
         null,
         "5",
         "3",
         "15",
         null,
         "Takeaway",
         "28.07.2023"
        ],
        [
         "TXN_2064365",
         "Sandwich",
         "5",
         "4",
         "20",
         null,
         "In-store",
         "31.12.2023"
        ]
       ],
       "datasetInfos": [],
       "dbfsResultPath": null,
       "isJsonSchema": true,
       "metadata": {},
       "overflow": false,
       "plotOptions": {
        "customPlotOptions": {},
        "displayType": "table",
        "pivotAggregation": null,
        "pivotColumns": null,
        "xColumns": null,
        "yColumns": null
       },
       "removedWidgets": [],
       "schema": [
        {
         "metadata": "{}",
         "name": "transaction_id",
         "type": "\"string\""
        },
        {
         "metadata": "{}",
         "name": "item",
         "type": "\"string\""
        },
        {
         "metadata": "{}",
         "name": "quantity",
         "type": "\"string\""
        },
        {
         "metadata": "{}",
         "name": "price_per_unit",
         "type": "\"string\""
        },
        {
         "metadata": "{}",
         "name": "total_spent",
         "type": "\"string\""
        },
        {
         "metadata": "{}",
         "name": "payment_method",
         "type": "\"string\""
        },
        {
         "metadata": "{}",
         "name": "location",
         "type": "\"string\""
        },
        {
         "metadata": "{}",
         "name": "transaction_date",
         "type": "\"string\""
        }
       ],
       "type": "table"
      }
     },
     "output_type": "display_data"
    }
   ],
   "source": [
    "# Read back from Delta Table to verify\n",
    "df_bronze = spark.read.format(\"delta\").load(bronze_path)\n",
    "\n",
    "print(f\"Row count in Bronze: {df_bronze.count()}\")\n",
    "display(df_bronze.limit(10))\n"
   ]
  },
  {
   "cell_type": "code",
   "execution_count": 0,
   "metadata": {
    "application/vnd.databricks.v1+cell": {
     "cellMetadata": {
      "byteLimit": 2048000,
      "rowLimit": 10000
     },
     "inputWidgets": {},
     "nuid": "94a680a1-0f34-43c4-a31a-ec947f146170",
     "showTitle": false,
     "tableResultSettingsMap": {},
     "title": ""
    }
   },
   "outputs": [
    {
     "output_type": "stream",
     "name": "stdout",
     "output_type": "stream",
     "text": [
      "+--------------+--------+--------+--------------+-----------+--------------+--------+----------------+\n|transaction_id|    item|quantity|price_per_unit|total_spent|payment_method|location|transaction_date|\n+--------------+--------+--------+--------------+-----------+--------------+--------+----------------+\n|   txn_1961373|  Coffee|       2|             2|          4|   Credit Card|Takeaway|      08.09.2023|\n|   TXn_4977031|    Cake|       4|             3|         12|          Cash|In-store|      16.05.2023|\n|    TXN4271903|  Cookie|       4|             1|      ERROR|   Credit Card|In-store|      19.07.2023|\n| \\tTXN_7034554|   Salad|       2|             5|         10|       UNKNOWN| UNKNOWN|      27.04.2023|\n|  TXN3160411\\t|  Coffee|       2|             2|          4|Digital Wallet|In-store|      11.06.2023|\n|  TXN_260 2893|Smoothie|       5|             4|         20|   Credit Card|    NULL|      31.03.2023|\n|        TXN_44| UNKNOWN|       3|             3|          9|         ERROR|Takeaway|      06.10.2023|\n|   TXN_6699534|Sandwich|       4|             4|         16|          Cash| UNKNOWN|      28.10.2023|\n|   TXN_4717867|    NULL|       5|             3|         15|          NULL|Takeaway|      28.07.2023|\n|   TXN_2064365|Sandwich|       5|             4|         20|          NULL|In-store|      31.12.2023|\n+--------------+--------+--------+--------------+-----------+--------------+--------+----------------+\n\n"
     ]
    }
   ],
   "source": [
    "# Alternative: Query the registered table using SQL\n",
    "spark.sql(f\"SELECT * FROM {bronze_table_name} LIMIT 10\").show()\n"
   ]
  },
  {
   "cell_type": "code",
   "execution_count": 0,
   "metadata": {
    "application/vnd.databricks.v1+cell": {
     "cellMetadata": {
      "byteLimit": 2048000,
      "rowLimit": 10000
     },
     "inputWidgets": {},
     "nuid": "0b570e72-da55-4664-be0d-00326b371fd0",
     "showTitle": false,
     "tableResultSettingsMap": {},
     "title": ""
    }
   },
   "outputs": [
    {
     "output_type": "stream",
     "name": "stdout",
     "output_type": "stream",
     "text": [
      "✅ Catalog cache refreshed\nroot\n |-- transaction_id: string (nullable = true)\n |-- item: string (nullable = true)\n |-- quantity: string (nullable = true)\n |-- price_per_unit: string (nullable = true)\n |-- total_spent: string (nullable = true)\n |-- payment_method: string (nullable = true)\n |-- location: string (nullable = true)\n |-- transaction_date: string (nullable = true)\n\n"
     ]
    }
   ],
   "source": [
    "# Refresh catalog and verify\n",
    "spark.catalog.refreshTable(\"cafe_sales_bronze\")\n",
    "print(\"✅ Catalog cache refreshed\")\n",
    "\n",
    "# Display schema to confirm all columns\n",
    "df_bronze.printSchema()\n"
   ]
  }
 ],
 "metadata": {
  "application/vnd.databricks.v1+notebook": {
   "computePreferences": null,
   "dashboards": [],
   "environmentMetadata": {
    "base_environment": "",
    "environment_version": "4"
   },
   "inputWidgetPreferences": null,
   "language": "python",
   "notebookMetadata": {
    "pythonIndentUnit": 4
   },
   "notebookName": "02-load-csv-to-bronze",
   "widgets": {}
  },
  "language_info": {
   "name": "python"
  }
 },
 "nbformat": 4,
 "nbformat_minor": 0
}