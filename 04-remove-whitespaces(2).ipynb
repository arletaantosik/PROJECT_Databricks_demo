{
 "cells": [
  {
   "cell_type": "code",
   "execution_count": 0,
   "metadata": {
    "application/vnd.databricks.v1+cell": {
     "cellMetadata": {
      "byteLimit": 2048000,
      "rowLimit": 10000
     },
     "inputWidgets": {},
     "nuid": "b4688ae5-a2a0-4e73-b318-42708e9d8155",
     "showTitle": false,
     "tableResultSettingsMap": {
      "0": {
       "dataGridStateBlob": "{\"version\":1,\"tableState\":{\"columnPinning\":{\"left\":[\"#row_number#\"],\"right\":[]},\"columnSizing\":{},\"columnVisibility\":{}},\"settings\":{\"columns\":{}},\"syncTimestamp\":1761575890169}",
       "filterBlob": null,
       "queryPlanFiltersBlob": null,
       "tableResultIndex": 0
      }
     },
     "title": ""
    }
   },
   "outputs": [
    {
     "output_type": "stream",
     "name": "stdout",
     "output_type": "stream",
     "text": [
      "Initial row count (Bronze2): 3556\n"
     ]
    },
    {
     "output_type": "display_data",
     "data": {
      "text/html": [
       "<style scoped>\n",
       "  .table-result-container {\n",
       "    max-height: 300px;\n",
       "    overflow: auto;\n",
       "  }\n",
       "  table, th, td {\n",
       "    border: 1px solid black;\n",
       "    border-collapse: collapse;\n",
       "  }\n",
       "  th, td {\n",
       "    padding: 5px;\n",
       "  }\n",
       "  th {\n",
       "    text-align: left;\n",
       "  }\n",
       "</style><div class='table-result-container'><table class='table-result'><thead style='background-color: white'><tr><th>transaction_id</th><th>item</th><th>quantity</th><th>price_per_unit</th><th>total_spent</th><th>payment_method</th><th>location</th><th>transaction_date</th></tr></thead><tbody><tr><td>          TXN_2548360</td><td>Salad</td><td>5.0</td><td>5.0</td><td>25.0</td><td>Cash</td><td>Takeaway</td><td>07.11.2023</td></tr><tr><td>TXN3160411\t</td><td>Coffee</td><td>2.0</td><td>2.0</td><td>4.0</td><td>Digital Wallet</td><td>In-store</td><td>11.06.2023</td></tr><tr><td>TXN4271903</td><td>Cookie</td><td>4.0</td><td>1.0</td><td>4.0</td><td>Credit Card</td><td>In-store</td><td>19.07.2023</td></tr><tr><td>TXN_1000555</td><td>Tea</td><td>1.0</td><td>1.5</td><td>1.5</td><td>Credit Card</td><td>In-store</td><td>19.10.2023</td></tr><tr><td>TXN_1002457</td><td>Cookie</td><td>5.0</td><td>1.0</td><td>5.0</td><td>Digital Wallet</td><td>Takeaway</td><td>29.09.2023</td></tr><tr><td>TXN_1004184</td><td>Smoothie</td><td>1.0</td><td>4.0</td><td>4.0</td><td>Credit Card</td><td>In-store</td><td>18.05.2023</td></tr><tr><td>TXN_1004563</td><td>Tea</td><td>5.0</td><td>1.5</td><td>7.5</td><td>Credit Card</td><td>In-store</td><td>28.10.2023</td></tr><tr><td>TXN_1005331</td><td>Coffee</td><td>1.0</td><td>2.0</td><td>2.0</td><td>Digital Wallet</td><td>Takeaway</td><td>04.11.2023</td></tr><tr><td>TXN_1005377</td><td>Cake</td><td>5.0</td><td>3.0</td><td>15.0</td><td>Digital Wallet</td><td>Takeaway</td><td>03.06.2023</td></tr><tr><td>TXN_1006942</td><td>Salad</td><td>1.0</td><td>5.0</td><td>5.0</td><td>Credit Card</td><td>In-store</td><td>30.11.2023</td></tr></tbody></table></div>"
      ]
     },
     "metadata": {
      "application/vnd.databricks.v1+output": {
       "addedWidgets": {},
       "aggData": [],
       "aggError": "",
       "aggOverflow": false,
       "aggSchema": [],
       "aggSeriesLimitReached": false,
       "aggType": "",
       "arguments": {},
       "columnCustomDisplayInfos": {},
       "data": [
        [
         "          TXN_2548360",
         "Salad",
         "5.0",
         "5.0",
         "25.0",
         "Cash",
         "Takeaway",
         "07.11.2023"
        ],
        [
         "TXN3160411\t",
         "Coffee",
         "2.0",
         "2.0",
         "4.0",
         "Digital Wallet",
         "In-store",
         "11.06.2023"
        ],
        [
         "TXN4271903",
         "Cookie",
         "4.0",
         "1.0",
         "4.0",
         "Credit Card",
         "In-store",
         "19.07.2023"
        ],
        [
         "TXN_1000555",
         "Tea",
         "1.0",
         "1.5",
         "1.5",
         "Credit Card",
         "In-store",
         "19.10.2023"
        ],
        [
         "TXN_1002457",
         "Cookie",
         "5.0",
         "1.0",
         "5.0",
         "Digital Wallet",
         "Takeaway",
         "29.09.2023"
        ],
        [
         "TXN_1004184",
         "Smoothie",
         "1.0",
         "4.0",
         "4.0",
         "Credit Card",
         "In-store",
         "18.05.2023"
        ],
        [
         "TXN_1004563",
         "Tea",
         "5.0",
         "1.5",
         "7.5",
         "Credit Card",
         "In-store",
         "28.10.2023"
        ],
        [
         "TXN_1005331",
         "Coffee",
         "1.0",
         "2.0",
         "2.0",
         "Digital Wallet",
         "Takeaway",
         "04.11.2023"
        ],
        [
         "TXN_1005377",
         "Cake",
         "5.0",
         "3.0",
         "15.0",
         "Digital Wallet",
         "Takeaway",
         "03.06.2023"
        ],
        [
         "TXN_1006942",
         "Salad",
         "1.0",
         "5.0",
         "5.0",
         "Credit Card",
         "In-store",
         "30.11.2023"
        ]
       ],
       "datasetInfos": [],
       "dbfsResultPath": null,
       "isJsonSchema": true,
       "metadata": {},
       "overflow": false,
       "plotOptions": {
        "customPlotOptions": {},
        "displayType": "table",
        "pivotAggregation": null,
        "pivotColumns": null,
        "xColumns": null,
        "yColumns": null
       },
       "removedWidgets": [],
       "schema": [
        {
         "metadata": "{}",
         "name": "transaction_id",
         "type": "\"string\""
        },
        {
         "metadata": "{}",
         "name": "item",
         "type": "\"string\""
        },
        {
         "metadata": "{}",
         "name": "quantity",
         "type": "\"string\""
        },
        {
         "metadata": "{}",
         "name": "price_per_unit",
         "type": "\"string\""
        },
        {
         "metadata": "{}",
         "name": "total_spent",
         "type": "\"string\""
        },
        {
         "metadata": "{}",
         "name": "payment_method",
         "type": "\"string\""
        },
        {
         "metadata": "{}",
         "name": "location",
         "type": "\"string\""
        },
        {
         "metadata": "{}",
         "name": "transaction_date",
         "type": "\"string\""
        }
       ],
       "type": "table"
      }
     },
     "output_type": "display_data"
    }
   ],
   "source": [
    "# Read data from Bronze2 Delta Table \n",
    "bronze2_path = \"/mnt/bronze2/cafe_sales\"\n",
    "df_bronze2 = spark.read.format(\"delta\").load(bronze2_path)\n",
    "\n",
    "# Display initial row count and sample data\n",
    "print(f\"Initial row count (Bronze2): {df_bronze2.count()}\")\n",
    "display(df_bronze2.limit(10))\n",
    "\n"
   ]
  },
  {
   "cell_type": "code",
   "execution_count": 0,
   "metadata": {
    "application/vnd.databricks.v1+cell": {
     "cellMetadata": {
      "byteLimit": 2048000,
      "rowLimit": 10000
     },
     "inputWidgets": {},
     "nuid": "5369a9c6-1b3f-4d2e-9c6f-217231dff8c0",
     "showTitle": false,
     "tableResultSettingsMap": {
      "0": {
       "dataGridStateBlob": "{\"version\":1,\"tableState\":{\"columnPinning\":{\"left\":[\"#row_number#\"],\"right\":[]},\"columnSizing\":{},\"columnVisibility\":{}},\"settings\":{\"columns\":{}},\"syncTimestamp\":1761575899483}",
       "filterBlob": null,
       "queryPlanFiltersBlob": null,
       "tableResultIndex": 0
      }
     },
     "title": ""
    }
   },
   "outputs": [
    {
     "output_type": "stream",
     "name": "stdout",
     "output_type": "stream",
     "text": [
      "✅ Removed leading/trailing whitespace from STRING columns\n"
     ]
    },
    {
     "output_type": "display_data",
     "data": {
      "text/html": [
       "<style scoped>\n",
       "  .table-result-container {\n",
       "    max-height: 300px;\n",
       "    overflow: auto;\n",
       "  }\n",
       "  table, th, td {\n",
       "    border: 1px solid black;\n",
       "    border-collapse: collapse;\n",
       "  }\n",
       "  th, td {\n",
       "    padding: 5px;\n",
       "  }\n",
       "  th {\n",
       "    text-align: left;\n",
       "  }\n",
       "</style><div class='table-result-container'><table class='table-result'><thead style='background-color: white'><tr><th>transaction_id</th><th>item</th><th>quantity</th><th>price_per_unit</th><th>total_spent</th><th>payment_method</th><th>location</th><th>transaction_date</th></tr></thead><tbody><tr><td>TXN_2548360</td><td>Salad</td><td>5.0</td><td>5.0</td><td>25.0</td><td>Cash</td><td>Takeaway</td><td>07.11.2023</td></tr><tr><td>TXN3160411</td><td>Coffee</td><td>2.0</td><td>2.0</td><td>4.0</td><td>Digital Wallet</td><td>In-store</td><td>11.06.2023</td></tr><tr><td>TXN4271903</td><td>Cookie</td><td>4.0</td><td>1.0</td><td>4.0</td><td>Credit Card</td><td>In-store</td><td>19.07.2023</td></tr><tr><td>TXN_1000555</td><td>Tea</td><td>1.0</td><td>1.5</td><td>1.5</td><td>Credit Card</td><td>In-store</td><td>19.10.2023</td></tr><tr><td>TXN_1002457</td><td>Cookie</td><td>5.0</td><td>1.0</td><td>5.0</td><td>Digital Wallet</td><td>Takeaway</td><td>29.09.2023</td></tr><tr><td>TXN_1004184</td><td>Smoothie</td><td>1.0</td><td>4.0</td><td>4.0</td><td>Credit Card</td><td>In-store</td><td>18.05.2023</td></tr><tr><td>TXN_1004563</td><td>Tea</td><td>5.0</td><td>1.5</td><td>7.5</td><td>Credit Card</td><td>In-store</td><td>28.10.2023</td></tr><tr><td>TXN_1005331</td><td>Coffee</td><td>1.0</td><td>2.0</td><td>2.0</td><td>Digital Wallet</td><td>Takeaway</td><td>04.11.2023</td></tr><tr><td>TXN_1005377</td><td>Cake</td><td>5.0</td><td>3.0</td><td>15.0</td><td>Digital Wallet</td><td>Takeaway</td><td>03.06.2023</td></tr><tr><td>TXN_1006942</td><td>Salad</td><td>1.0</td><td>5.0</td><td>5.0</td><td>Credit Card</td><td>In-store</td><td>30.11.2023</td></tr></tbody></table></div>"
      ]
     },
     "metadata": {
      "application/vnd.databricks.v1+output": {
       "addedWidgets": {},
       "aggData": [],
       "aggError": "",
       "aggOverflow": false,
       "aggSchema": [],
       "aggSeriesLimitReached": false,
       "aggType": "",
       "arguments": {},
       "columnCustomDisplayInfos": {},
       "data": [
        [
         "TXN_2548360",
         "Salad",
         "5.0",
         "5.0",
         "25.0",
         "Cash",
         "Takeaway",
         "07.11.2023"
        ],
        [
         "TXN3160411",
         "Coffee",
         "2.0",
         "2.0",
         "4.0",
         "Digital Wallet",
         "In-store",
         "11.06.2023"
        ],
        [
         "TXN4271903",
         "Cookie",
         "4.0",
         "1.0",
         "4.0",
         "Credit Card",
         "In-store",
         "19.07.2023"
        ],
        [
         "TXN_1000555",
         "Tea",
         "1.0",
         "1.5",
         "1.5",
         "Credit Card",
         "In-store",
         "19.10.2023"
        ],
        [
         "TXN_1002457",
         "Cookie",
         "5.0",
         "1.0",
         "5.0",
         "Digital Wallet",
         "Takeaway",
         "29.09.2023"
        ],
        [
         "TXN_1004184",
         "Smoothie",
         "1.0",
         "4.0",
         "4.0",
         "Credit Card",
         "In-store",
         "18.05.2023"
        ],
        [
         "TXN_1004563",
         "Tea",
         "5.0",
         "1.5",
         "7.5",
         "Credit Card",
         "In-store",
         "28.10.2023"
        ],
        [
         "TXN_1005331",
         "Coffee",
         "1.0",
         "2.0",
         "2.0",
         "Digital Wallet",
         "Takeaway",
         "04.11.2023"
        ],
        [
         "TXN_1005377",
         "Cake",
         "5.0",
         "3.0",
         "15.0",
         "Digital Wallet",
         "Takeaway",
         "03.06.2023"
        ],
        [
         "TXN_1006942",
         "Salad",
         "1.0",
         "5.0",
         "5.0",
         "Credit Card",
         "In-store",
         "30.11.2023"
        ]
       ],
       "datasetInfos": [],
       "dbfsResultPath": null,
       "isJsonSchema": true,
       "metadata": {},
       "overflow": false,
       "plotOptions": {
        "customPlotOptions": {},
        "displayType": "table",
        "pivotAggregation": null,
        "pivotColumns": null,
        "xColumns": null,
        "yColumns": null
       },
       "removedWidgets": [],
       "schema": [
        {
         "metadata": "{}",
         "name": "transaction_id",
         "type": "\"string\""
        },
        {
         "metadata": "{}",
         "name": "item",
         "type": "\"string\""
        },
        {
         "metadata": "{}",
         "name": "quantity",
         "type": "\"string\""
        },
        {
         "metadata": "{}",
         "name": "price_per_unit",
         "type": "\"string\""
        },
        {
         "metadata": "{}",
         "name": "total_spent",
         "type": "\"string\""
        },
        {
         "metadata": "{}",
         "name": "payment_method",
         "type": "\"string\""
        },
        {
         "metadata": "{}",
         "name": "location",
         "type": "\"string\""
        },
        {
         "metadata": "{}",
         "name": "transaction_date",
         "type": "\"string\""
        }
       ],
       "type": "table"
      }
     },
     "output_type": "display_data"
    }
   ],
   "source": [
    "from pyspark.sql.functions import col, regexp_replace\n",
    "from pyspark.sql.types import StringType\n",
    "\n",
    "# Separate numeric and string columns\n",
    "numeric_columns = [\"quantity\", \"price_per_unit\", \"total_spent\"]\n",
    "string_columns = [col_name for col_name in df_bronze2.columns if col_name not in numeric_columns]\n",
    "\n",
    "# Remove ALL leading and trailing whitespace ONLY from STRING columns\n",
    "df_trimmed = df_bronze2\n",
    "for column in string_columns:\n",
    "    df_trimmed = df_trimmed.withColumn(\n",
    "        column, \n",
    "        regexp_replace(col(column), r'^\\s+|\\s+$', '')  # Remove leading/trailing whitespace\n",
    "    )\n",
    "\n",
    "print(f\"✅ Removed leading/trailing whitespace from STRING columns\")\n",
    "display(df_trimmed.limit(10))\n"
   ]
  },
  {
   "cell_type": "code",
   "execution_count": 0,
   "metadata": {
    "application/vnd.databricks.v1+cell": {
     "cellMetadata": {
      "byteLimit": 2048000,
      "rowLimit": 10000
     },
     "inputWidgets": {},
     "nuid": "0335dfe3-5eb0-4ede-833b-558cbff7f2c9",
     "showTitle": false,
     "tableResultSettingsMap": {
      "0": {
       "dataGridStateBlob": "{\"version\":1,\"tableState\":{\"columnPinning\":{\"left\":[\"#row_number#\"],\"right\":[]},\"columnSizing\":{},\"columnVisibility\":{}},\"settings\":{\"columns\":{}},\"syncTimestamp\":1761575929290}",
       "filterBlob": null,
       "queryPlanFiltersBlob": null,
       "tableResultIndex": 0
      }
     },
     "title": ""
    }
   },
   "outputs": [
    {
     "output_type": "stream",
     "name": "stdout",
     "output_type": "stream",
     "text": [
      "✅ Removed internal whitespace from STRING columns (except payment_method)\n"
     ]
    },
    {
     "output_type": "display_data",
     "data": {
      "text/html": [
       "<style scoped>\n",
       "  .table-result-container {\n",
       "    max-height: 300px;\n",
       "    overflow: auto;\n",
       "  }\n",
       "  table, th, td {\n",
       "    border: 1px solid black;\n",
       "    border-collapse: collapse;\n",
       "  }\n",
       "  th, td {\n",
       "    padding: 5px;\n",
       "  }\n",
       "  th {\n",
       "    text-align: left;\n",
       "  }\n",
       "</style><div class='table-result-container'><table class='table-result'><thead style='background-color: white'><tr><th>transaction_id</th><th>item</th><th>quantity</th><th>price_per_unit</th><th>total_spent</th><th>payment_method</th><th>location</th><th>transaction_date</th></tr></thead><tbody><tr><td>TXN_2548360</td><td>Salad</td><td>5.0</td><td>5.0</td><td>25.0</td><td>Cash</td><td>Takeaway</td><td>07.11.2023</td></tr><tr><td>TXN3160411</td><td>Coffee</td><td>2.0</td><td>2.0</td><td>4.0</td><td>Digital Wallet</td><td>In-store</td><td>11.06.2023</td></tr><tr><td>TXN4271903</td><td>Cookie</td><td>4.0</td><td>1.0</td><td>4.0</td><td>Credit Card</td><td>In-store</td><td>19.07.2023</td></tr><tr><td>TXN_1000555</td><td>Tea</td><td>1.0</td><td>1.5</td><td>1.5</td><td>Credit Card</td><td>In-store</td><td>19.10.2023</td></tr><tr><td>TXN_1002457</td><td>Cookie</td><td>5.0</td><td>1.0</td><td>5.0</td><td>Digital Wallet</td><td>Takeaway</td><td>29.09.2023</td></tr><tr><td>TXN_1004184</td><td>Smoothie</td><td>1.0</td><td>4.0</td><td>4.0</td><td>Credit Card</td><td>In-store</td><td>18.05.2023</td></tr><tr><td>TXN_1004563</td><td>Tea</td><td>5.0</td><td>1.5</td><td>7.5</td><td>Credit Card</td><td>In-store</td><td>28.10.2023</td></tr><tr><td>TXN_1005331</td><td>Coffee</td><td>1.0</td><td>2.0</td><td>2.0</td><td>Digital Wallet</td><td>Takeaway</td><td>04.11.2023</td></tr><tr><td>TXN_1005377</td><td>Cake</td><td>5.0</td><td>3.0</td><td>15.0</td><td>Digital Wallet</td><td>Takeaway</td><td>03.06.2023</td></tr><tr><td>TXN_1006942</td><td>Salad</td><td>1.0</td><td>5.0</td><td>5.0</td><td>Credit Card</td><td>In-store</td><td>30.11.2023</td></tr></tbody></table></div>"
      ]
     },
     "metadata": {
      "application/vnd.databricks.v1+output": {
       "addedWidgets": {},
       "aggData": [],
       "aggError": "",
       "aggOverflow": false,
       "aggSchema": [],
       "aggSeriesLimitReached": false,
       "aggType": "",
       "arguments": {},
       "columnCustomDisplayInfos": {},
       "data": [
        [
         "TXN_2548360",
         "Salad",
         "5.0",
         "5.0",
         "25.0",
         "Cash",
         "Takeaway",
         "07.11.2023"
        ],
        [
         "TXN3160411",
         "Coffee",
         "2.0",
         "2.0",
         "4.0",
         "Digital Wallet",
         "In-store",
         "11.06.2023"
        ],
        [
         "TXN4271903",
         "Cookie",
         "4.0",
         "1.0",
         "4.0",
         "Credit Card",
         "In-store",
         "19.07.2023"
        ],
        [
         "TXN_1000555",
         "Tea",
         "1.0",
         "1.5",
         "1.5",
         "Credit Card",
         "In-store",
         "19.10.2023"
        ],
        [
         "TXN_1002457",
         "Cookie",
         "5.0",
         "1.0",
         "5.0",
         "Digital Wallet",
         "Takeaway",
         "29.09.2023"
        ],
        [
         "TXN_1004184",
         "Smoothie",
         "1.0",
         "4.0",
         "4.0",
         "Credit Card",
         "In-store",
         "18.05.2023"
        ],
        [
         "TXN_1004563",
         "Tea",
         "5.0",
         "1.5",
         "7.5",
         "Credit Card",
         "In-store",
         "28.10.2023"
        ],
        [
         "TXN_1005331",
         "Coffee",
         "1.0",
         "2.0",
         "2.0",
         "Digital Wallet",
         "Takeaway",
         "04.11.2023"
        ],
        [
         "TXN_1005377",
         "Cake",
         "5.0",
         "3.0",
         "15.0",
         "Digital Wallet",
         "Takeaway",
         "03.06.2023"
        ],
        [
         "TXN_1006942",
         "Salad",
         "1.0",
         "5.0",
         "5.0",
         "Credit Card",
         "In-store",
         "30.11.2023"
        ]
       ],
       "datasetInfos": [],
       "dbfsResultPath": null,
       "isJsonSchema": true,
       "metadata": {},
       "overflow": false,
       "plotOptions": {
        "customPlotOptions": {},
        "displayType": "table",
        "pivotAggregation": null,
        "pivotColumns": null,
        "xColumns": null,
        "yColumns": null
       },
       "removedWidgets": [],
       "schema": [
        {
         "metadata": "{}",
         "name": "transaction_id",
         "type": "\"string\""
        },
        {
         "metadata": "{}",
         "name": "item",
         "type": "\"string\""
        },
        {
         "metadata": "{}",
         "name": "quantity",
         "type": "\"string\""
        },
        {
         "metadata": "{}",
         "name": "price_per_unit",
         "type": "\"string\""
        },
        {
         "metadata": "{}",
         "name": "total_spent",
         "type": "\"string\""
        },
        {
         "metadata": "{}",
         "name": "payment_method",
         "type": "\"string\""
        },
        {
         "metadata": "{}",
         "name": "location",
         "type": "\"string\""
        },
        {
         "metadata": "{}",
         "name": "transaction_date",
         "type": "\"string\""
        }
       ],
       "type": "table"
      }
     },
     "output_type": "display_data"
    }
   ],
   "source": [
    "# List of STRING columns to remove internal whitespace (exclude PAYMENT_METHOD and numeric columns)\n",
    "numeric_columns = [\"quantity\", \"price_per_unit\", \"total_spent\"]\n",
    "columns_to_clean = [\n",
    "    col_name for col_name in df_trimmed.columns \n",
    "    if col_name not in [\"payment_method\"] + numeric_columns\n",
    "]\n",
    "\n",
    "# Remove ALL internal whitespace from specified STRING columns\n",
    "df_cleaned = df_trimmed\n",
    "for column in columns_to_clean:\n",
    "    df_cleaned = df_cleaned.withColumn(\n",
    "        column, \n",
    "        regexp_replace(col(column), r'\\s+', '')  # Replace all whitespace with empty string\n",
    "    )\n",
    "\n",
    "print(f\"✅ Removed internal whitespace from STRING columns (except payment_method)\")\n",
    "display(df_cleaned.limit(10))\n"
   ]
  },
  {
   "cell_type": "code",
   "execution_count": 0,
   "metadata": {
    "application/vnd.databricks.v1+cell": {
     "cellMetadata": {
      "byteLimit": 2048000,
      "rowLimit": 10000
     },
     "inputWidgets": {},
     "nuid": "4581b6fc-8830-4581-ac71-02b27993fb13",
     "showTitle": false,
     "tableResultSettingsMap": {},
     "title": ""
    }
   },
   "outputs": [
    {
     "output_type": "stream",
     "name": "stdout",
     "output_type": "stream",
     "text": [
      "✅ Bronze2 table updated with whitespace-cleaned data\nFinal row count: 3556\n"
     ]
    }
   ],
   "source": [
    "# Clear cache before writing to avoid schema analysis issues\n",
    "spark.catalog.clearCache()\n",
    "\n",
    "# Overwrite Bronze2 Delta Table with whitespace-cleaned data\n",
    "df_cleaned.write \\\n",
    "    .format(\"delta\") \\\n",
    "    .mode(\"overwrite\") \\\n",
    "    .option(\"overwriteSchema\", \"true\") \\\n",
    "    .save(bronze2_path)\n",
    "\n",
    "print(f\"✅ Bronze2 table updated with whitespace-cleaned data\")\n",
    "print(f\"Final row count: {df_cleaned.count()}\")\n"
   ]
  },
  {
   "cell_type": "code",
   "execution_count": 0,
   "metadata": {
    "application/vnd.databricks.v1+cell": {
     "cellMetadata": {
      "byteLimit": 2048000,
      "rowLimit": 10000
     },
     "inputWidgets": {},
     "nuid": "0ac9c179-c044-47af-879b-1fea8aadcf7a",
     "showTitle": false,
     "tableResultSettingsMap": {
      "0": {
       "dataGridStateBlob": "{\"version\":1,\"tableState\":{\"columnPinning\":{\"left\":[\"#row_number#\"],\"right\":[]},\"columnSizing\":{},\"columnVisibility\":{}},\"settings\":{\"columns\":{}},\"syncTimestamp\":1761576405171}",
       "filterBlob": null,
       "queryPlanFiltersBlob": null,
       "tableResultIndex": 0
      }
     },
     "title": ""
    }
   },
   "outputs": [
    {
     "output_type": "stream",
     "name": "stdout",
     "output_type": "stream",
     "text": [
      "✅ Catalog cache refreshed for Bronze2\n\n=== Sample cleaned data from Bronze2 ===\n"
     ]
    },
    {
     "output_type": "display_data",
     "data": {
      "text/html": [
       "<style scoped>\n",
       "  .table-result-container {\n",
       "    max-height: 300px;\n",
       "    overflow: auto;\n",
       "  }\n",
       "  table, th, td {\n",
       "    border: 1px solid black;\n",
       "    border-collapse: collapse;\n",
       "  }\n",
       "  th, td {\n",
       "    padding: 5px;\n",
       "  }\n",
       "  th {\n",
       "    text-align: left;\n",
       "  }\n",
       "</style><div class='table-result-container'><table class='table-result'><thead style='background-color: white'><tr><th>transaction_id</th><th>item</th><th>quantity</th><th>price_per_unit</th><th>total_spent</th><th>payment_method</th><th>location</th><th>transaction_date</th></tr></thead><tbody><tr><td>TXN_2548360</td><td>Salad</td><td>5.0</td><td>5.0</td><td>25.0</td><td>Cash</td><td>Takeaway</td><td>07.11.2023</td></tr><tr><td>TXN3160411</td><td>Coffee</td><td>2.0</td><td>2.0</td><td>4.0</td><td>Digital Wallet</td><td>In-store</td><td>11.06.2023</td></tr><tr><td>TXN4271903</td><td>Cookie</td><td>4.0</td><td>1.0</td><td>4.0</td><td>Credit Card</td><td>In-store</td><td>19.07.2023</td></tr><tr><td>TXN_1000555</td><td>Tea</td><td>1.0</td><td>1.5</td><td>1.5</td><td>Credit Card</td><td>In-store</td><td>19.10.2023</td></tr><tr><td>TXN_1002457</td><td>Cookie</td><td>5.0</td><td>1.0</td><td>5.0</td><td>Digital Wallet</td><td>Takeaway</td><td>29.09.2023</td></tr><tr><td>TXN_1004184</td><td>Smoothie</td><td>1.0</td><td>4.0</td><td>4.0</td><td>Credit Card</td><td>In-store</td><td>18.05.2023</td></tr><tr><td>TXN_1004563</td><td>Tea</td><td>5.0</td><td>1.5</td><td>7.5</td><td>Credit Card</td><td>In-store</td><td>28.10.2023</td></tr><tr><td>TXN_1005331</td><td>Coffee</td><td>1.0</td><td>2.0</td><td>2.0</td><td>Digital Wallet</td><td>Takeaway</td><td>04.11.2023</td></tr><tr><td>TXN_1005377</td><td>Cake</td><td>5.0</td><td>3.0</td><td>15.0</td><td>Digital Wallet</td><td>Takeaway</td><td>03.06.2023</td></tr><tr><td>TXN_1006942</td><td>Salad</td><td>1.0</td><td>5.0</td><td>5.0</td><td>Credit Card</td><td>In-store</td><td>30.11.2023</td></tr><tr><td>TXN_1007347</td><td>Salad</td><td>4.0</td><td>5.0</td><td>20.0</td><td>Digital Wallet</td><td>In-store</td><td>28.08.2023</td></tr><tr><td>TXN_1009421</td><td>Cookie</td><td>4.0</td><td>1.0</td><td>4.0</td><td>Cash</td><td>Takeaway</td><td>21.02.2023</td></tr><tr><td>TXN_1010950</td><td>Cookie</td><td>1.0</td><td>1.0</td><td>1.0</td><td>Digital Wallet</td><td>Takeaway</td><td>07.01.2023</td></tr><tr><td>TXN_1011236</td><td>Cake</td><td>1.0</td><td>3.0</td><td>3.0</td><td>Cash</td><td>In-store</td><td>08.02.2023</td></tr><tr><td>TXN_1015883</td><td>Cookie</td><td>4.0</td><td>1.0</td><td>4.0</td><td>Cash</td><td>In-store</td><td>16.10.2023</td></tr><tr><td>TXN_1020478</td><td>Coffee</td><td>1.0</td><td>2.0</td><td>2.0</td><td>Digital Wallet</td><td>Takeaway</td><td>09.03.2023</td></tr><tr><td>TXN_1022523</td><td>Salad</td><td>4.0</td><td>5.0</td><td>20.0</td><td>Cash</td><td>In-store</td><td>25.11.2023</td></tr><tr><td>TXN_1026827</td><td>Cookie</td><td>4.0</td><td>1.0</td><td>4.0</td><td>Digital Wallet</td><td>In-store</td><td>02.01.2023</td></tr><tr><td>TXN_1035504</td><td>Smoothie</td><td>2.0</td><td>4.0</td><td>8.0</td><td>Digital Wallet</td><td>Takeaway</td><td>30.03.2023</td></tr><tr><td>TXN_1040764</td><td>Coffee</td><td>3.0</td><td>2.0</td><td>6.0</td><td>Cash</td><td>Takeaway</td><td>27.07.2023</td></tr></tbody></table></div>"
      ]
     },
     "metadata": {
      "application/vnd.databricks.v1+output": {
       "addedWidgets": {},
       "aggData": [],
       "aggError": "",
       "aggOverflow": false,
       "aggSchema": [],
       "aggSeriesLimitReached": false,
       "aggType": "",
       "arguments": {},
       "columnCustomDisplayInfos": {},
       "data": [
        [
         "TXN_2548360",
         "Salad",
         "5.0",
         "5.0",
         "25.0",
         "Cash",
         "Takeaway",
         "07.11.2023"
        ],
        [
         "TXN3160411",
         "Coffee",
         "2.0",
         "2.0",
         "4.0",
         "Digital Wallet",
         "In-store",
         "11.06.2023"
        ],
        [
         "TXN4271903",
         "Cookie",
         "4.0",
         "1.0",
         "4.0",
         "Credit Card",
         "In-store",
         "19.07.2023"
        ],
        [
         "TXN_1000555",
         "Tea",
         "1.0",
         "1.5",
         "1.5",
         "Credit Card",
         "In-store",
         "19.10.2023"
        ],
        [
         "TXN_1002457",
         "Cookie",
         "5.0",
         "1.0",
         "5.0",
         "Digital Wallet",
         "Takeaway",
         "29.09.2023"
        ],
        [
         "TXN_1004184",
         "Smoothie",
         "1.0",
         "4.0",
         "4.0",
         "Credit Card",
         "In-store",
         "18.05.2023"
        ],
        [
         "TXN_1004563",
         "Tea",
         "5.0",
         "1.5",
         "7.5",
         "Credit Card",
         "In-store",
         "28.10.2023"
        ],
        [
         "TXN_1005331",
         "Coffee",
         "1.0",
         "2.0",
         "2.0",
         "Digital Wallet",
         "Takeaway",
         "04.11.2023"
        ],
        [
         "TXN_1005377",
         "Cake",
         "5.0",
         "3.0",
         "15.0",
         "Digital Wallet",
         "Takeaway",
         "03.06.2023"
        ],
        [
         "TXN_1006942",
         "Salad",
         "1.0",
         "5.0",
         "5.0",
         "Credit Card",
         "In-store",
         "30.11.2023"
        ],
        [
         "TXN_1007347",
         "Salad",
         "4.0",
         "5.0",
         "20.0",
         "Digital Wallet",
         "In-store",
         "28.08.2023"
        ],
        [
         "TXN_1009421",
         "Cookie",
         "4.0",
         "1.0",
         "4.0",
         "Cash",
         "Takeaway",
         "21.02.2023"
        ],
        [
         "TXN_1010950",
         "Cookie",
         "1.0",
         "1.0",
         "1.0",
         "Digital Wallet",
         "Takeaway",
         "07.01.2023"
        ],
        [
         "TXN_1011236",
         "Cake",
         "1.0",
         "3.0",
         "3.0",
         "Cash",
         "In-store",
         "08.02.2023"
        ],
        [
         "TXN_1015883",
         "Cookie",
         "4.0",
         "1.0",
         "4.0",
         "Cash",
         "In-store",
         "16.10.2023"
        ],
        [
         "TXN_1020478",
         "Coffee",
         "1.0",
         "2.0",
         "2.0",
         "Digital Wallet",
         "Takeaway",
         "09.03.2023"
        ],
        [
         "TXN_1022523",
         "Salad",
         "4.0",
         "5.0",
         "20.0",
         "Cash",
         "In-store",
         "25.11.2023"
        ],
        [
         "TXN_1026827",
         "Cookie",
         "4.0",
         "1.0",
         "4.0",
         "Digital Wallet",
         "In-store",
         "02.01.2023"
        ],
        [
         "TXN_1035504",
         "Smoothie",
         "2.0",
         "4.0",
         "8.0",
         "Digital Wallet",
         "Takeaway",
         "30.03.2023"
        ],
        [
         "TXN_1040764",
         "Coffee",
         "3.0",
         "2.0",
         "6.0",
         "Cash",
         "Takeaway",
         "27.07.2023"
        ]
       ],
       "datasetInfos": [],
       "dbfsResultPath": null,
       "isJsonSchema": true,
       "metadata": {},
       "overflow": false,
       "plotOptions": {
        "customPlotOptions": {},
        "displayType": "table",
        "pivotAggregation": null,
        "pivotColumns": null,
        "xColumns": null,
        "yColumns": null
       },
       "removedWidgets": [],
       "schema": [
        {
         "metadata": "{}",
         "name": "transaction_id",
         "type": "\"string\""
        },
        {
         "metadata": "{}",
         "name": "item",
         "type": "\"string\""
        },
        {
         "metadata": "{}",
         "name": "quantity",
         "type": "\"string\""
        },
        {
         "metadata": "{}",
         "name": "price_per_unit",
         "type": "\"string\""
        },
        {
         "metadata": "{}",
         "name": "total_spent",
         "type": "\"string\""
        },
        {
         "metadata": "{}",
         "name": "payment_method",
         "type": "\"string\""
        },
        {
         "metadata": "{}",
         "name": "location",
         "type": "\"string\""
        },
        {
         "metadata": "{}",
         "name": "transaction_date",
         "type": "\"string\""
        }
       ],
       "type": "table"
      }
     },
     "output_type": "display_data"
    }
   ],
   "source": [
    "# Refresh catalog and verify changes for Bronze2\n",
    "from pyspark.sql.functions import length, col\n",
    "\n",
    "# Refresh catalog cache for Bronze2 table\n",
    "spark.catalog.refreshTable(\"cafe_sales_bronze2\")\n",
    "print(\"✅ Catalog cache refreshed for Bronze2\")\n",
    "\n",
    "# Read back from Bronze2 to verify changes\n",
    "df_verify = spark.read.format(\"delta\").load(bronze2_path)\n",
    "\n",
    "# Display sample cleaned data from Bronze2\n",
    "print(\"\\n=== Sample cleaned data from Bronze2 ===\")\n",
    "display(df_verify.limit(20))\n"
   ]
  }
 ],
 "metadata": {
  "application/vnd.databricks.v1+notebook": {
   "computePreferences": null,
   "dashboards": [],
   "environmentMetadata": {
    "base_environment": "",
    "environment_version": "4"
   },
   "inputWidgetPreferences": null,
   "language": "python",
   "notebookMetadata": {
    "pythonIndentUnit": 4
   },
   "notebookName": "04-remove-whitespaces",
   "widgets": {}
  },
  "language_info": {
   "name": "python"
  }
 },
 "nbformat": 4,
 "nbformat_minor": 0
}