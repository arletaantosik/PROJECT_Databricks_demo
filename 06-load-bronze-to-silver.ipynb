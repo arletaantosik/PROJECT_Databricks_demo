{
 "cells": [
  {
   "cell_type": "code",
   "execution_count": 0,
   "metadata": {
    "application/vnd.databricks.v1+cell": {
     "cellMetadata": {
      "byteLimit": 2048000,
      "rowLimit": 10000
     },
     "inputWidgets": {},
     "nuid": "ec0fbf0a-1844-4269-b10e-68c8e6757add",
     "showTitle": false,
     "tableResultSettingsMap": {},
     "title": ""
    }
   },
   "outputs": [
    {
     "output_type": "stream",
     "name": "stdout",
     "output_type": "stream",
     "text": [
      "Initial row count (Bronze2): 3555\n"
     ]
    },
    {
     "output_type": "display_data",
     "data": {
      "text/html": [
       "<style scoped>\n",
       "  .table-result-container {\n",
       "    max-height: 300px;\n",
       "    overflow: auto;\n",
       "  }\n",
       "  table, th, td {\n",
       "    border: 1px solid black;\n",
       "    border-collapse: collapse;\n",
       "  }\n",
       "  th, td {\n",
       "    padding: 5px;\n",
       "  }\n",
       "  th {\n",
       "    text-align: left;\n",
       "  }\n",
       "</style><div class='table-result-container'><table class='table-result'><thead style='background-color: white'><tr><th>transaction_id</th><th>item</th><th>quantity</th><th>price_per_unit</th><th>total_spent</th><th>payment_method</th><th>location</th><th>transaction_date</th></tr></thead><tbody><tr><td>TXN_2548360</td><td>Salad</td><td>5.0</td><td>5.0</td><td>25.0</td><td>Cash</td><td>Takeaway</td><td>07-11-2023</td></tr><tr><td>TXN_3160411</td><td>Coffee</td><td>2.0</td><td>2.0</td><td>4.0</td><td>no-cash payment</td><td>In-store</td><td>11-06-2023</td></tr><tr><td>TXN_4271903</td><td>Cookie</td><td>4.0</td><td>1.0</td><td>4.0</td><td>no-cash payment</td><td>In-store</td><td>19-07-2023</td></tr><tr><td>TXN_1000555</td><td>Tea</td><td>1.0</td><td>1.5</td><td>1.5</td><td>no-cash payment</td><td>In-store</td><td>19-10-2023</td></tr><tr><td>TXN_1002457</td><td>Cookie</td><td>5.0</td><td>1.0</td><td>5.0</td><td>no-cash payment</td><td>Takeaway</td><td>29-09-2023</td></tr><tr><td>TXN_1004184</td><td>Smoothie</td><td>1.0</td><td>4.0</td><td>4.0</td><td>no-cash payment</td><td>In-store</td><td>18-05-2023</td></tr><tr><td>TXN_1004563</td><td>Tea</td><td>5.0</td><td>1.5</td><td>7.5</td><td>no-cash payment</td><td>In-store</td><td>28-10-2023</td></tr><tr><td>TXN_1005331</td><td>Coffee</td><td>1.0</td><td>2.0</td><td>2.0</td><td>no-cash payment</td><td>Takeaway</td><td>04-11-2023</td></tr><tr><td>TXN_1005377</td><td>Cake</td><td>5.0</td><td>3.0</td><td>15.0</td><td>no-cash payment</td><td>Takeaway</td><td>03-06-2023</td></tr><tr><td>TXN_1006942</td><td>Salad</td><td>1.0</td><td>5.0</td><td>5.0</td><td>no-cash payment</td><td>In-store</td><td>30-11-2023</td></tr></tbody></table></div>"
      ]
     },
     "metadata": {
      "application/vnd.databricks.v1+output": {
       "addedWidgets": {},
       "aggData": [],
       "aggError": "",
       "aggOverflow": false,
       "aggSchema": [],
       "aggSeriesLimitReached": false,
       "aggType": "",
       "arguments": {},
       "columnCustomDisplayInfos": {},
       "data": [
        [
         "TXN_2548360",
         "Salad",
         "5.0",
         "5.0",
         "25.0",
         "Cash",
         "Takeaway",
         "07-11-2023"
        ],
        [
         "TXN_3160411",
         "Coffee",
         "2.0",
         "2.0",
         "4.0",
         "no-cash payment",
         "In-store",
         "11-06-2023"
        ],
        [
         "TXN_4271903",
         "Cookie",
         "4.0",
         "1.0",
         "4.0",
         "no-cash payment",
         "In-store",
         "19-07-2023"
        ],
        [
         "TXN_1000555",
         "Tea",
         "1.0",
         "1.5",
         "1.5",
         "no-cash payment",
         "In-store",
         "19-10-2023"
        ],
        [
         "TXN_1002457",
         "Cookie",
         "5.0",
         "1.0",
         "5.0",
         "no-cash payment",
         "Takeaway",
         "29-09-2023"
        ],
        [
         "TXN_1004184",
         "Smoothie",
         "1.0",
         "4.0",
         "4.0",
         "no-cash payment",
         "In-store",
         "18-05-2023"
        ],
        [
         "TXN_1004563",
         "Tea",
         "5.0",
         "1.5",
         "7.5",
         "no-cash payment",
         "In-store",
         "28-10-2023"
        ],
        [
         "TXN_1005331",
         "Coffee",
         "1.0",
         "2.0",
         "2.0",
         "no-cash payment",
         "Takeaway",
         "04-11-2023"
        ],
        [
         "TXN_1005377",
         "Cake",
         "5.0",
         "3.0",
         "15.0",
         "no-cash payment",
         "Takeaway",
         "03-06-2023"
        ],
        [
         "TXN_1006942",
         "Salad",
         "1.0",
         "5.0",
         "5.0",
         "no-cash payment",
         "In-store",
         "30-11-2023"
        ]
       ],
       "datasetInfos": [],
       "dbfsResultPath": null,
       "isJsonSchema": true,
       "metadata": {},
       "overflow": false,
       "plotOptions": {
        "customPlotOptions": {},
        "displayType": "table",
        "pivotAggregation": null,
        "pivotColumns": null,
        "xColumns": null,
        "yColumns": null
       },
       "removedWidgets": [],
       "schema": [
        {
         "metadata": "{}",
         "name": "transaction_id",
         "type": "\"string\""
        },
        {
         "metadata": "{}",
         "name": "item",
         "type": "\"string\""
        },
        {
         "metadata": "{}",
         "name": "quantity",
         "type": "\"string\""
        },
        {
         "metadata": "{}",
         "name": "price_per_unit",
         "type": "\"string\""
        },
        {
         "metadata": "{}",
         "name": "total_spent",
         "type": "\"string\""
        },
        {
         "metadata": "{}",
         "name": "payment_method",
         "type": "\"string\""
        },
        {
         "metadata": "{}",
         "name": "location",
         "type": "\"string\""
        },
        {
         "metadata": "{}",
         "name": "transaction_date",
         "type": "\"string\""
        }
       ],
       "type": "table"
      }
     },
     "output_type": "display_data"
    }
   ],
   "source": [
    "# Define paths for Bronze2 and Silver tables\n",
    "bronze2_path = \"/mnt/bronze2/cafe_sales\"\n",
    "silver_path = \"/mnt/silver/cafe_sales\"\n",
    "\n",
    "# Read data from Bronze2 Delta Table\n",
    "df_bronze2 = spark.read.format(\"delta\").load(bronze2_path)\n",
    "\n",
    "# Display initial row count and sample data\n",
    "print(f\"Initial row count (Bronze2): {df_bronze2.count()}\")\n",
    "display(df_bronze2.limit(10))\n"
   ]
  },
  {
   "cell_type": "code",
   "execution_count": 0,
   "metadata": {
    "application/vnd.databricks.v1+cell": {
     "cellMetadata": {
      "byteLimit": 2048000,
      "rowLimit": 10000
     },
     "inputWidgets": {},
     "nuid": "437ed381-ed56-4ec8-bb0a-c79d50e47579",
     "showTitle": false,
     "tableResultSettingsMap": {},
     "title": ""
    }
   },
   "outputs": [
    {
     "output_type": "stream",
     "name": "stdout",
     "output_type": "stream",
     "text": [
      "✅ Type conversions applied:\n   - transaction_id: STRING\n   - item: STRING\n   - quantity: INTEGER\n   - price_per_unit: DECIMAL(5,2)\n   - total_spent: DECIMAL(7,2)\n   - payment_method: STRING\n   - location: STRING\n   - transaction_date: DATE\n\nRow count after conversion: 3555\n"
     ]
    },
    {
     "output_type": "display_data",
     "data": {
      "text/html": [
       "<style scoped>\n",
       "  .table-result-container {\n",
       "    max-height: 300px;\n",
       "    overflow: auto;\n",
       "  }\n",
       "  table, th, td {\n",
       "    border: 1px solid black;\n",
       "    border-collapse: collapse;\n",
       "  }\n",
       "  th, td {\n",
       "    padding: 5px;\n",
       "  }\n",
       "  th {\n",
       "    text-align: left;\n",
       "  }\n",
       "</style><div class='table-result-container'><table class='table-result'><thead style='background-color: white'><tr><th>transaction_id</th><th>item</th><th>quantity</th><th>price_per_unit</th><th>total_spent</th><th>payment_method</th><th>location</th><th>transaction_date</th></tr></thead><tbody><tr><td>TXN_2548360</td><td>Salad</td><td>5</td><td>5.00</td><td>25.00</td><td>Cash</td><td>Takeaway</td><td>2023-11-07</td></tr><tr><td>TXN_3160411</td><td>Coffee</td><td>2</td><td>2.00</td><td>4.00</td><td>no-cash payment</td><td>In-store</td><td>2023-06-11</td></tr><tr><td>TXN_4271903</td><td>Cookie</td><td>4</td><td>1.00</td><td>4.00</td><td>no-cash payment</td><td>In-store</td><td>2023-07-19</td></tr><tr><td>TXN_1000555</td><td>Tea</td><td>1</td><td>1.50</td><td>1.50</td><td>no-cash payment</td><td>In-store</td><td>2023-10-19</td></tr><tr><td>TXN_1002457</td><td>Cookie</td><td>5</td><td>1.00</td><td>5.00</td><td>no-cash payment</td><td>Takeaway</td><td>2023-09-29</td></tr><tr><td>TXN_1004184</td><td>Smoothie</td><td>1</td><td>4.00</td><td>4.00</td><td>no-cash payment</td><td>In-store</td><td>2023-05-18</td></tr><tr><td>TXN_1004563</td><td>Tea</td><td>5</td><td>1.50</td><td>7.50</td><td>no-cash payment</td><td>In-store</td><td>2023-10-28</td></tr><tr><td>TXN_1005331</td><td>Coffee</td><td>1</td><td>2.00</td><td>2.00</td><td>no-cash payment</td><td>Takeaway</td><td>2023-11-04</td></tr><tr><td>TXN_1005377</td><td>Cake</td><td>5</td><td>3.00</td><td>15.00</td><td>no-cash payment</td><td>Takeaway</td><td>2023-06-03</td></tr><tr><td>TXN_1006942</td><td>Salad</td><td>1</td><td>5.00</td><td>5.00</td><td>no-cash payment</td><td>In-store</td><td>2023-11-30</td></tr></tbody></table></div>"
      ]
     },
     "metadata": {
      "application/vnd.databricks.v1+output": {
       "addedWidgets": {},
       "aggData": [],
       "aggError": "",
       "aggOverflow": false,
       "aggSchema": [],
       "aggSeriesLimitReached": false,
       "aggType": "",
       "arguments": {},
       "columnCustomDisplayInfos": {},
       "data": [
        [
         "TXN_2548360",
         "Salad",
         5,
         "5.00",
         "25.00",
         "Cash",
         "Takeaway",
         "2023-11-07"
        ],
        [
         "TXN_3160411",
         "Coffee",
         2,
         "2.00",
         "4.00",
         "no-cash payment",
         "In-store",
         "2023-06-11"
        ],
        [
         "TXN_4271903",
         "Cookie",
         4,
         "1.00",
         "4.00",
         "no-cash payment",
         "In-store",
         "2023-07-19"
        ],
        [
         "TXN_1000555",
         "Tea",
         1,
         "1.50",
         "1.50",
         "no-cash payment",
         "In-store",
         "2023-10-19"
        ],
        [
         "TXN_1002457",
         "Cookie",
         5,
         "1.00",
         "5.00",
         "no-cash payment",
         "Takeaway",
         "2023-09-29"
        ],
        [
         "TXN_1004184",
         "Smoothie",
         1,
         "4.00",
         "4.00",
         "no-cash payment",
         "In-store",
         "2023-05-18"
        ],
        [
         "TXN_1004563",
         "Tea",
         5,
         "1.50",
         "7.50",
         "no-cash payment",
         "In-store",
         "2023-10-28"
        ],
        [
         "TXN_1005331",
         "Coffee",
         1,
         "2.00",
         "2.00",
         "no-cash payment",
         "Takeaway",
         "2023-11-04"
        ],
        [
         "TXN_1005377",
         "Cake",
         5,
         "3.00",
         "15.00",
         "no-cash payment",
         "Takeaway",
         "2023-06-03"
        ],
        [
         "TXN_1006942",
         "Salad",
         1,
         "5.00",
         "5.00",
         "no-cash payment",
         "In-store",
         "2023-11-30"
        ]
       ],
       "datasetInfos": [],
       "dbfsResultPath": null,
       "isJsonSchema": true,
       "metadata": {},
       "overflow": false,
       "plotOptions": {
        "customPlotOptions": {},
        "displayType": "table",
        "pivotAggregation": null,
        "pivotColumns": null,
        "xColumns": null,
        "yColumns": null
       },
       "removedWidgets": [],
       "schema": [
        {
         "metadata": "{}",
         "name": "transaction_id",
         "type": "\"string\""
        },
        {
         "metadata": "{}",
         "name": "item",
         "type": "\"string\""
        },
        {
         "metadata": "{}",
         "name": "quantity",
         "type": "\"integer\""
        },
        {
         "metadata": "{}",
         "name": "price_per_unit",
         "type": "\"decimal(5,2)\""
        },
        {
         "metadata": "{}",
         "name": "total_spent",
         "type": "\"decimal(7,2)\""
        },
        {
         "metadata": "{}",
         "name": "payment_method",
         "type": "\"string\""
        },
        {
         "metadata": "{}",
         "name": "location",
         "type": "\"string\""
        },
        {
         "metadata": "{}",
         "name": "transaction_date",
         "type": "\"date\""
        }
       ],
       "type": "table"
      }
     },
     "output_type": "display_data"
    }
   ],
   "source": [
    "from pyspark.sql.functions import col, to_date\n",
    "from pyspark.sql.types import StringType, IntegerType, DecimalType, DateType\n",
    "\n",
    "# Apply type conversions to create Silver layer data\n",
    "df_silver = df_bronze2.select(\n",
    "    col(\"transaction_id\").cast(StringType()),\n",
    "    col(\"item\").cast(StringType()),\n",
    "    col(\"quantity\").cast(IntegerType()),\n",
    "    col(\"price_per_unit\").cast(DecimalType(5, 2)),\n",
    "    col(\"total_spent\").cast(DecimalType(7, 2)),\n",
    "    col(\"payment_method\").cast(StringType()),\n",
    "    col(\"location\").cast(StringType()),\n",
    "    to_date(col(\"transaction_date\"), \"dd-MM-yyyy\").alias(\"transaction_date\")\n",
    ")\n",
    "\n",
    "print(\"✅ Type conversions applied:\")\n",
    "print(\"   - transaction_id: STRING\")\n",
    "print(\"   - item: STRING\")\n",
    "print(\"   - quantity: INTEGER\")\n",
    "print(\"   - price_per_unit: DECIMAL(5,2)\")\n",
    "print(\"   - total_spent: DECIMAL(7,2)\")\n",
    "print(\"   - payment_method: STRING\")\n",
    "print(\"   - location: STRING\")\n",
    "print(\"   - transaction_date: DATE\")\n",
    "\n",
    "print(f\"\\nRow count after conversion: {df_silver.count()}\")\n",
    "display(df_silver.limit(10))\n"
   ]
  },
  {
   "cell_type": "code",
   "execution_count": 0,
   "metadata": {
    "application/vnd.databricks.v1+cell": {
     "cellMetadata": {
      "byteLimit": 2048000,
      "rowLimit": 10000
     },
     "inputWidgets": {},
     "nuid": "8348d9aa-b3be-44be-abb1-2e35fc2cda92",
     "showTitle": false,
     "tableResultSettingsMap": {},
     "title": ""
    }
   },
   "outputs": [
    {
     "output_type": "stream",
     "name": "stdout",
     "output_type": "stream",
     "text": [
      "=== Silver Layer Schema ===\nroot\n |-- transaction_id: string (nullable = true)\n |-- item: string (nullable = true)\n |-- quantity: integer (nullable = true)\n |-- price_per_unit: decimal(5,2) (nullable = true)\n |-- total_spent: decimal(7,2) (nullable = true)\n |-- payment_method: string (nullable = true)\n |-- location: string (nullable = true)\n |-- transaction_date: date (nullable = true)\n\n"
     ]
    }
   ],
   "source": [
    "# Display schema to verify data types\n",
    "print(\"=== Silver Layer Schema ===\")\n",
    "df_silver.printSchema()\n"
   ]
  },
  {
   "cell_type": "code",
   "execution_count": 0,
   "metadata": {
    "application/vnd.databricks.v1+cell": {
     "cellMetadata": {
      "byteLimit": 2048000,
      "rowLimit": 10000
     },
     "inputWidgets": {},
     "nuid": "6b27a129-58d5-4189-a877-4525606c910a",
     "showTitle": false,
     "tableResultSettingsMap": {},
     "title": ""
    }
   },
   "outputs": [
    {
     "output_type": "stream",
     "name": "stdout",
     "output_type": "stream",
     "text": [
      "✅ External table 'cafe_sales_silver' created in catalog\n✅ Delta files saved to: /mnt/silver/cafe_sales\nFinal row count: 3555\n✅ Type conversions: STRING, INTEGER, DECIMAL, DATE\n"
     ]
    }
   ],
   "source": [
    "# Clear cache before writing to avoid schema analysis issues\n",
    "spark.catalog.clearCache()\n",
    "\n",
    "# Write to Silver Delta Table with both path and catalog registration\n",
    "df_silver.write \\\n",
    "    .format(\"delta\") \\\n",
    "    .mode(\"overwrite\") \\\n",
    "    .option(\"overwriteSchema\", \"true\") \\\n",
    "    .option(\"path\", silver_path) \\\n",
    "    .saveAsTable(\"cafe_sales_silver\")\n",
    "\n",
    "print(f\"✅ External table 'cafe_sales_silver' created in catalog\")\n",
    "print(f\"✅ Delta files saved to: {silver_path}\")\n",
    "print(f\"Final row count: {df_silver.count()}\")\n",
    "print(f\"✅ Type conversions: STRING, INTEGER, DECIMAL, DATE\")\n"
   ]
  },
  {
   "cell_type": "code",
   "execution_count": 0,
   "metadata": {
    "application/vnd.databricks.v1+cell": {
     "cellMetadata": {
      "byteLimit": 2048000,
      "rowLimit": 10000
     },
     "inputWidgets": {},
     "nuid": "5a1e2adf-e4fc-4fcf-b926-5028b4536f6b",
     "showTitle": false,
     "tableResultSettingsMap": {},
     "title": ""
    }
   },
   "outputs": [
    {
     "output_type": "stream",
     "name": "stdout",
     "output_type": "stream",
     "text": [
      "✅ Catalog cache refreshed for Silver\n\n=== Sample data from Silver table ===\n"
     ]
    },
    {
     "output_type": "display_data",
     "data": {
      "text/html": [
       "<style scoped>\n",
       "  .table-result-container {\n",
       "    max-height: 300px;\n",
       "    overflow: auto;\n",
       "  }\n",
       "  table, th, td {\n",
       "    border: 1px solid black;\n",
       "    border-collapse: collapse;\n",
       "  }\n",
       "  th, td {\n",
       "    padding: 5px;\n",
       "  }\n",
       "  th {\n",
       "    text-align: left;\n",
       "  }\n",
       "</style><div class='table-result-container'><table class='table-result'><thead style='background-color: white'><tr><th>transaction_id</th><th>item</th><th>quantity</th><th>price_per_unit</th><th>total_spent</th><th>payment_method</th><th>location</th><th>transaction_date</th></tr></thead><tbody><tr><td>TXN_2548360</td><td>Salad</td><td>5</td><td>5.00</td><td>25.00</td><td>Cash</td><td>Takeaway</td><td>2023-11-07</td></tr><tr><td>TXN_3160411</td><td>Coffee</td><td>2</td><td>2.00</td><td>4.00</td><td>no-cash payment</td><td>In-store</td><td>2023-06-11</td></tr><tr><td>TXN_4271903</td><td>Cookie</td><td>4</td><td>1.00</td><td>4.00</td><td>no-cash payment</td><td>In-store</td><td>2023-07-19</td></tr><tr><td>TXN_1000555</td><td>Tea</td><td>1</td><td>1.50</td><td>1.50</td><td>no-cash payment</td><td>In-store</td><td>2023-10-19</td></tr><tr><td>TXN_1002457</td><td>Cookie</td><td>5</td><td>1.00</td><td>5.00</td><td>no-cash payment</td><td>Takeaway</td><td>2023-09-29</td></tr><tr><td>TXN_1004184</td><td>Smoothie</td><td>1</td><td>4.00</td><td>4.00</td><td>no-cash payment</td><td>In-store</td><td>2023-05-18</td></tr><tr><td>TXN_1004563</td><td>Tea</td><td>5</td><td>1.50</td><td>7.50</td><td>no-cash payment</td><td>In-store</td><td>2023-10-28</td></tr><tr><td>TXN_1005331</td><td>Coffee</td><td>1</td><td>2.00</td><td>2.00</td><td>no-cash payment</td><td>Takeaway</td><td>2023-11-04</td></tr><tr><td>TXN_1005377</td><td>Cake</td><td>5</td><td>3.00</td><td>15.00</td><td>no-cash payment</td><td>Takeaway</td><td>2023-06-03</td></tr><tr><td>TXN_1006942</td><td>Salad</td><td>1</td><td>5.00</td><td>5.00</td><td>no-cash payment</td><td>In-store</td><td>2023-11-30</td></tr><tr><td>TXN_1007347</td><td>Salad</td><td>4</td><td>5.00</td><td>20.00</td><td>no-cash payment</td><td>In-store</td><td>2023-08-28</td></tr><tr><td>TXN_1009421</td><td>Cookie</td><td>4</td><td>1.00</td><td>4.00</td><td>Cash</td><td>Takeaway</td><td>2023-02-21</td></tr><tr><td>TXN_1010950</td><td>Cookie</td><td>1</td><td>1.00</td><td>1.00</td><td>no-cash payment</td><td>Takeaway</td><td>2023-01-07</td></tr><tr><td>TXN_1011236</td><td>Cake</td><td>1</td><td>3.00</td><td>3.00</td><td>Cash</td><td>In-store</td><td>2023-02-08</td></tr><tr><td>TXN_1015883</td><td>Cookie</td><td>4</td><td>1.00</td><td>4.00</td><td>Cash</td><td>In-store</td><td>2023-10-16</td></tr><tr><td>TXN_1020478</td><td>Coffee</td><td>1</td><td>2.00</td><td>2.00</td><td>no-cash payment</td><td>Takeaway</td><td>2023-03-09</td></tr><tr><td>TXN_1022523</td><td>Salad</td><td>4</td><td>5.00</td><td>20.00</td><td>Cash</td><td>In-store</td><td>2023-11-25</td></tr><tr><td>TXN_1026827</td><td>Cookie</td><td>4</td><td>1.00</td><td>4.00</td><td>no-cash payment</td><td>In-store</td><td>2023-01-02</td></tr><tr><td>TXN_1035504</td><td>Smoothie</td><td>2</td><td>4.00</td><td>8.00</td><td>no-cash payment</td><td>Takeaway</td><td>2023-03-30</td></tr><tr><td>TXN_1040764</td><td>Coffee</td><td>3</td><td>2.00</td><td>6.00</td><td>Cash</td><td>Takeaway</td><td>2023-07-27</td></tr></tbody></table></div>"
      ]
     },
     "metadata": {
      "application/vnd.databricks.v1+output": {
       "addedWidgets": {},
       "aggData": [],
       "aggError": "",
       "aggOverflow": false,
       "aggSchema": [],
       "aggSeriesLimitReached": false,
       "aggType": "",
       "arguments": {},
       "columnCustomDisplayInfos": {},
       "data": [
        [
         "TXN_2548360",
         "Salad",
         5,
         "5.00",
         "25.00",
         "Cash",
         "Takeaway",
         "2023-11-07"
        ],
        [
         "TXN_3160411",
         "Coffee",
         2,
         "2.00",
         "4.00",
         "no-cash payment",
         "In-store",
         "2023-06-11"
        ],
        [
         "TXN_4271903",
         "Cookie",
         4,
         "1.00",
         "4.00",
         "no-cash payment",
         "In-store",
         "2023-07-19"
        ],
        [
         "TXN_1000555",
         "Tea",
         1,
         "1.50",
         "1.50",
         "no-cash payment",
         "In-store",
         "2023-10-19"
        ],
        [
         "TXN_1002457",
         "Cookie",
         5,
         "1.00",
         "5.00",
         "no-cash payment",
         "Takeaway",
         "2023-09-29"
        ],
        [
         "TXN_1004184",
         "Smoothie",
         1,
         "4.00",
         "4.00",
         "no-cash payment",
         "In-store",
         "2023-05-18"
        ],
        [
         "TXN_1004563",
         "Tea",
         5,
         "1.50",
         "7.50",
         "no-cash payment",
         "In-store",
         "2023-10-28"
        ],
        [
         "TXN_1005331",
         "Coffee",
         1,
         "2.00",
         "2.00",
         "no-cash payment",
         "Takeaway",
         "2023-11-04"
        ],
        [
         "TXN_1005377",
         "Cake",
         5,
         "3.00",
         "15.00",
         "no-cash payment",
         "Takeaway",
         "2023-06-03"
        ],
        [
         "TXN_1006942",
         "Salad",
         1,
         "5.00",
         "5.00",
         "no-cash payment",
         "In-store",
         "2023-11-30"
        ],
        [
         "TXN_1007347",
         "Salad",
         4,
         "5.00",
         "20.00",
         "no-cash payment",
         "In-store",
         "2023-08-28"
        ],
        [
         "TXN_1009421",
         "Cookie",
         4,
         "1.00",
         "4.00",
         "Cash",
         "Takeaway",
         "2023-02-21"
        ],
        [
         "TXN_1010950",
         "Cookie",
         1,
         "1.00",
         "1.00",
         "no-cash payment",
         "Takeaway",
         "2023-01-07"
        ],
        [
         "TXN_1011236",
         "Cake",
         1,
         "3.00",
         "3.00",
         "Cash",
         "In-store",
         "2023-02-08"
        ],
        [
         "TXN_1015883",
         "Cookie",
         4,
         "1.00",
         "4.00",
         "Cash",
         "In-store",
         "2023-10-16"
        ],
        [
         "TXN_1020478",
         "Coffee",
         1,
         "2.00",
         "2.00",
         "no-cash payment",
         "Takeaway",
         "2023-03-09"
        ],
        [
         "TXN_1022523",
         "Salad",
         4,
         "5.00",
         "20.00",
         "Cash",
         "In-store",
         "2023-11-25"
        ],
        [
         "TXN_1026827",
         "Cookie",
         4,
         "1.00",
         "4.00",
         "no-cash payment",
         "In-store",
         "2023-01-02"
        ],
        [
         "TXN_1035504",
         "Smoothie",
         2,
         "4.00",
         "8.00",
         "no-cash payment",
         "Takeaway",
         "2023-03-30"
        ],
        [
         "TXN_1040764",
         "Coffee",
         3,
         "2.00",
         "6.00",
         "Cash",
         "Takeaway",
         "2023-07-27"
        ]
       ],
       "datasetInfos": [],
       "dbfsResultPath": null,
       "isJsonSchema": true,
       "metadata": {},
       "overflow": false,
       "plotOptions": {
        "customPlotOptions": {},
        "displayType": "table",
        "pivotAggregation": null,
        "pivotColumns": null,
        "xColumns": null,
        "yColumns": null
       },
       "removedWidgets": [],
       "schema": [
        {
         "metadata": "{}",
         "name": "transaction_id",
         "type": "\"string\""
        },
        {
         "metadata": "{}",
         "name": "item",
         "type": "\"string\""
        },
        {
         "metadata": "{}",
         "name": "quantity",
         "type": "\"integer\""
        },
        {
         "metadata": "{}",
         "name": "price_per_unit",
         "type": "\"decimal(5,2)\""
        },
        {
         "metadata": "{}",
         "name": "total_spent",
         "type": "\"decimal(7,2)\""
        },
        {
         "metadata": "{}",
         "name": "payment_method",
         "type": "\"string\""
        },
        {
         "metadata": "{}",
         "name": "location",
         "type": "\"string\""
        },
        {
         "metadata": "{}",
         "name": "transaction_date",
         "type": "\"date\""
        }
       ],
       "type": "table"
      }
     },
     "output_type": "display_data"
    },
    {
     "output_type": "stream",
     "name": "stdout",
     "output_type": "stream",
     "text": [
      "\n=== Verified Silver Schema ===\nroot\n |-- transaction_id: string (nullable = true)\n |-- item: string (nullable = true)\n |-- quantity: integer (nullable = true)\n |-- price_per_unit: decimal(5,2) (nullable = true)\n |-- total_spent: decimal(7,2) (nullable = true)\n |-- payment_method: string (nullable = true)\n |-- location: string (nullable = true)\n |-- transaction_date: date (nullable = true)\n\n"
     ]
    }
   ],
   "source": [
    "# Refresh catalog and verify changes for Silver table\n",
    "from pyspark.sql.functions import col\n",
    "\n",
    "# Refresh catalog cache for Silver table\n",
    "spark.catalog.refreshTable(\"cafe_sales_silver\")\n",
    "print(\"✅ Catalog cache refreshed for Silver\")\n",
    "\n",
    "# Read back from Silver to verify changes - now using table name\n",
    "df_verify = spark.read.table(\"cafe_sales_silver\")\n",
    "\n",
    "# Display sample data from Silver\n",
    "print(\"\\n=== Sample data from Silver table ===\")\n",
    "display(df_verify.limit(20))\n",
    "\n",
    "# Verify schema\n",
    "print(\"\\n=== Verified Silver Schema ===\")\n",
    "df_verify.printSchema()\n"
   ]
  }
 ],
 "metadata": {
  "application/vnd.databricks.v1+notebook": {
   "computePreferences": null,
   "dashboards": [],
   "environmentMetadata": {
    "base_environment": "",
    "environment_version": "4"
   },
   "inputWidgetPreferences": null,
   "language": "python",
   "notebookMetadata": {
    "pythonIndentUnit": 4
   },
   "notebookName": "06-load-bronze-to-silver",
   "widgets": {}
  },
  "language_info": {
   "name": "python"
  }
 },
 "nbformat": 4,
 "nbformat_minor": 0
}