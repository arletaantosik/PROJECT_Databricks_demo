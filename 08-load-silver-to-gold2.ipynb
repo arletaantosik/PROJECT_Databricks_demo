{
 "cells": [
  {
   "cell_type": "code",
   "execution_count": 0,
   "metadata": {
    "application/vnd.databricks.v1+cell": {
     "cellMetadata": {
      "byteLimit": 2048000,
      "rowLimit": 10000
     },
     "inputWidgets": {},
     "nuid": "4e07fcb3-f966-404e-81a9-211676b2f33e",
     "showTitle": false,
     "tableResultSettingsMap": {},
     "title": ""
    }
   },
   "outputs": [
    {
     "output_type": "stream",
     "name": "stdout",
     "output_type": "stream",
     "text": [
      "Initial row count (Silver): 3555\n"
     ]
    },
    {
     "output_type": "display_data",
     "data": {
      "text/html": [
       "<style scoped>\n",
       "  .table-result-container {\n",
       "    max-height: 300px;\n",
       "    overflow: auto;\n",
       "  }\n",
       "  table, th, td {\n",
       "    border: 1px solid black;\n",
       "    border-collapse: collapse;\n",
       "  }\n",
       "  th, td {\n",
       "    padding: 5px;\n",
       "  }\n",
       "  th {\n",
       "    text-align: left;\n",
       "  }\n",
       "</style><div class='table-result-container'><table class='table-result'><thead style='background-color: white'><tr><th>transaction_id</th><th>item</th><th>quantity</th><th>price_per_unit</th><th>total_spent</th><th>payment_method</th><th>location</th><th>transaction_date</th></tr></thead><tbody><tr><td>TXN_2548360</td><td>Salad</td><td>5</td><td>5.00</td><td>25.00</td><td>Cash</td><td>Takeaway</td><td>2023-11-07</td></tr><tr><td>TXN_3160411</td><td>Coffee</td><td>2</td><td>2.00</td><td>4.00</td><td>no-cash payment</td><td>In-store</td><td>2023-06-11</td></tr><tr><td>TXN_4271903</td><td>Cookie</td><td>4</td><td>1.00</td><td>4.00</td><td>no-cash payment</td><td>In-store</td><td>2023-07-19</td></tr><tr><td>TXN_1000555</td><td>Tea</td><td>1</td><td>1.50</td><td>1.50</td><td>no-cash payment</td><td>In-store</td><td>2023-10-19</td></tr><tr><td>TXN_1002457</td><td>Cookie</td><td>5</td><td>1.00</td><td>5.00</td><td>no-cash payment</td><td>Takeaway</td><td>2023-09-29</td></tr><tr><td>TXN_1004184</td><td>Smoothie</td><td>1</td><td>4.00</td><td>4.00</td><td>no-cash payment</td><td>In-store</td><td>2023-05-18</td></tr><tr><td>TXN_1004563</td><td>Tea</td><td>5</td><td>1.50</td><td>7.50</td><td>no-cash payment</td><td>In-store</td><td>2023-10-28</td></tr><tr><td>TXN_1005331</td><td>Coffee</td><td>1</td><td>2.00</td><td>2.00</td><td>no-cash payment</td><td>Takeaway</td><td>2023-11-04</td></tr><tr><td>TXN_1005377</td><td>Cake</td><td>5</td><td>3.00</td><td>15.00</td><td>no-cash payment</td><td>Takeaway</td><td>2023-06-03</td></tr><tr><td>TXN_1006942</td><td>Salad</td><td>1</td><td>5.00</td><td>5.00</td><td>no-cash payment</td><td>In-store</td><td>2023-11-30</td></tr></tbody></table></div>"
      ]
     },
     "metadata": {
      "application/vnd.databricks.v1+output": {
       "addedWidgets": {},
       "aggData": [],
       "aggError": "",
       "aggOverflow": false,
       "aggSchema": [],
       "aggSeriesLimitReached": false,
       "aggType": "",
       "arguments": {},
       "columnCustomDisplayInfos": {},
       "data": [
        [
         "TXN_2548360",
         "Salad",
         5,
         "5.00",
         "25.00",
         "Cash",
         "Takeaway",
         "2023-11-07"
        ],
        [
         "TXN_3160411",
         "Coffee",
         2,
         "2.00",
         "4.00",
         "no-cash payment",
         "In-store",
         "2023-06-11"
        ],
        [
         "TXN_4271903",
         "Cookie",
         4,
         "1.00",
         "4.00",
         "no-cash payment",
         "In-store",
         "2023-07-19"
        ],
        [
         "TXN_1000555",
         "Tea",
         1,
         "1.50",
         "1.50",
         "no-cash payment",
         "In-store",
         "2023-10-19"
        ],
        [
         "TXN_1002457",
         "Cookie",
         5,
         "1.00",
         "5.00",
         "no-cash payment",
         "Takeaway",
         "2023-09-29"
        ],
        [
         "TXN_1004184",
         "Smoothie",
         1,
         "4.00",
         "4.00",
         "no-cash payment",
         "In-store",
         "2023-05-18"
        ],
        [
         "TXN_1004563",
         "Tea",
         5,
         "1.50",
         "7.50",
         "no-cash payment",
         "In-store",
         "2023-10-28"
        ],
        [
         "TXN_1005331",
         "Coffee",
         1,
         "2.00",
         "2.00",
         "no-cash payment",
         "Takeaway",
         "2023-11-04"
        ],
        [
         "TXN_1005377",
         "Cake",
         5,
         "3.00",
         "15.00",
         "no-cash payment",
         "Takeaway",
         "2023-06-03"
        ],
        [
         "TXN_1006942",
         "Salad",
         1,
         "5.00",
         "5.00",
         "no-cash payment",
         "In-store",
         "2023-11-30"
        ]
       ],
       "datasetInfos": [],
       "dbfsResultPath": null,
       "isJsonSchema": true,
       "metadata": {},
       "overflow": false,
       "plotOptions": {
        "customPlotOptions": {},
        "displayType": "table",
        "pivotAggregation": null,
        "pivotColumns": null,
        "xColumns": null,
        "yColumns": null
       },
       "removedWidgets": [],
       "schema": [
        {
         "metadata": "{}",
         "name": "transaction_id",
         "type": "\"string\""
        },
        {
         "metadata": "{}",
         "name": "item",
         "type": "\"string\""
        },
        {
         "metadata": "{}",
         "name": "quantity",
         "type": "\"integer\""
        },
        {
         "metadata": "{}",
         "name": "price_per_unit",
         "type": "\"decimal(5,2)\""
        },
        {
         "metadata": "{}",
         "name": "total_spent",
         "type": "\"decimal(7,2)\""
        },
        {
         "metadata": "{}",
         "name": "payment_method",
         "type": "\"string\""
        },
        {
         "metadata": "{}",
         "name": "location",
         "type": "\"string\""
        },
        {
         "metadata": "{}",
         "name": "transaction_date",
         "type": "\"date\""
        }
       ],
       "type": "table"
      }
     },
     "output_type": "display_data"
    }
   ],
   "source": [
    "# Define paths for Silver and Gold2 tables\n",
    "silver_path = \"/mnt/silver/cafe_sales\"\n",
    "gold2_path = \"/mnt/gold/cafe_sales_payment_analysis\"\n",
    "\n",
    "# Read data from Silver Delta files\n",
    "df_silver = spark.read.format(\"delta\").load(silver_path)\n",
    "\n",
    "# Display initial row count and sample data\n",
    "print(f\"Initial row count (Silver): {df_silver.count()}\")\n",
    "display(df_silver.limit(10))\n"
   ]
  },
  {
   "cell_type": "code",
   "execution_count": 0,
   "metadata": {
    "application/vnd.databricks.v1+cell": {
     "cellMetadata": {
      "byteLimit": 2048000,
      "rowLimit": 10000
     },
     "inputWidgets": {},
     "nuid": "fe6eb474-44af-41e9-adb6-5687f9c9bf40",
     "showTitle": false,
     "tableResultSettingsMap": {},
     "title": ""
    }
   },
   "outputs": [
    {
     "output_type": "stream",
     "name": "stdout",
     "output_type": "stream",
     "text": [
      "✅ Aggregations applied:\n   - COUNT(transaction_id) as transaction_count\n   - SUM(total_spent) as total_revenue\n   - PERCENTAGE_SHARE calculation (transaction_count * 100 / total)\n   - GROUP BY payment_method\n   - ORDER BY transaction_count DESC\n\nRow count after aggregation: 2\n"
     ]
    },
    {
     "output_type": "display_data",
     "data": {
      "text/html": [
       "<style scoped>\n",
       "  .table-result-container {\n",
       "    max-height: 300px;\n",
       "    overflow: auto;\n",
       "  }\n",
       "  table, th, td {\n",
       "    border: 1px solid black;\n",
       "    border-collapse: collapse;\n",
       "  }\n",
       "  th, td {\n",
       "    padding: 5px;\n",
       "  }\n",
       "  th {\n",
       "    text-align: left;\n",
       "  }\n",
       "</style><div class='table-result-container'><table class='table-result'><thead style='background-color: white'><tr><th>payment_method</th><th>transaction_count</th><th>total_revenue</th><th>percentage_share</th></tr></thead><tbody><tr><td>no-cash payment</td><td>2395</td><td>21389.00</td><td>67.37</td></tr><tr><td>Cash</td><td>1160</td><td>10539.00</td><td>32.63</td></tr></tbody></table></div>"
      ]
     },
     "metadata": {
      "application/vnd.databricks.v1+output": {
       "addedWidgets": {},
       "aggData": [],
       "aggError": "",
       "aggOverflow": false,
       "aggSchema": [],
       "aggSeriesLimitReached": false,
       "aggType": "",
       "arguments": {},
       "columnCustomDisplayInfos": {},
       "data": [
        [
         "no-cash payment",
         2395,
         "21389.00",
         67.37
        ],
        [
         "Cash",
         1160,
         "10539.00",
         32.63
        ]
       ],
       "datasetInfos": [],
       "dbfsResultPath": null,
       "isJsonSchema": true,
       "metadata": {},
       "overflow": false,
       "plotOptions": {
        "customPlotOptions": {},
        "displayType": "table",
        "pivotAggregation": null,
        "pivotColumns": null,
        "xColumns": null,
        "yColumns": null
       },
       "removedWidgets": [],
       "schema": [
        {
         "metadata": "{}",
         "name": "payment_method",
         "type": "\"string\""
        },
        {
         "metadata": "{}",
         "name": "transaction_count",
         "type": "\"long\""
        },
        {
         "metadata": "{}",
         "name": "total_revenue",
         "type": "\"decimal(17,2)\""
        },
        {
         "metadata": "{}",
         "name": "percentage_share",
         "type": "\"double\""
        }
       ],
       "type": "table"
      }
     },
     "output_type": "display_data"
    }
   ],
   "source": [
    "from pyspark.sql.functions import col, count, sum, round\n",
    "from pyspark.sql.window import Window\n",
    "\n",
    "# Calculate total transaction count for percentage calculation\n",
    "total_transactions = df_silver.count()\n",
    "\n",
    "# Aggregate data by payment method with percentage share\n",
    "df_gold2 = df_silver.groupBy(\"payment_method\") \\\n",
    "    .agg(\n",
    "        count(\"transaction_id\").alias(\"transaction_count\"),\n",
    "        sum(\"total_spent\").alias(\"total_revenue\")\n",
    "    ) \\\n",
    "    .withColumn(\n",
    "        \"percentage_share\",\n",
    "        round((col(\"transaction_count\") * 100.0) / total_transactions, 2)\n",
    "    ) \\\n",
    "    .orderBy(col(\"transaction_count\").desc())\n",
    "\n",
    "print(\"✅ Aggregations applied:\")\n",
    "print(\"   - COUNT(transaction_id) as transaction_count\")\n",
    "print(\"   - SUM(total_spent) as total_revenue\")\n",
    "print(\"   - PERCENTAGE_SHARE calculation (transaction_count * 100 / total)\")\n",
    "print(\"   - GROUP BY payment_method\")\n",
    "print(\"   - ORDER BY transaction_count DESC\")\n",
    "\n",
    "print(f\"\\nRow count after aggregation: {df_gold2.count()}\")\n",
    "display(df_gold2)\n"
   ]
  },
  {
   "cell_type": "code",
   "execution_count": 0,
   "metadata": {
    "application/vnd.databricks.v1+cell": {
     "cellMetadata": {
      "byteLimit": 2048000,
      "rowLimit": 10000
     },
     "inputWidgets": {},
     "nuid": "41865c05-d280-4c61-a0fa-368d49794b13",
     "showTitle": false,
     "tableResultSettingsMap": {},
     "title": ""
    }
   },
   "outputs": [
    {
     "output_type": "stream",
     "name": "stdout",
     "output_type": "stream",
     "text": [
      "=== Gold2 Layer Schema ===\nroot\n |-- payment_method: string (nullable = true)\n |-- transaction_count: long (nullable = false)\n |-- total_revenue: decimal(17,2) (nullable = true)\n |-- percentage_share: double (nullable = true)\n\n"
     ]
    }
   ],
   "source": [
    "# Display schema to verify data types\n",
    "print(\"=== Gold2 Layer Schema ===\")\n",
    "df_gold2.printSchema()\n"
   ]
  },
  {
   "cell_type": "code",
   "execution_count": 0,
   "metadata": {
    "application/vnd.databricks.v1+cell": {
     "cellMetadata": {
      "byteLimit": 2048000,
      "rowLimit": 10000
     },
     "inputWidgets": {},
     "nuid": "5a058e29-db2a-4529-8194-19718e6db167",
     "showTitle": false,
     "tableResultSettingsMap": {},
     "title": ""
    }
   },
   "outputs": [
    {
     "output_type": "stream",
     "name": "stdout",
     "output_type": "stream",
     "text": [
      "✅ External table 'cafe_sales_gold2' created in catalog\n✅ Delta files saved to: /mnt/gold/cafe_sales_payment_analysis\nFinal row count: 2\n✅ Aggregations: COUNT(transaction_id), SUM(total_spent), PERCENTAGE_SHARE\n"
     ]
    }
   ],
   "source": [
    "# Clear cache before writing to avoid schema analysis issues\n",
    "spark.catalog.clearCache()\n",
    "\n",
    "# Write to Gold2 Delta Table with both path and catalog registration (overwrite = TRUNCATE + INSERT)\n",
    "df_gold2.write \\\n",
    "    .format(\"delta\") \\\n",
    "    .mode(\"overwrite\") \\\n",
    "    .option(\"overwriteSchema\", \"true\") \\\n",
    "    .option(\"path\", gold2_path) \\\n",
    "    .saveAsTable(\"cafe_sales_gold2\")\n",
    "\n",
    "print(f\"✅ External table 'cafe_sales_gold2' created in catalog\")\n",
    "print(f\"✅ Delta files saved to: {gold2_path}\")\n",
    "print(f\"Final row count: {df_gold2.count()}\")\n",
    "print(f\"✅ Aggregations: COUNT(transaction_id), SUM(total_spent), PERCENTAGE_SHARE\")\n"
   ]
  },
  {
   "cell_type": "code",
   "execution_count": 0,
   "metadata": {
    "application/vnd.databricks.v1+cell": {
     "cellMetadata": {
      "byteLimit": 2048000,
      "rowLimit": 10000
     },
     "inputWidgets": {},
     "nuid": "4e3c5ab7-9c85-4866-aaea-e040aefaa6d6",
     "showTitle": false,
     "tableResultSettingsMap": {},
     "title": ""
    }
   },
   "outputs": [
    {
     "output_type": "stream",
     "name": "stdout",
     "output_type": "stream",
     "text": [
      "✅ Catalog cache refreshed for Gold2\n\n=== Payment Method Analysis from Gold2 table ===\n"
     ]
    },
    {
     "output_type": "display_data",
     "data": {
      "text/html": [
       "<style scoped>\n",
       "  .table-result-container {\n",
       "    max-height: 300px;\n",
       "    overflow: auto;\n",
       "  }\n",
       "  table, th, td {\n",
       "    border: 1px solid black;\n",
       "    border-collapse: collapse;\n",
       "  }\n",
       "  th, td {\n",
       "    padding: 5px;\n",
       "  }\n",
       "  th {\n",
       "    text-align: left;\n",
       "  }\n",
       "</style><div class='table-result-container'><table class='table-result'><thead style='background-color: white'><tr><th>payment_method</th><th>transaction_count</th><th>total_revenue</th><th>percentage_share</th></tr></thead><tbody><tr><td>no-cash payment</td><td>2395</td><td>21389.00</td><td>67.37</td></tr><tr><td>Cash</td><td>1160</td><td>10539.00</td><td>32.63</td></tr></tbody></table></div>"
      ]
     },
     "metadata": {
      "application/vnd.databricks.v1+output": {
       "addedWidgets": {},
       "aggData": [],
       "aggError": "",
       "aggOverflow": false,
       "aggSchema": [],
       "aggSeriesLimitReached": false,
       "aggType": "",
       "arguments": {},
       "columnCustomDisplayInfos": {},
       "data": [
        [
         "no-cash payment",
         2395,
         "21389.00",
         67.37
        ],
        [
         "Cash",
         1160,
         "10539.00",
         32.63
        ]
       ],
       "datasetInfos": [],
       "dbfsResultPath": null,
       "isJsonSchema": true,
       "metadata": {},
       "overflow": false,
       "plotOptions": {
        "customPlotOptions": {},
        "displayType": "table",
        "pivotAggregation": null,
        "pivotColumns": null,
        "xColumns": null,
        "yColumns": null
       },
       "removedWidgets": [],
       "schema": [
        {
         "metadata": "{}",
         "name": "payment_method",
         "type": "\"string\""
        },
        {
         "metadata": "{}",
         "name": "transaction_count",
         "type": "\"long\""
        },
        {
         "metadata": "{}",
         "name": "total_revenue",
         "type": "\"decimal(17,2)\""
        },
        {
         "metadata": "{}",
         "name": "percentage_share",
         "type": "\"double\""
        }
       ],
       "type": "table"
      }
     },
     "output_type": "display_data"
    },
    {
     "output_type": "stream",
     "name": "stdout",
     "output_type": "stream",
     "text": [
      "\n=== Verified Gold2 Schema ===\nroot\n |-- payment_method: string (nullable = true)\n |-- transaction_count: long (nullable = true)\n |-- total_revenue: decimal(17,2) (nullable = true)\n |-- percentage_share: double (nullable = true)\n\n\n=== Summary Statistics ===\nTotal payment methods: 2\nTotal transactions: 3555\nTotal revenue: $31928.00\n\nPercentage share verification (should sum to ~100%): 100.00%\n"
     ]
    }
   ],
   "source": [
    "# Refresh catalog and verify changes for Gold2 table\n",
    "from pyspark.sql.functions import col, sum as spark_sum\n",
    "\n",
    "# Refresh catalog cache for Gold2 table\n",
    "spark.catalog.refreshTable(\"cafe_sales_gold2\")\n",
    "print(\"✅ Catalog cache refreshed for Gold2\")\n",
    "\n",
    "# Read back from Gold2 to verify changes\n",
    "df_verify = spark.read.table(\"cafe_sales_gold2\")\n",
    "\n",
    "# Display payment method analysis from Gold2\n",
    "print(\"\\n=== Payment Method Analysis from Gold2 table ===\")\n",
    "display(df_verify)\n",
    "\n",
    "# Verify schema\n",
    "print(\"\\n=== Verified Gold2 Schema ===\")\n",
    "df_verify.printSchema()\n",
    "\n",
    "# Show summary statistics\n",
    "print(\"\\n=== Summary Statistics ===\")\n",
    "print(f\"Total payment methods: {df_verify.count()}\")\n",
    "total_revenue = df_verify.agg(spark_sum('total_revenue')).collect()[0][0]\n",
    "total_transactions = df_verify.agg(spark_sum('transaction_count')).collect()[0][0]\n",
    "print(f\"Total transactions: {total_transactions}\")\n",
    "print(f\"Total revenue: ${total_revenue:.2f}\")\n",
    "print(f\"\\nPercentage share verification (should sum to ~100%): {df_verify.agg(spark_sum('percentage_share')).collect()[0][0]:.2f}%\")\n"
   ]
  }
 ],
 "metadata": {
  "application/vnd.databricks.v1+notebook": {
   "computePreferences": null,
   "dashboards": [],
   "environmentMetadata": {
    "base_environment": "",
    "environment_version": "4"
   },
   "inputWidgetPreferences": null,
   "language": "python",
   "notebookMetadata": {
    "pythonIndentUnit": 4
   },
   "notebookName": "08-load-silver-to-gold2",
   "widgets": {}
  },
  "language_info": {
   "name": "python"
  }
 },
 "nbformat": 4,
 "nbformat_minor": 0
}