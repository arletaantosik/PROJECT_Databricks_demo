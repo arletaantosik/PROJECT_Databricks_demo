{
 "cells": [
  {
   "cell_type": "code",
   "execution_count": 0,
   "metadata": {
    "application/vnd.databricks.v1+cell": {
     "cellMetadata": {
      "byteLimit": 2048000,
      "rowLimit": 10000
     },
     "inputWidgets": {},
     "nuid": "6ce8436a-cc8d-4c87-ba06-51ed947de5a5",
     "showTitle": false,
     "tableResultSettingsMap": {},
     "title": ""
    }
   },
   "outputs": [
    {
     "output_type": "stream",
     "name": "stdout",
     "output_type": "stream",
     "text": [
      "Try to mount: wasbs://cafesales@cafesales.blob.core.windows.net\nTo: /mnt/raw-data\n"
     ]
    }
   ],
   "source": [
    "storage_account_name = \"cafesales\"\n",
    "storage_account_key = \"\"\n",
    "container_name = \"cafesales\"\n",
    "mount_point = \"/mnt/raw-data\"\n",
    "\n",
    "source_url = f\"wasbs://{container_name}@{storage_account_name}.blob.core.windows.net\"\n",
    "conf_key = f\"fs.azure.account.key.{storage_account_name}.blob.core.windows.net\"\n",
    "\n",
    "print(f\"Try to mount: {source_url}\")\n",
    "print(f\"To: {mount_point}\")"
   ]
  },
  {
   "cell_type": "code",
   "execution_count": 0,
   "metadata": {
    "application/vnd.databricks.v1+cell": {
     "cellMetadata": {
      "byteLimit": 2048000,
      "rowLimit": 10000
     },
     "inputWidgets": {},
     "nuid": "4455cbee-b0a4-4a91-b301-c29fe9585e94",
     "showTitle": false,
     "tableResultSettingsMap": {},
     "title": ""
    }
   },
   "outputs": [
    {
     "output_type": "stream",
     "name": "stdout",
     "output_type": "stream",
     "text": [
      "Mount point /mnt/raw-data exists. Unmounting...\n/mnt/raw-data has been unmounted.\nUnmounted successfully /mnt/raw-data\n"
     ]
    }
   ],
   "source": [
    "# List of all available mounts\n",
    "existing_mounts = [mount.mountPoint for mount in dbutils.fs.mounts()]\n",
    "\n",
    "# check if mount_point exists\n",
    "if mount_point in existing_mounts:\n",
    "    print(f\"Mount point {mount_point} exists. Unmounting...\")\n",
    "    dbutils.fs.unmount(mount_point)\n",
    "    print(f\"Unmounted successfully {mount_point}\")\n",
    "else:\n",
    "    print(f\"Mount point {mount_point} doesn't exist, we can mount\")\n"
   ]
  },
  {
   "cell_type": "code",
   "execution_count": 0,
   "metadata": {
    "application/vnd.databricks.v1+cell": {
     "cellMetadata": {
      "byteLimit": 2048000,
      "rowLimit": 10000
     },
     "inputWidgets": {},
     "nuid": "d2e8da00-b353-4f99-93cb-9030c8d00212",
     "showTitle": false,
     "tableResultSettingsMap": {},
     "title": ""
    }
   },
   "outputs": [
    {
     "output_type": "stream",
     "name": "stdout",
     "output_type": "stream",
     "text": [
      "SUCCESS! Storage mounted in /mnt/raw-data\n"
     ]
    }
   ],
   "source": [
    "# Mounting storage\n",
    "try:\n",
    "    dbutils.fs.mount(\n",
    "        source = source_url,\n",
    "        mount_point = mount_point,\n",
    "        extra_configs = {conf_key: storage_account_key}\n",
    "    )\n",
    "    print(f\"SUCCESS! Storage mounted in {mount_point}\")\n",
    "except Exception as e:\n",
    "    print(f\"ERROR: {str(e)}\")\n"
   ]
  },
  {
   "cell_type": "code",
   "execution_count": 0,
   "metadata": {
    "application/vnd.databricks.v1+cell": {
     "cellMetadata": {
      "byteLimit": 2048000,
      "rowLimit": 10000
     },
     "inputWidgets": {},
     "nuid": "f3b51610-499c-4fde-9f98-fc946bfd4678",
     "showTitle": false,
     "tableResultSettingsMap": {},
     "title": ""
    }
   },
   "outputs": [
    {
     "output_type": "display_data",
     "data": {
      "text/html": [
       "<style scoped>\n",
       "  .table-result-container {\n",
       "    max-height: 300px;\n",
       "    overflow: auto;\n",
       "  }\n",
       "  table, th, td {\n",
       "    border: 1px solid black;\n",
       "    border-collapse: collapse;\n",
       "  }\n",
       "  th, td {\n",
       "    padding: 5px;\n",
       "  }\n",
       "  th {\n",
       "    text-align: left;\n",
       "  }\n",
       "</style><div class='table-result-container'><table class='table-result'><thead style='background-color: white'><tr><th>path</th><th>name</th><th>size</th><th>modificationTime</th></tr></thead><tbody><tr><td>dbfs:/mnt/raw-data/dirty_cafe_sales.csv</td><td>dirty_cafe_sales.csv</td><td>516003</td><td>1761562490000</td></tr></tbody></table></div>"
      ]
     },
     "metadata": {
      "application/vnd.databricks.v1+output": {
       "addedWidgets": {},
       "aggData": [],
       "aggError": "",
       "aggOverflow": false,
       "aggSchema": [],
       "aggSeriesLimitReached": false,
       "aggType": "",
       "arguments": {},
       "columnCustomDisplayInfos": {},
       "data": [
        [
         "dbfs:/mnt/raw-data/dirty_cafe_sales.csv",
         "dirty_cafe_sales.csv",
         516003,
         1761562490000
        ]
       ],
       "datasetInfos": [],
       "dbfsResultPath": null,
       "isJsonSchema": true,
       "metadata": {},
       "overflow": false,
       "plotOptions": {
        "customPlotOptions": {},
        "displayType": "table",
        "pivotAggregation": null,
        "pivotColumns": null,
        "xColumns": null,
        "yColumns": null
       },
       "removedWidgets": [],
       "schema": [
        {
         "metadata": "{}",
         "name": "path",
         "type": "\"string\""
        },
        {
         "metadata": "{}",
         "name": "name",
         "type": "\"string\""
        },
        {
         "metadata": "{}",
         "name": "size",
         "type": "\"long\""
        },
        {
         "metadata": "{}",
         "name": "modificationTime",
         "type": "\"long\""
        }
       ],
       "type": "table"
      }
     },
     "output_type": "display_data"
    }
   ],
   "source": [
    "# Check what's in the mounted storage\n",
    "display(dbutils.fs.ls(\"/mnt/raw-data\"))\n"
   ]
  }
 ],
 "metadata": {
  "application/vnd.databricks.v1+notebook": {
   "computePreferences": null,
   "dashboards": [],
   "environmentMetadata": {
    "base_environment": "",
    "environment_version": "4"
   },
   "inputWidgetPreferences": null,
   "language": "python",
   "notebookMetadata": {
    "pythonIndentUnit": 4
   },
   "notebookName": "01-mount-storage",
   "widgets": {}
  },
  "language_info": {
   "name": "python"
  }
 },
 "nbformat": 4,
 "nbformat_minor": 0
}