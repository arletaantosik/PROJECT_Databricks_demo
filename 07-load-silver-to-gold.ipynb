{
 "cells": [
  {
   "cell_type": "code",
   "execution_count": 0,
   "metadata": {
    "application/vnd.databricks.v1+cell": {
     "cellMetadata": {
      "byteLimit": 2048000,
      "rowLimit": 10000
     },
     "inputWidgets": {},
     "nuid": "3f8c1ad4-8914-42dc-a298-56d5fa053e68",
     "showTitle": false,
     "tableResultSettingsMap": {},
     "title": ""
    }
   },
   "outputs": [
    {
     "output_type": "stream",
     "name": "stdout",
     "output_type": "stream",
     "text": [
      "Initial row count (Silver): 3555\n"
     ]
    },
    {
     "output_type": "display_data",
     "data": {
      "text/html": [
       "<style scoped>\n",
       "  .table-result-container {\n",
       "    max-height: 300px;\n",
       "    overflow: auto;\n",
       "  }\n",
       "  table, th, td {\n",
       "    border: 1px solid black;\n",
       "    border-collapse: collapse;\n",
       "  }\n",
       "  th, td {\n",
       "    padding: 5px;\n",
       "  }\n",
       "  th {\n",
       "    text-align: left;\n",
       "  }\n",
       "</style><div class='table-result-container'><table class='table-result'><thead style='background-color: white'><tr><th>transaction_id</th><th>item</th><th>quantity</th><th>price_per_unit</th><th>total_spent</th><th>payment_method</th><th>location</th><th>transaction_date</th></tr></thead><tbody><tr><td>TXN_2548360</td><td>Salad</td><td>5</td><td>5.00</td><td>25.00</td><td>Cash</td><td>Takeaway</td><td>2023-11-07</td></tr><tr><td>TXN_3160411</td><td>Coffee</td><td>2</td><td>2.00</td><td>4.00</td><td>no-cash payment</td><td>In-store</td><td>2023-06-11</td></tr><tr><td>TXN_4271903</td><td>Cookie</td><td>4</td><td>1.00</td><td>4.00</td><td>no-cash payment</td><td>In-store</td><td>2023-07-19</td></tr><tr><td>TXN_1000555</td><td>Tea</td><td>1</td><td>1.50</td><td>1.50</td><td>no-cash payment</td><td>In-store</td><td>2023-10-19</td></tr><tr><td>TXN_1002457</td><td>Cookie</td><td>5</td><td>1.00</td><td>5.00</td><td>no-cash payment</td><td>Takeaway</td><td>2023-09-29</td></tr><tr><td>TXN_1004184</td><td>Smoothie</td><td>1</td><td>4.00</td><td>4.00</td><td>no-cash payment</td><td>In-store</td><td>2023-05-18</td></tr><tr><td>TXN_1004563</td><td>Tea</td><td>5</td><td>1.50</td><td>7.50</td><td>no-cash payment</td><td>In-store</td><td>2023-10-28</td></tr><tr><td>TXN_1005331</td><td>Coffee</td><td>1</td><td>2.00</td><td>2.00</td><td>no-cash payment</td><td>Takeaway</td><td>2023-11-04</td></tr><tr><td>TXN_1005377</td><td>Cake</td><td>5</td><td>3.00</td><td>15.00</td><td>no-cash payment</td><td>Takeaway</td><td>2023-06-03</td></tr><tr><td>TXN_1006942</td><td>Salad</td><td>1</td><td>5.00</td><td>5.00</td><td>no-cash payment</td><td>In-store</td><td>2023-11-30</td></tr></tbody></table></div>"
      ]
     },
     "metadata": {
      "application/vnd.databricks.v1+output": {
       "addedWidgets": {},
       "aggData": [],
       "aggError": "",
       "aggOverflow": false,
       "aggSchema": [],
       "aggSeriesLimitReached": false,
       "aggType": "",
       "arguments": {},
       "columnCustomDisplayInfos": {},
       "data": [
        [
         "TXN_2548360",
         "Salad",
         5,
         "5.00",
         "25.00",
         "Cash",
         "Takeaway",
         "2023-11-07"
        ],
        [
         "TXN_3160411",
         "Coffee",
         2,
         "2.00",
         "4.00",
         "no-cash payment",
         "In-store",
         "2023-06-11"
        ],
        [
         "TXN_4271903",
         "Cookie",
         4,
         "1.00",
         "4.00",
         "no-cash payment",
         "In-store",
         "2023-07-19"
        ],
        [
         "TXN_1000555",
         "Tea",
         1,
         "1.50",
         "1.50",
         "no-cash payment",
         "In-store",
         "2023-10-19"
        ],
        [
         "TXN_1002457",
         "Cookie",
         5,
         "1.00",
         "5.00",
         "no-cash payment",
         "Takeaway",
         "2023-09-29"
        ],
        [
         "TXN_1004184",
         "Smoothie",
         1,
         "4.00",
         "4.00",
         "no-cash payment",
         "In-store",
         "2023-05-18"
        ],
        [
         "TXN_1004563",
         "Tea",
         5,
         "1.50",
         "7.50",
         "no-cash payment",
         "In-store",
         "2023-10-28"
        ],
        [
         "TXN_1005331",
         "Coffee",
         1,
         "2.00",
         "2.00",
         "no-cash payment",
         "Takeaway",
         "2023-11-04"
        ],
        [
         "TXN_1005377",
         "Cake",
         5,
         "3.00",
         "15.00",
         "no-cash payment",
         "Takeaway",
         "2023-06-03"
        ],
        [
         "TXN_1006942",
         "Salad",
         1,
         "5.00",
         "5.00",
         "no-cash payment",
         "In-store",
         "2023-11-30"
        ]
       ],
       "datasetInfos": [],
       "dbfsResultPath": null,
       "isJsonSchema": true,
       "metadata": {},
       "overflow": false,
       "plotOptions": {
        "customPlotOptions": {},
        "displayType": "table",
        "pivotAggregation": null,
        "pivotColumns": null,
        "xColumns": null,
        "yColumns": null
       },
       "removedWidgets": [],
       "schema": [
        {
         "metadata": "{}",
         "name": "transaction_id",
         "type": "\"string\""
        },
        {
         "metadata": "{}",
         "name": "item",
         "type": "\"string\""
        },
        {
         "metadata": "{}",
         "name": "quantity",
         "type": "\"integer\""
        },
        {
         "metadata": "{}",
         "name": "price_per_unit",
         "type": "\"decimal(5,2)\""
        },
        {
         "metadata": "{}",
         "name": "total_spent",
         "type": "\"decimal(7,2)\""
        },
        {
         "metadata": "{}",
         "name": "payment_method",
         "type": "\"string\""
        },
        {
         "metadata": "{}",
         "name": "location",
         "type": "\"string\""
        },
        {
         "metadata": "{}",
         "name": "transaction_date",
         "type": "\"date\""
        }
       ],
       "type": "table"
      }
     },
     "output_type": "display_data"
    }
   ],
   "source": [
    "# Define paths for Silver and Gold tables\n",
    "silver_path = \"/mnt/silver/cafe_sales\"\n",
    "gold_path = \"/mnt/gold/cafe_sales_aggregated\"\n",
    "\n",
    "# Read data from Silver Delta Table\n",
    "df_silver = spark.read.format(\"delta\").load(silver_path)\n",
    "\n",
    "# Display initial row count and sample data\n",
    "print(f\"Initial row count (Silver): {df_silver.count()}\")\n",
    "display(df_silver.limit(10))\n"
   ]
  },
  {
   "cell_type": "code",
   "execution_count": 0,
   "metadata": {
    "application/vnd.databricks.v1+cell": {
     "cellMetadata": {
      "byteLimit": 2048000,
      "rowLimit": 10000
     },
     "inputWidgets": {},
     "nuid": "586f2cf3-5b6a-48dd-b02e-791cb4353ed6",
     "showTitle": false,
     "tableResultSettingsMap": {},
     "title": ""
    }
   },
   "outputs": [
    {
     "output_type": "stream",
     "name": "stdout",
     "output_type": "stream",
     "text": [
      "✅ Aggregations applied:\n   - SUM(quantity) as total_quantity\n   - SUM(total_spent) as total_revenue\n   - AVG(price_per_unit) as avg_price\n   - COUNT(transaction_id) as transaction_count\n   - GROUP BY item\n   - ORDER BY total_revenue DESC\n\nRow count after aggregation: 8\n"
     ]
    },
    {
     "output_type": "display_data",
     "data": {
      "text/html": [
       "<style scoped>\n",
       "  .table-result-container {\n",
       "    max-height: 300px;\n",
       "    overflow: auto;\n",
       "  }\n",
       "  table, th, td {\n",
       "    border: 1px solid black;\n",
       "    border-collapse: collapse;\n",
       "  }\n",
       "  th, td {\n",
       "    padding: 5px;\n",
       "  }\n",
       "  th {\n",
       "    text-align: left;\n",
       "  }\n",
       "</style><div class='table-result-container'><table class='table-result'><thead style='background-color: white'><tr><th>product_name</th><th>total_quantity</th><th>total_revenue</th><th>avg_price</th><th>transaction_count</th></tr></thead><tbody><tr><td>Salad</td><td>1461</td><td>7305.00</td><td>5.000000</td><td>480</td></tr><tr><td>Sandwich</td><td>1424</td><td>5696.00</td><td>4.000000</td><td>457</td></tr><tr><td>Smoothie</td><td>1186</td><td>4744.00</td><td>4.000000</td><td>389</td></tr><tr><td>Juice</td><td>1395</td><td>4185.00</td><td>3.000000</td><td>477</td></tr><tr><td>Cake</td><td>1353</td><td>4059.00</td><td>3.000000</td><td>439</td></tr><tr><td>Coffee</td><td>1303</td><td>2606.00</td><td>2.000000</td><td>427</td></tr><tr><td>Tea</td><td>1314</td><td>1971.00</td><td>1.500000</td><td>426</td></tr><tr><td>Cookie</td><td>1362</td><td>1362.00</td><td>1.000000</td><td>460</td></tr></tbody></table></div>"
      ]
     },
     "metadata": {
      "application/vnd.databricks.v1+output": {
       "addedWidgets": {},
       "aggData": [],
       "aggError": "",
       "aggOverflow": false,
       "aggSchema": [],
       "aggSeriesLimitReached": false,
       "aggType": "",
       "arguments": {},
       "columnCustomDisplayInfos": {},
       "data": [
        [
         "Salad",
         1461,
         "7305.00",
         "5.000000",
         480
        ],
        [
         "Sandwich",
         1424,
         "5696.00",
         "4.000000",
         457
        ],
        [
         "Smoothie",
         1186,
         "4744.00",
         "4.000000",
         389
        ],
        [
         "Juice",
         1395,
         "4185.00",
         "3.000000",
         477
        ],
        [
         "Cake",
         1353,
         "4059.00",
         "3.000000",
         439
        ],
        [
         "Coffee",
         1303,
         "2606.00",
         "2.000000",
         427
        ],
        [
         "Tea",
         1314,
         "1971.00",
         "1.500000",
         426
        ],
        [
         "Cookie",
         1362,
         "1362.00",
         "1.000000",
         460
        ]
       ],
       "datasetInfos": [],
       "dbfsResultPath": null,
       "isJsonSchema": true,
       "metadata": {},
       "overflow": false,
       "plotOptions": {
        "customPlotOptions": {},
        "displayType": "table",
        "pivotAggregation": null,
        "pivotColumns": null,
        "xColumns": null,
        "yColumns": null
       },
       "removedWidgets": [],
       "schema": [
        {
         "metadata": "{}",
         "name": "product_name",
         "type": "\"string\""
        },
        {
         "metadata": "{}",
         "name": "total_quantity",
         "type": "\"long\""
        },
        {
         "metadata": "{}",
         "name": "total_revenue",
         "type": "\"decimal(17,2)\""
        },
        {
         "metadata": "{}",
         "name": "avg_price",
         "type": "\"decimal(9,6)\""
        },
        {
         "metadata": "{}",
         "name": "transaction_count",
         "type": "\"long\""
        }
       ],
       "type": "table"
      }
     },
     "output_type": "display_data"
    }
   ],
   "source": [
    "from pyspark.sql.functions import col, sum, avg, count\n",
    "\n",
    "# Aggregate data to create Gold layer\n",
    "df_gold = df_silver.groupBy(\"item\") \\\n",
    "    .agg(\n",
    "        sum(\"quantity\").alias(\"total_quantity\"),\n",
    "        sum(\"total_spent\").alias(\"total_revenue\"),\n",
    "        avg(\"price_per_unit\").alias(\"avg_price\"),\n",
    "        count(\"transaction_id\").alias(\"transaction_count\")\n",
    "    ) \\\n",
    "    .withColumnRenamed(\"item\", \"product_name\") \\\n",
    "    .orderBy(col(\"total_revenue\").desc())\n",
    "\n",
    "print(\"✅ Aggregations applied:\")\n",
    "print(\"   - SUM(quantity) as total_quantity\")\n",
    "print(\"   - SUM(total_spent) as total_revenue\")\n",
    "print(\"   - AVG(price_per_unit) as avg_price\")\n",
    "print(\"   - COUNT(transaction_id) as transaction_count\")\n",
    "print(\"   - GROUP BY item\")\n",
    "print(\"   - ORDER BY total_revenue DESC\")\n",
    "\n",
    "print(f\"\\nRow count after aggregation: {df_gold.count()}\")\n",
    "display(df_gold)\n"
   ]
  },
  {
   "cell_type": "code",
   "execution_count": 0,
   "metadata": {
    "application/vnd.databricks.v1+cell": {
     "cellMetadata": {
      "byteLimit": 2048000,
      "rowLimit": 10000
     },
     "inputWidgets": {},
     "nuid": "2b2f4d66-28af-415f-ba72-90b339dcd005",
     "showTitle": false,
     "tableResultSettingsMap": {},
     "title": ""
    }
   },
   "outputs": [
    {
     "output_type": "stream",
     "name": "stdout",
     "output_type": "stream",
     "text": [
      "=== Gold Layer Schema ===\nroot\n |-- product_name: string (nullable = true)\n |-- total_quantity: long (nullable = true)\n |-- total_revenue: decimal(17,2) (nullable = true)\n |-- avg_price: decimal(9,6) (nullable = true)\n |-- transaction_count: long (nullable = false)\n\n"
     ]
    }
   ],
   "source": [
    "# Display schema to verify data types\n",
    "print(\"=== Gold Layer Schema ===\")\n",
    "df_gold.printSchema()\n"
   ]
  },
  {
   "cell_type": "code",
   "execution_count": 0,
   "metadata": {
    "application/vnd.databricks.v1+cell": {
     "cellMetadata": {
      "byteLimit": 2048000,
      "rowLimit": 10000
     },
     "inputWidgets": {},
     "nuid": "089fe62d-042b-4ced-8623-687c02a7f0f3",
     "showTitle": false,
     "tableResultSettingsMap": {},
     "title": ""
    }
   },
   "outputs": [
    {
     "output_type": "stream",
     "name": "stdout",
     "output_type": "stream",
     "text": [
      "✅ External table 'cafe_sales_gold' created in catalog\n✅ Delta files saved to: /mnt/gold/cafe_sales_aggregated\nFinal row count: 8\n✅ Aggregations: SUM(quantity), SUM(total_spent), AVG(price_per_unit), COUNT(transaction_id)\n"
     ]
    }
   ],
   "source": [
    "# Clear cache before writing to avoid schema analysis issues\n",
    "spark.catalog.clearCache()\n",
    "\n",
    "# Write to Gold Delta Table with both path and catalog registration (overwrite = TRUNCATE + INSERT)\n",
    "df_gold.write \\\n",
    "    .format(\"delta\") \\\n",
    "    .mode(\"overwrite\") \\\n",
    "    .option(\"overwriteSchema\", \"true\") \\\n",
    "    .option(\"path\", gold_path) \\\n",
    "    .saveAsTable(\"cafe_sales_gold\")\n",
    "\n",
    "print(f\"✅ External table 'cafe_sales_gold' created in catalog\")\n",
    "print(f\"✅ Delta files saved to: {gold_path}\")\n",
    "print(f\"Final row count: {df_gold.count()}\")\n",
    "print(f\"✅ Aggregations: SUM(quantity), SUM(total_spent), AVG(price_per_unit), COUNT(transaction_id)\")\n"
   ]
  },
  {
   "cell_type": "code",
   "execution_count": 0,
   "metadata": {
    "application/vnd.databricks.v1+cell": {
     "cellMetadata": {
      "byteLimit": 2048000,
      "rowLimit": 10000
     },
     "inputWidgets": {},
     "nuid": "69958811-b109-4ec9-a703-39ebd669ccc3",
     "showTitle": false,
     "tableResultSettingsMap": {},
     "title": ""
    }
   },
   "outputs": [
    {
     "output_type": "stream",
     "name": "stdout",
     "output_type": "stream",
     "text": [
      "✅ Catalog cache refreshed for Gold\n\n=== Sample aggregated data from Gold table ===\n"
     ]
    },
    {
     "output_type": "display_data",
     "data": {
      "text/html": [
       "<style scoped>\n",
       "  .table-result-container {\n",
       "    max-height: 300px;\n",
       "    overflow: auto;\n",
       "  }\n",
       "  table, th, td {\n",
       "    border: 1px solid black;\n",
       "    border-collapse: collapse;\n",
       "  }\n",
       "  th, td {\n",
       "    padding: 5px;\n",
       "  }\n",
       "  th {\n",
       "    text-align: left;\n",
       "  }\n",
       "</style><div class='table-result-container'><table class='table-result'><thead style='background-color: white'><tr><th>product_name</th><th>total_quantity</th><th>total_revenue</th><th>avg_price</th><th>transaction_count</th></tr></thead><tbody><tr><td>Salad</td><td>1461</td><td>7305.00</td><td>5.000000</td><td>480</td></tr><tr><td>Sandwich</td><td>1424</td><td>5696.00</td><td>4.000000</td><td>457</td></tr><tr><td>Smoothie</td><td>1186</td><td>4744.00</td><td>4.000000</td><td>389</td></tr><tr><td>Juice</td><td>1395</td><td>4185.00</td><td>3.000000</td><td>477</td></tr><tr><td>Cake</td><td>1353</td><td>4059.00</td><td>3.000000</td><td>439</td></tr><tr><td>Coffee</td><td>1303</td><td>2606.00</td><td>2.000000</td><td>427</td></tr><tr><td>Tea</td><td>1314</td><td>1971.00</td><td>1.500000</td><td>426</td></tr><tr><td>Cookie</td><td>1362</td><td>1362.00</td><td>1.000000</td><td>460</td></tr></tbody></table></div>"
      ]
     },
     "metadata": {
      "application/vnd.databricks.v1+output": {
       "addedWidgets": {},
       "aggData": [],
       "aggError": "",
       "aggOverflow": false,
       "aggSchema": [],
       "aggSeriesLimitReached": false,
       "aggType": "",
       "arguments": {},
       "columnCustomDisplayInfos": {},
       "data": [
        [
         "Salad",
         1461,
         "7305.00",
         "5.000000",
         480
        ],
        [
         "Sandwich",
         1424,
         "5696.00",
         "4.000000",
         457
        ],
        [
         "Smoothie",
         1186,
         "4744.00",
         "4.000000",
         389
        ],
        [
         "Juice",
         1395,
         "4185.00",
         "3.000000",
         477
        ],
        [
         "Cake",
         1353,
         "4059.00",
         "3.000000",
         439
        ],
        [
         "Coffee",
         1303,
         "2606.00",
         "2.000000",
         427
        ],
        [
         "Tea",
         1314,
         "1971.00",
         "1.500000",
         426
        ],
        [
         "Cookie",
         1362,
         "1362.00",
         "1.000000",
         460
        ]
       ],
       "datasetInfos": [],
       "dbfsResultPath": null,
       "isJsonSchema": true,
       "metadata": {},
       "overflow": false,
       "plotOptions": {
        "customPlotOptions": {},
        "displayType": "table",
        "pivotAggregation": null,
        "pivotColumns": null,
        "xColumns": null,
        "yColumns": null
       },
       "removedWidgets": [],
       "schema": [
        {
         "metadata": "{}",
         "name": "product_name",
         "type": "\"string\""
        },
        {
         "metadata": "{}",
         "name": "total_quantity",
         "type": "\"long\""
        },
        {
         "metadata": "{}",
         "name": "total_revenue",
         "type": "\"decimal(17,2)\""
        },
        {
         "metadata": "{}",
         "name": "avg_price",
         "type": "\"decimal(9,6)\""
        },
        {
         "metadata": "{}",
         "name": "transaction_count",
         "type": "\"long\""
        }
       ],
       "type": "table"
      }
     },
     "output_type": "display_data"
    },
    {
     "output_type": "stream",
     "name": "stdout",
     "output_type": "stream",
     "text": [
      "\n=== Verified Gold Schema ===\nroot\n |-- product_name: string (nullable = true)\n |-- total_quantity: long (nullable = true)\n |-- total_revenue: decimal(17,2) (nullable = true)\n |-- avg_price: decimal(9,6) (nullable = true)\n |-- transaction_count: long (nullable = true)\n\n\n=== Summary Statistics ===\nTotal products: 8\nTotal revenue across all products: $31928.00\n"
     ]
    }
   ],
   "source": [
    "# Refresh catalog and verify changes for Gold table\n",
    "from pyspark.sql.functions import col, sum as spark_sum\n",
    "\n",
    "# Refresh catalog cache for Gold table\n",
    "spark.catalog.refreshTable(\"cafe_sales_gold\")\n",
    "print(\"✅ Catalog cache refreshed for Gold\")\n",
    "\n",
    "# Read back from Gold to verify changes\n",
    "df_verify = spark.read.table(\"cafe_sales_gold\")\n",
    "\n",
    "# Display aggregated data from Gold\n",
    "print(\"\\n=== Sample aggregated data from Gold table ===\")\n",
    "display(df_verify.limit(20))\n",
    "\n",
    "# Verify schema\n",
    "print(\"\\n=== Verified Gold Schema ===\")\n",
    "df_verify.printSchema()\n",
    "\n",
    "# Show summary statistics\n",
    "print(\"\\n=== Summary Statistics ===\")\n",
    "print(f\"Total products: {df_verify.count()}\")\n",
    "total_revenue = df_verify.agg(spark_sum('total_revenue')).collect()[0][0]\n",
    "print(f\"Total revenue across all products: ${total_revenue:.2f}\")\n"
   ]
  }
 ],
 "metadata": {
  "application/vnd.databricks.v1+notebook": {
   "computePreferences": null,
   "dashboards": [],
   "environmentMetadata": {
    "base_environment": "",
    "environment_version": "4"
   },
   "inputWidgetPreferences": null,
   "language": "python",
   "notebookMetadata": {
    "pythonIndentUnit": 4
   },
   "notebookName": "07-load-silver-to-gold",
   "widgets": {}
  },
  "language_info": {
   "name": "python"
  }
 },
 "nbformat": 4,
 "nbformat_minor": 0
}