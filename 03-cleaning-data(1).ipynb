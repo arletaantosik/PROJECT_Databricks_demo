{
 "cells": [
  {
   "cell_type": "code",
   "execution_count": 0,
   "metadata": {
    "application/vnd.databricks.v1+cell": {
     "cellMetadata": {
      "byteLimit": 2048000,
      "rowLimit": 10000
     },
     "inputWidgets": {},
     "nuid": "e33a5b8c-0083-4f97-8a7a-611809cc71db",
     "showTitle": false,
     "tableResultSettingsMap": {},
     "title": ""
    }
   },
   "outputs": [
    {
     "output_type": "stream",
     "name": "stdout",
     "output_type": "stream",
     "text": [
      "Initial row count (Bronze - raw): 10000\n"
     ]
    },
    {
     "output_type": "display_data",
     "data": {
      "text/html": [
       "<style scoped>\n",
       "  .table-result-container {\n",
       "    max-height: 300px;\n",
       "    overflow: auto;\n",
       "  }\n",
       "  table, th, td {\n",
       "    border: 1px solid black;\n",
       "    border-collapse: collapse;\n",
       "  }\n",
       "  th, td {\n",
       "    padding: 5px;\n",
       "  }\n",
       "  th {\n",
       "    text-align: left;\n",
       "  }\n",
       "</style><div class='table-result-container'><table class='table-result'><thead style='background-color: white'><tr><th>transaction_id</th><th>item</th><th>quantity</th><th>price_per_unit</th><th>total_spent</th><th>payment_method</th><th>location</th><th>transaction_date</th></tr></thead><tbody><tr><td>txn_1961373</td><td>Coffee</td><td>2</td><td>2</td><td>4</td><td>Credit Card</td><td>Takeaway</td><td>08.09.2023</td></tr><tr><td>TXn_4977031</td><td>Cake</td><td>4</td><td>3</td><td>12</td><td>Cash</td><td>In-store</td><td>16.05.2023</td></tr><tr><td>TXN4271903</td><td>Cookie</td><td>4</td><td>1</td><td>ERROR</td><td>Credit Card</td><td>In-store</td><td>19.07.2023</td></tr><tr><td>\tTXN_7034554</td><td>Salad</td><td>2</td><td>5</td><td>10</td><td>UNKNOWN</td><td>UNKNOWN</td><td>27.04.2023</td></tr><tr><td>TXN3160411\t</td><td>Coffee</td><td>2</td><td>2</td><td>4</td><td>Digital Wallet</td><td>In-store</td><td>11.06.2023</td></tr><tr><td>TXN_260 2893</td><td>Smoothie</td><td>5</td><td>4</td><td>20</td><td>Credit Card</td><td>null</td><td>31.03.2023</td></tr><tr><td>TXN_44</td><td>UNKNOWN</td><td>3</td><td>3</td><td>9</td><td>ERROR</td><td>Takeaway</td><td>06.10.2023</td></tr><tr><td>TXN_6699534</td><td>Sandwich</td><td>4</td><td>4</td><td>16</td><td>Cash</td><td>UNKNOWN</td><td>28.10.2023</td></tr><tr><td>TXN_4717867</td><td>null</td><td>5</td><td>3</td><td>15</td><td>null</td><td>Takeaway</td><td>28.07.2023</td></tr><tr><td>TXN_2064365</td><td>Sandwich</td><td>5</td><td>4</td><td>20</td><td>null</td><td>In-store</td><td>31.12.2023</td></tr></tbody></table></div>"
      ]
     },
     "metadata": {
      "application/vnd.databricks.v1+output": {
       "addedWidgets": {},
       "aggData": [],
       "aggError": "",
       "aggOverflow": false,
       "aggSchema": [],
       "aggSeriesLimitReached": false,
       "aggType": "",
       "arguments": {},
       "columnCustomDisplayInfos": {},
       "data": [
        [
         "txn_1961373",
         "Coffee",
         "2",
         "2",
         "4",
         "Credit Card",
         "Takeaway",
         "08.09.2023"
        ],
        [
         "TXn_4977031",
         "Cake",
         "4",
         "3",
         "12",
         "Cash",
         "In-store",
         "16.05.2023"
        ],
        [
         "TXN4271903",
         "Cookie",
         "4",
         "1",
         "ERROR",
         "Credit Card",
         "In-store",
         "19.07.2023"
        ],
        [
         "\tTXN_7034554",
         "Salad",
         "2",
         "5",
         "10",
         "UNKNOWN",
         "UNKNOWN",
         "27.04.2023"
        ],
        [
         "TXN3160411\t",
         "Coffee",
         "2",
         "2",
         "4",
         "Digital Wallet",
         "In-store",
         "11.06.2023"
        ],
        [
         "TXN_260 2893",
         "Smoothie",
         "5",
         "4",
         "20",
         "Credit Card",
         null,
         "31.03.2023"
        ],
        [
         "TXN_44",
         "UNKNOWN",
         "3",
         "3",
         "9",
         "ERROR",
         "Takeaway",
         "06.10.2023"
        ],
        [
         "TXN_6699534",
         "Sandwich",
         "4",
         "4",
         "16",
         "Cash",
         "UNKNOWN",
         "28.10.2023"
        ],
        [
         "TXN_4717867",
         null,
         "5",
         "3",
         "15",
         null,
         "Takeaway",
         "28.07.2023"
        ],
        [
         "TXN_2064365",
         "Sandwich",
         "5",
         "4",
         "20",
         null,
         "In-store",
         "31.12.2023"
        ]
       ],
       "datasetInfos": [],
       "dbfsResultPath": null,
       "isJsonSchema": true,
       "metadata": {},
       "overflow": false,
       "plotOptions": {
        "customPlotOptions": {},
        "displayType": "table",
        "pivotAggregation": null,
        "pivotColumns": null,
        "xColumns": null,
        "yColumns": null
       },
       "removedWidgets": [],
       "schema": [
        {
         "metadata": "{}",
         "name": "transaction_id",
         "type": "\"string\""
        },
        {
         "metadata": "{}",
         "name": "item",
         "type": "\"string\""
        },
        {
         "metadata": "{}",
         "name": "quantity",
         "type": "\"string\""
        },
        {
         "metadata": "{}",
         "name": "price_per_unit",
         "type": "\"string\""
        },
        {
         "metadata": "{}",
         "name": "total_spent",
         "type": "\"string\""
        },
        {
         "metadata": "{}",
         "name": "payment_method",
         "type": "\"string\""
        },
        {
         "metadata": "{}",
         "name": "location",
         "type": "\"string\""
        },
        {
         "metadata": "{}",
         "name": "transaction_date",
         "type": "\"string\""
        }
       ],
       "type": "table"
      }
     },
     "output_type": "display_data"
    }
   ],
   "source": [
    "# Read raw data from Bronze Delta Table\n",
    "bronze_path = \"/mnt/bronze/cafe_sales\"\n",
    "df_bronze = spark.read.format(\"delta\").load(bronze_path)\n",
    "\n",
    "# Display initial row count\n",
    "initial_count = df_bronze.count()\n",
    "print(f\"Initial row count (Bronze - raw): {initial_count}\")\n",
    "display(df_bronze.limit(10))"
   ]
  },
  {
   "cell_type": "code",
   "execution_count": 0,
   "metadata": {
    "application/vnd.databricks.v1+cell": {
     "cellMetadata": {
      "byteLimit": 2048000,
      "rowLimit": 10000
     },
     "inputWidgets": {},
     "nuid": "809d426e-9e45-45dd-8d77-4a5153e4ab65",
     "showTitle": false,
     "tableResultSettingsMap": {},
     "title": ""
    }
   },
   "outputs": [
    {
     "output_type": "stream",
     "name": "stdout",
     "output_type": "stream",
     "text": [
      "Rows after filtering text columns: 3580\nRows removed: 6420\n"
     ]
    },
    {
     "output_type": "display_data",
     "data": {
      "text/html": [
       "<style scoped>\n",
       "  .table-result-container {\n",
       "    max-height: 300px;\n",
       "    overflow: auto;\n",
       "  }\n",
       "  table, th, td {\n",
       "    border: 1px solid black;\n",
       "    border-collapse: collapse;\n",
       "  }\n",
       "  th, td {\n",
       "    padding: 5px;\n",
       "  }\n",
       "  th {\n",
       "    text-align: left;\n",
       "  }\n",
       "</style><div class='table-result-container'><table class='table-result'><thead style='background-color: white'><tr><th>transaction_id</th><th>item</th><th>quantity</th><th>price_per_unit</th><th>total_spent</th><th>payment_method</th><th>location</th><th>transaction_date</th></tr></thead><tbody><tr><td>txn_1961373</td><td>Coffee</td><td>2</td><td>2</td><td>4</td><td>Credit Card</td><td>Takeaway</td><td>08.09.2023</td></tr><tr><td>TXn_4977031</td><td>Cake</td><td>4</td><td>3</td><td>12</td><td>Cash</td><td>In-store</td><td>16.05.2023</td></tr><tr><td>TXN4271903</td><td>Cookie</td><td>4</td><td>1</td><td>ERROR</td><td>Credit Card</td><td>In-store</td><td>19.07.2023</td></tr><tr><td>TXN3160411\t</td><td>Coffee</td><td>2</td><td>2</td><td>4</td><td>Digital Wallet</td><td>In-store</td><td>11.06.2023</td></tr><tr><td>          TXN_2548360</td><td>Salad</td><td>5</td><td>5</td><td>25</td><td>Cash</td><td>Takeaway</td><td>07.11.2023</td></tr><tr><td>TXN_7619095                   </td><td>Sandwich</td><td>2</td><td>4</td><td>8</td><td>Cash</td><td>In-store</td><td>03.05.2023</td></tr><tr><td>TXN_284 7255</td><td>Salad</td><td>3</td><td>5</td><td>15</td><td>Credit Card</td><td>In-store</td><td>15.11.2023</td></tr><tr><td>TXN_69710</td><td>Juice</td><td>2</td><td>3</td><td>6</td><td>Cash</td><td>In-store</td><td>24.02.2023</td></tr><tr><td>TXN_3709394</td><td>Juice</td><td>4</td><td>3</td><td>12</td><td>Cash</td><td>Takeaway</td><td>15.01.2023</td></tr><tr><td>TXN_3522028</td><td>Smoothie</td><td>ERROR</td><td>4</td><td>20</td><td>Cash</td><td>In-store</td><td>04.04.2023</td></tr></tbody></table></div>"
      ]
     },
     "metadata": {
      "application/vnd.databricks.v1+output": {
       "addedWidgets": {},
       "aggData": [],
       "aggError": "",
       "aggOverflow": false,
       "aggSchema": [],
       "aggSeriesLimitReached": false,
       "aggType": "",
       "arguments": {},
       "columnCustomDisplayInfos": {},
       "data": [
        [
         "txn_1961373",
         "Coffee",
         "2",
         "2",
         "4",
         "Credit Card",
         "Takeaway",
         "08.09.2023"
        ],
        [
         "TXn_4977031",
         "Cake",
         "4",
         "3",
         "12",
         "Cash",
         "In-store",
         "16.05.2023"
        ],
        [
         "TXN4271903",
         "Cookie",
         "4",
         "1",
         "ERROR",
         "Credit Card",
         "In-store",
         "19.07.2023"
        ],
        [
         "TXN3160411\t",
         "Coffee",
         "2",
         "2",
         "4",
         "Digital Wallet",
         "In-store",
         "11.06.2023"
        ],
        [
         "          TXN_2548360",
         "Salad",
         "5",
         "5",
         "25",
         "Cash",
         "Takeaway",
         "07.11.2023"
        ],
        [
         "TXN_7619095                   ",
         "Sandwich",
         "2",
         "4",
         "8",
         "Cash",
         "In-store",
         "03.05.2023"
        ],
        [
         "TXN_284 7255",
         "Salad",
         "3",
         "5",
         "15",
         "Credit Card",
         "In-store",
         "15.11.2023"
        ],
        [
         "TXN_69710",
         "Juice",
         "2",
         "3",
         "6",
         "Cash",
         "In-store",
         "24.02.2023"
        ],
        [
         "TXN_3709394",
         "Juice",
         "4",
         "3",
         "12",
         "Cash",
         "Takeaway",
         "15.01.2023"
        ],
        [
         "TXN_3522028",
         "Smoothie",
         "ERROR",
         "4",
         "20",
         "Cash",
         "In-store",
         "04.04.2023"
        ]
       ],
       "datasetInfos": [],
       "dbfsResultPath": null,
       "isJsonSchema": true,
       "metadata": {},
       "overflow": false,
       "plotOptions": {
        "customPlotOptions": {},
        "displayType": "table",
        "pivotAggregation": null,
        "pivotColumns": null,
        "xColumns": null,
        "yColumns": null
       },
       "removedWidgets": [],
       "schema": [
        {
         "metadata": "{}",
         "name": "transaction_id",
         "type": "\"string\""
        },
        {
         "metadata": "{}",
         "name": "item",
         "type": "\"string\""
        },
        {
         "metadata": "{}",
         "name": "quantity",
         "type": "\"string\""
        },
        {
         "metadata": "{}",
         "name": "price_per_unit",
         "type": "\"string\""
        },
        {
         "metadata": "{}",
         "name": "total_spent",
         "type": "\"string\""
        },
        {
         "metadata": "{}",
         "name": "payment_method",
         "type": "\"string\""
        },
        {
         "metadata": "{}",
         "name": "location",
         "type": "\"string\""
        },
        {
         "metadata": "{}",
         "name": "transaction_date",
         "type": "\"string\""
        }
       ],
       "type": "table"
      }
     },
     "output_type": "display_data"
    }
   ],
   "source": [
    "from pyspark.sql.functions import col, upper, trim\n",
    "\n",
    "# Define critical columns (text columns that must be valid)\n",
    "text_columns = [\"TRANSACTION_ID\", \"ITEM\", \"PAYMENT_METHOD\", \"LOCATION\", \"TRANSACTION_DATE\"]\n",
    "\n",
    "# Remove rows with NULL, ERROR, or UNKNOWN in critical text columns\n",
    "df_cleaned = df_bronze\n",
    "for column in text_columns:\n",
    "    df_cleaned = df_cleaned.filter(\n",
    "        (col(column).isNotNull()) & \n",
    "        (~upper(trim(col(column))).isin(['ERROR', 'UNKNOWN', 'NULL', '']))\n",
    "    )\n",
    "\n",
    "# Display row count after text filtering\n",
    "after_text_filter = df_cleaned.count()\n",
    "print(f\"Rows after filtering text columns: {after_text_filter}\")\n",
    "print(f\"Rows removed: {initial_count - after_text_filter}\")\n",
    "display(df_cleaned.limit(10))"
   ]
  },
  {
   "cell_type": "code",
   "execution_count": 0,
   "metadata": {
    "application/vnd.databricks.v1+cell": {
     "cellMetadata": {
      "byteLimit": 2048000,
      "rowLimit": 10000
     },
     "inputWidgets": {},
     "nuid": "08e81688-e541-4b25-9d75-8ccc64a29b2c",
     "showTitle": false,
     "tableResultSettingsMap": {},
     "title": ""
    }
   },
   "outputs": [
    {
     "output_type": "stream",
     "name": "stdout",
     "output_type": "stream",
     "text": [
      "Rows after numeric filtering and imputation: 3556\nRows removed: 24\n"
     ]
    },
    {
     "output_type": "display_data",
     "data": {
      "text/html": [
       "<style scoped>\n",
       "  .table-result-container {\n",
       "    max-height: 300px;\n",
       "    overflow: auto;\n",
       "  }\n",
       "  table, th, td {\n",
       "    border: 1px solid black;\n",
       "    border-collapse: collapse;\n",
       "  }\n",
       "  th, td {\n",
       "    padding: 5px;\n",
       "  }\n",
       "  th {\n",
       "    text-align: left;\n",
       "  }\n",
       "</style><div class='table-result-container'><table class='table-result'><thead style='background-color: white'><tr><th>transaction_id</th><th>item</th><th>quantity</th><th>price_per_unit</th><th>total_spent</th><th>payment_method</th><th>location</th><th>transaction_date</th></tr></thead><tbody><tr><td>txn_1961373</td><td>Coffee</td><td>2.0</td><td>2.0</td><td>4.0</td><td>Credit Card</td><td>Takeaway</td><td>08.09.2023</td></tr><tr><td>TXn_4977031</td><td>Cake</td><td>4.0</td><td>3.0</td><td>12.0</td><td>Cash</td><td>In-store</td><td>16.05.2023</td></tr><tr><td>TXN4271903</td><td>Cookie</td><td>4.0</td><td>1.0</td><td>4.0</td><td>Credit Card</td><td>In-store</td><td>19.07.2023</td></tr><tr><td>TXN3160411\t</td><td>Coffee</td><td>2.0</td><td>2.0</td><td>4.0</td><td>Digital Wallet</td><td>In-store</td><td>11.06.2023</td></tr><tr><td>          TXN_2548360</td><td>Salad</td><td>5.0</td><td>5.0</td><td>25.0</td><td>Cash</td><td>Takeaway</td><td>07.11.2023</td></tr><tr><td>TXN_7619095                   </td><td>Sandwich</td><td>2.0</td><td>4.0</td><td>8.0</td><td>Cash</td><td>In-store</td><td>03.05.2023</td></tr><tr><td>TXN_284 7255</td><td>Salad</td><td>3.0</td><td>5.0</td><td>15.0</td><td>Credit Card</td><td>In-store</td><td>15.11.2023</td></tr><tr><td>TXN_69710</td><td>Juice</td><td>2.0</td><td>3.0</td><td>6.0</td><td>Cash</td><td>In-store</td><td>24.02.2023</td></tr><tr><td>TXN_3709394</td><td>Juice</td><td>4.0</td><td>3.0</td><td>12.0</td><td>Cash</td><td>Takeaway</td><td>15.01.2023</td></tr><tr><td>TXN_3522028</td><td>Smoothie</td><td>5.0</td><td>4.0</td><td>20.0</td><td>Cash</td><td>In-store</td><td>04.04.2023</td></tr></tbody></table></div>"
      ]
     },
     "metadata": {
      "application/vnd.databricks.v1+output": {
       "addedWidgets": {},
       "aggData": [],
       "aggError": "",
       "aggOverflow": false,
       "aggSchema": [],
       "aggSeriesLimitReached": false,
       "aggType": "",
       "arguments": {},
       "columnCustomDisplayInfos": {},
       "data": [
        [
         "txn_1961373",
         "Coffee",
         "2.0",
         "2.0",
         "4.0",
         "Credit Card",
         "Takeaway",
         "08.09.2023"
        ],
        [
         "TXn_4977031",
         "Cake",
         "4.0",
         "3.0",
         "12.0",
         "Cash",
         "In-store",
         "16.05.2023"
        ],
        [
         "TXN4271903",
         "Cookie",
         "4.0",
         "1.0",
         "4.0",
         "Credit Card",
         "In-store",
         "19.07.2023"
        ],
        [
         "TXN3160411\t",
         "Coffee",
         "2.0",
         "2.0",
         "4.0",
         "Digital Wallet",
         "In-store",
         "11.06.2023"
        ],
        [
         "          TXN_2548360",
         "Salad",
         "5.0",
         "5.0",
         "25.0",
         "Cash",
         "Takeaway",
         "07.11.2023"
        ],
        [
         "TXN_7619095                   ",
         "Sandwich",
         "2.0",
         "4.0",
         "8.0",
         "Cash",
         "In-store",
         "03.05.2023"
        ],
        [
         "TXN_284 7255",
         "Salad",
         "3.0",
         "5.0",
         "15.0",
         "Credit Card",
         "In-store",
         "15.11.2023"
        ],
        [
         "TXN_69710",
         "Juice",
         "2.0",
         "3.0",
         "6.0",
         "Cash",
         "In-store",
         "24.02.2023"
        ],
        [
         "TXN_3709394",
         "Juice",
         "4.0",
         "3.0",
         "12.0",
         "Cash",
         "Takeaway",
         "15.01.2023"
        ],
        [
         "TXN_3522028",
         "Smoothie",
         "5.0",
         "4.0",
         "20.0",
         "Cash",
         "In-store",
         "04.04.2023"
        ]
       ],
       "datasetInfos": [],
       "dbfsResultPath": null,
       "isJsonSchema": true,
       "metadata": {},
       "overflow": false,
       "plotOptions": {
        "customPlotOptions": {},
        "displayType": "table",
        "pivotAggregation": null,
        "pivotColumns": null,
        "xColumns": null,
        "yColumns": null
       },
       "removedWidgets": [],
       "schema": [
        {
         "metadata": "{}",
         "name": "transaction_id",
         "type": "\"string\""
        },
        {
         "metadata": "{}",
         "name": "item",
         "type": "\"string\""
        },
        {
         "metadata": "{}",
         "name": "quantity",
         "type": "\"string\""
        },
        {
         "metadata": "{}",
         "name": "price_per_unit",
         "type": "\"string\""
        },
        {
         "metadata": "{}",
         "name": "total_spent",
         "type": "\"string\""
        },
        {
         "metadata": "{}",
         "name": "payment_method",
         "type": "\"string\""
        },
        {
         "metadata": "{}",
         "name": "location",
         "type": "\"string\""
        },
        {
         "metadata": "{}",
         "name": "transaction_date",
         "type": "\"string\""
        }
       ],
       "type": "table"
      }
     },
     "output_type": "display_data"
    }
   ],
   "source": [
    "from pyspark.sql.functions import when, col, upper, trim, regexp_replace\n",
    "from pyspark.sql.types import DoubleType\n",
    "from pyspark.sql.types import StringType\n",
    "\n",
    "numeric_columns = [\"quantity\", \"price_per_unit\", \"total_spent\"]\n",
    "\n",
    "# First, convert string columns to numeric, replacing bad values with null\n",
    "for col_name in numeric_columns:\n",
    "    df_cleaned = df_cleaned.withColumn(\n",
    "        col_name,\n",
    "        when(\n",
    "            (col(col_name).isNull()) | \n",
    "            (upper(trim(col(col_name))).isin(['ERROR', 'UNKNOWN', 'NULL', ''])),\n",
    "            None\n",
    "        ).otherwise(col(col_name).cast(DoubleType()))\n",
    "    )\n",
    "\n",
    "# Create flags for problematic numeric values (after conversion)\n",
    "for col_name in numeric_columns:\n",
    "    df_cleaned = df_cleaned.withColumn(\n",
    "        f\"{col_name}_IS_BAD\",\n",
    "        when(col(col_name).isNull(), 1).otherwise(0)\n",
    "    )\n",
    "\n",
    "# Calculate total bad columns per row\n",
    "df_cleaned = df_cleaned.withColumn(\n",
    "    \"BAD_NUMERIC_COUNT\",\n",
    "    col(\"quantity_IS_BAD\") + col(\"price_per_unit_IS_BAD\") + col(\"total_spent_IS_BAD\")\n",
    ")\n",
    "\n",
    "# IMPUTATION LOGIC: Calculate missing values from other columns\n",
    "# If QUANTITY is NULL/ERROR/UNKNOWN → QUANTITY = TOTAL_SPENT / PRICE_PER_UNIT\n",
    "df_cleaned = df_cleaned.withColumn(\n",
    "    \"quantity\",\n",
    "    when(\n",
    "        (col(\"quantity_IS_BAD\") == 1) & \n",
    "        (col(\"total_spent\").isNotNull()) & \n",
    "        (col(\"price_per_unit\").isNotNull()) &\n",
    "        (col(\"price_per_unit\") != 0),\n",
    "        col(\"total_spent\") / col(\"price_per_unit\")\n",
    "    ).otherwise(col(\"quantity\"))\n",
    ")\n",
    "\n",
    "# If PRICE_PER_UNIT is NULL/ERROR/UNKNOWN → PRICE_PER_UNIT = TOTAL_SPENT / QUANTITY\n",
    "df_cleaned = df_cleaned.withColumn(\n",
    "    \"price_per_unit\",\n",
    "    when(\n",
    "        (col(\"price_per_unit_IS_BAD\") == 1) & \n",
    "        (col(\"total_spent\").isNotNull()) & \n",
    "        (col(\"quantity\").isNotNull()) &\n",
    "        (col(\"quantity\") != 0),\n",
    "        col(\"total_spent\") / col(\"quantity\")\n",
    "    ).otherwise(col(\"price_per_unit\"))\n",
    ")\n",
    "\n",
    "# If TOTAL_SPENT is NULL/ERROR/UNKNOWN → TOTAL_SPENT = QUANTITY * PRICE_PER_UNIT\n",
    "df_cleaned = df_cleaned.withColumn(\n",
    "    \"total_spent\",\n",
    "    when(\n",
    "        (col(\"total_spent_IS_BAD\") == 1) & \n",
    "        (col(\"quantity\").isNotNull()) & \n",
    "        (col(\"price_per_unit\").isNotNull()),\n",
    "        col(\"quantity\") * col(\"price_per_unit\")\n",
    "    ).otherwise(col(\"total_spent\"))\n",
    ")\n",
    "\n",
    "# Recalculate bad numeric count after imputation\n",
    "df_cleaned = df_cleaned.withColumn(\n",
    "    \"BAD_NUMERIC_COUNT_AFTER\",\n",
    "    when(col(\"quantity\").isNull(), 1).otherwise(0) +\n",
    "    when(col(\"price_per_unit\").isNull(), 1).otherwise(0) +\n",
    "    when(col(\"total_spent\").isNull(), 1).otherwise(0)\n",
    ")\n",
    "\n",
    "# Keep rows with 0 or 1 bad numeric columns after imputation, remove rows with 2 or more\n",
    "df_cleaned = df_cleaned.filter(col(\"BAD_NUMERIC_COUNT_AFTER\") < 2)\n",
    "\n",
    "# Drop helper columns\n",
    "df_cleaned = df_cleaned.drop(\n",
    "    \"quantity_IS_BAD\", \"price_per_unit_IS_BAD\", \"total_spent_IS_BAD\", \n",
    "    \"BAD_NUMERIC_COUNT\", \"BAD_NUMERIC_COUNT_AFTER\"\n",
    ")\n",
    "\n",
    "# Convert numeric columns back to string type\n",
    "for col_name in numeric_columns:\n",
    "    df_cleaned = df_cleaned.withColumn(\n",
    "        col_name,\n",
    "        col(col_name).cast(StringType())\n",
    "    )\n",
    "\n",
    "# Display row count after numeric filtering and imputation\n",
    "after_numeric_filter = df_cleaned.count()\n",
    "print(f\"Rows after numeric filtering and imputation: {after_numeric_filter}\")\n",
    "print(f\"Rows removed: {after_text_filter - after_numeric_filter}\")\n",
    "display(df_cleaned.limit(10))\n"
   ]
  },
  {
   "cell_type": "code",
   "execution_count": 0,
   "metadata": {
    "application/vnd.databricks.v1+cell": {
     "cellMetadata": {
      "byteLimit": 2048000,
      "rowLimit": 10000
     },
     "inputWidgets": {},
     "nuid": "ec8594d5-059f-47a0-84e7-193a5c6528c0",
     "showTitle": false,
     "tableResultSettingsMap": {},
     "title": ""
    }
   },
   "outputs": [
    {
     "output_type": "stream",
     "name": "stdout",
     "output_type": "stream",
     "text": [
      "Rows after removing duplicates: 3556\nTotal rows removed: 6444\n"
     ]
    },
    {
     "output_type": "display_data",
     "data": {
      "text/html": [
       "<style scoped>\n",
       "  .table-result-container {\n",
       "    max-height: 300px;\n",
       "    overflow: auto;\n",
       "  }\n",
       "  table, th, td {\n",
       "    border: 1px solid black;\n",
       "    border-collapse: collapse;\n",
       "  }\n",
       "  th, td {\n",
       "    padding: 5px;\n",
       "  }\n",
       "  th {\n",
       "    text-align: left;\n",
       "  }\n",
       "</style><div class='table-result-container'><table class='table-result'><thead style='background-color: white'><tr><th>transaction_id</th><th>item</th><th>quantity</th><th>price_per_unit</th><th>total_spent</th><th>payment_method</th><th>location</th><th>transaction_date</th></tr></thead><tbody><tr><td>          TXN_2548360</td><td>Salad</td><td>5.0</td><td>5.0</td><td>25.0</td><td>Cash</td><td>Takeaway</td><td>07.11.2023</td></tr><tr><td>TXN3160411\t</td><td>Coffee</td><td>2.0</td><td>2.0</td><td>4.0</td><td>Digital Wallet</td><td>In-store</td><td>11.06.2023</td></tr><tr><td>TXN4271903</td><td>Cookie</td><td>4.0</td><td>1.0</td><td>4.0</td><td>Credit Card</td><td>In-store</td><td>19.07.2023</td></tr><tr><td>TXN_1000555</td><td>Tea</td><td>1.0</td><td>1.5</td><td>1.5</td><td>Credit Card</td><td>In-store</td><td>19.10.2023</td></tr><tr><td>TXN_1002457</td><td>Cookie</td><td>5.0</td><td>1.0</td><td>5.0</td><td>Digital Wallet</td><td>Takeaway</td><td>29.09.2023</td></tr><tr><td>TXN_1004184</td><td>Smoothie</td><td>1.0</td><td>4.0</td><td>4.0</td><td>Credit Card</td><td>In-store</td><td>18.05.2023</td></tr><tr><td>TXN_1004563</td><td>Tea</td><td>5.0</td><td>1.5</td><td>7.5</td><td>Credit Card</td><td>In-store</td><td>28.10.2023</td></tr><tr><td>TXN_1005331</td><td>Coffee</td><td>1.0</td><td>2.0</td><td>2.0</td><td>Digital Wallet</td><td>Takeaway</td><td>04.11.2023</td></tr><tr><td>TXN_1005377</td><td>Cake</td><td>5.0</td><td>3.0</td><td>15.0</td><td>Digital Wallet</td><td>Takeaway</td><td>03.06.2023</td></tr><tr><td>TXN_1006942</td><td>Salad</td><td>1.0</td><td>5.0</td><td>5.0</td><td>Credit Card</td><td>In-store</td><td>30.11.2023</td></tr></tbody></table></div>"
      ]
     },
     "metadata": {
      "application/vnd.databricks.v1+output": {
       "addedWidgets": {},
       "aggData": [],
       "aggError": "",
       "aggOverflow": false,
       "aggSchema": [],
       "aggSeriesLimitReached": false,
       "aggType": "",
       "arguments": {},
       "columnCustomDisplayInfos": {},
       "data": [
        [
         "          TXN_2548360",
         "Salad",
         "5.0",
         "5.0",
         "25.0",
         "Cash",
         "Takeaway",
         "07.11.2023"
        ],
        [
         "TXN3160411\t",
         "Coffee",
         "2.0",
         "2.0",
         "4.0",
         "Digital Wallet",
         "In-store",
         "11.06.2023"
        ],
        [
         "TXN4271903",
         "Cookie",
         "4.0",
         "1.0",
         "4.0",
         "Credit Card",
         "In-store",
         "19.07.2023"
        ],
        [
         "TXN_1000555",
         "Tea",
         "1.0",
         "1.5",
         "1.5",
         "Credit Card",
         "In-store",
         "19.10.2023"
        ],
        [
         "TXN_1002457",
         "Cookie",
         "5.0",
         "1.0",
         "5.0",
         "Digital Wallet",
         "Takeaway",
         "29.09.2023"
        ],
        [
         "TXN_1004184",
         "Smoothie",
         "1.0",
         "4.0",
         "4.0",
         "Credit Card",
         "In-store",
         "18.05.2023"
        ],
        [
         "TXN_1004563",
         "Tea",
         "5.0",
         "1.5",
         "7.5",
         "Credit Card",
         "In-store",
         "28.10.2023"
        ],
        [
         "TXN_1005331",
         "Coffee",
         "1.0",
         "2.0",
         "2.0",
         "Digital Wallet",
         "Takeaway",
         "04.11.2023"
        ],
        [
         "TXN_1005377",
         "Cake",
         "5.0",
         "3.0",
         "15.0",
         "Digital Wallet",
         "Takeaway",
         "03.06.2023"
        ],
        [
         "TXN_1006942",
         "Salad",
         "1.0",
         "5.0",
         "5.0",
         "Credit Card",
         "In-store",
         "30.11.2023"
        ]
       ],
       "datasetInfos": [],
       "dbfsResultPath": null,
       "isJsonSchema": true,
       "metadata": {},
       "overflow": false,
       "plotOptions": {
        "customPlotOptions": {},
        "displayType": "table",
        "pivotAggregation": null,
        "pivotColumns": null,
        "xColumns": null,
        "yColumns": null
       },
       "removedWidgets": [],
       "schema": [
        {
         "metadata": "{}",
         "name": "transaction_id",
         "type": "\"string\""
        },
        {
         "metadata": "{}",
         "name": "item",
         "type": "\"string\""
        },
        {
         "metadata": "{}",
         "name": "quantity",
         "type": "\"string\""
        },
        {
         "metadata": "{}",
         "name": "price_per_unit",
         "type": "\"string\""
        },
        {
         "metadata": "{}",
         "name": "total_spent",
         "type": "\"string\""
        },
        {
         "metadata": "{}",
         "name": "payment_method",
         "type": "\"string\""
        },
        {
         "metadata": "{}",
         "name": "location",
         "type": "\"string\""
        },
        {
         "metadata": "{}",
         "name": "transaction_date",
         "type": "\"string\""
        }
       ],
       "type": "table"
      }
     },
     "output_type": "display_data"
    }
   ],
   "source": [
    "from pyspark.sql import Window\n",
    "from pyspark.sql.functions import row_number\n",
    "\n",
    "# Create window partitioned by TRANSACTION_ID\n",
    "window = Window.partitionBy(\"TRANSACTION_ID\").orderBy(\"TRANSACTION_ID\")\n",
    "\n",
    "# Add row number for each TRANSACTION_ID group\n",
    "df_with_row_num = df_cleaned.withColumn(\"row_num\", row_number().over(window))\n",
    "\n",
    "# Keep only first occurrence (row_num = 1)\n",
    "df_cleaned = df_with_row_num.filter(col(\"row_num\") == 1).drop(\"row_num\")\n",
    "\n",
    "# Display final row count\n",
    "final_count = df_cleaned.count()\n",
    "print(f\"Rows after removing duplicates: {final_count}\")\n",
    "print(f\"Total rows removed: {initial_count - final_count}\")\n",
    "display(df_cleaned.limit(10))\n"
   ]
  },
  {
   "cell_type": "code",
   "execution_count": 0,
   "metadata": {
    "application/vnd.databricks.v1+cell": {
     "cellMetadata": {
      "byteLimit": 2048000,
      "rowLimit": 10000
     },
     "inputWidgets": {},
     "nuid": "8f0ca5cd-5f3d-4282-b9f2-85f8d9e22269",
     "showTitle": false,
     "tableResultSettingsMap": {},
     "title": ""
    }
   },
   "outputs": [
    {
     "output_type": "stream",
     "name": "stdout",
     "output_type": "stream",
     "text": [
      "✅ Bronze2 table created/updated with cleaned data\nFinal row count: 3556\n"
     ]
    }
   ],
   "source": [
    "# Define path for Bronze2 Delta Table\n",
    "bronze2_path = \"/mnt/bronze2/cafe_sales\"\n",
    "\n",
    "# Write cleaned data to Bronze2 (overwrite mode)\n",
    "df_cleaned.write \\\n",
    "    .format(\"delta\") \\\n",
    "    .mode(\"overwrite\") \\\n",
    "    .option(\"overwriteSchema\", \"true\") \\\n",
    "    .save(bronze2_path)\n",
    "\n",
    "print(f\"✅ Bronze2 table created/updated with cleaned data\")\n",
    "print(f\"Final row count: {final_count}\")\n"
   ]
  },
  {
   "cell_type": "code",
   "execution_count": 0,
   "metadata": {
    "application/vnd.databricks.v1+cell": {
     "cellMetadata": {
      "byteLimit": 2048000,
      "rowLimit": 10000
     },
     "inputWidgets": {},
     "nuid": "10156404-eee2-4381-9cc4-15118fb0a4c5",
     "showTitle": false,
     "tableResultSettingsMap": {},
     "title": ""
    }
   },
   "outputs": [
    {
     "output_type": "stream",
     "name": "stdout",
     "output_type": "stream",
     "text": [
      "✅ Table 'cafe_sales_bronze2' registered in catalog\n"
     ]
    }
   ],
   "source": [
    "# Register Bronze2 table in Databricks catalog\n",
    "spark.sql(\"\"\"\n",
    "    CREATE TABLE IF NOT EXISTS cafe_sales_bronze2\n",
    "    USING DELTA\n",
    "    LOCATION '/mnt/bronze2/cafe_sales'\n",
    "\"\"\")\n",
    "\n",
    "print(\"✅ Table 'cafe_sales_bronze2' registered in catalog\")\n"
   ]
  },
  {
   "cell_type": "code",
   "execution_count": 0,
   "metadata": {
    "application/vnd.databricks.v1+cell": {
     "cellMetadata": {
      "byteLimit": 2048000,
      "rowLimit": 10000
     },
     "inputWidgets": {},
     "nuid": "affd94a4-f623-434a-9148-2b86057651c7",
     "showTitle": false,
     "tableResultSettingsMap": {},
     "title": ""
    }
   },
   "outputs": [
    {
     "output_type": "stream",
     "name": "stdout",
     "output_type": "stream",
     "text": [
      "✅ Catalog cache refreshed for Bronze2\n\nVerification - row count in Bronze2: 3556\n"
     ]
    },
    {
     "output_type": "display_data",
     "data": {
      "text/html": [
       "<style scoped>\n",
       "  .table-result-container {\n",
       "    max-height: 300px;\n",
       "    overflow: auto;\n",
       "  }\n",
       "  table, th, td {\n",
       "    border: 1px solid black;\n",
       "    border-collapse: collapse;\n",
       "  }\n",
       "  th, td {\n",
       "    padding: 5px;\n",
       "  }\n",
       "  th {\n",
       "    text-align: left;\n",
       "  }\n",
       "</style><div class='table-result-container'><table class='table-result'><thead style='background-color: white'><tr><th>transaction_id</th><th>item</th><th>quantity</th><th>price_per_unit</th><th>total_spent</th><th>payment_method</th><th>location</th><th>transaction_date</th></tr></thead><tbody><tr><td>          TXN_2548360</td><td>Salad</td><td>5.0</td><td>5.0</td><td>25.0</td><td>Cash</td><td>Takeaway</td><td>07.11.2023</td></tr><tr><td>TXN3160411\t</td><td>Coffee</td><td>2.0</td><td>2.0</td><td>4.0</td><td>Digital Wallet</td><td>In-store</td><td>11.06.2023</td></tr><tr><td>TXN4271903</td><td>Cookie</td><td>4.0</td><td>1.0</td><td>4.0</td><td>Credit Card</td><td>In-store</td><td>19.07.2023</td></tr><tr><td>TXN_1000555</td><td>Tea</td><td>1.0</td><td>1.5</td><td>1.5</td><td>Credit Card</td><td>In-store</td><td>19.10.2023</td></tr><tr><td>TXN_1002457</td><td>Cookie</td><td>5.0</td><td>1.0</td><td>5.0</td><td>Digital Wallet</td><td>Takeaway</td><td>29.09.2023</td></tr><tr><td>TXN_1004184</td><td>Smoothie</td><td>1.0</td><td>4.0</td><td>4.0</td><td>Credit Card</td><td>In-store</td><td>18.05.2023</td></tr><tr><td>TXN_1004563</td><td>Tea</td><td>5.0</td><td>1.5</td><td>7.5</td><td>Credit Card</td><td>In-store</td><td>28.10.2023</td></tr><tr><td>TXN_1005331</td><td>Coffee</td><td>1.0</td><td>2.0</td><td>2.0</td><td>Digital Wallet</td><td>Takeaway</td><td>04.11.2023</td></tr><tr><td>TXN_1005377</td><td>Cake</td><td>5.0</td><td>3.0</td><td>15.0</td><td>Digital Wallet</td><td>Takeaway</td><td>03.06.2023</td></tr><tr><td>TXN_1006942</td><td>Salad</td><td>1.0</td><td>5.0</td><td>5.0</td><td>Credit Card</td><td>In-store</td><td>30.11.2023</td></tr><tr><td>TXN_1007347</td><td>Salad</td><td>4.0</td><td>5.0</td><td>20.0</td><td>Digital Wallet</td><td>In-store</td><td>28.08.2023</td></tr><tr><td>TXN_1009421</td><td>Cookie</td><td>4.0</td><td>1.0</td><td>4.0</td><td>Cash</td><td>Takeaway</td><td>21.02.2023</td></tr><tr><td>TXN_1010950</td><td>Cookie</td><td>1.0</td><td>1.0</td><td>1.0</td><td>Digital Wallet</td><td>Takeaway</td><td>07.01.2023</td></tr><tr><td>TXN_1011236</td><td>Cake</td><td>1.0</td><td>3.0</td><td>3.0</td><td>Cash</td><td>In-store</td><td>08.02.2023</td></tr><tr><td>TXN_1015883</td><td>Cookie</td><td>4.0</td><td>1.0</td><td>4.0</td><td>Cash</td><td>In-store</td><td>16.10.2023</td></tr><tr><td>TXN_1020478</td><td>Coffee</td><td>1.0</td><td>2.0</td><td>2.0</td><td>Digital Wallet</td><td>Takeaway</td><td>09.03.2023</td></tr><tr><td>TXN_1022523</td><td>Salad</td><td>4.0</td><td>5.0</td><td>20.0</td><td>Cash</td><td>In-store</td><td>25.11.2023</td></tr><tr><td>TXN_1026827</td><td>Cookie</td><td>4.0</td><td>1.0</td><td>4.0</td><td>Digital Wallet</td><td>In-store</td><td>02.01.2023</td></tr><tr><td>TXN_1035504</td><td>Smoothie</td><td>2.0</td><td>4.0</td><td>8.0</td><td>Digital Wallet</td><td>Takeaway</td><td>30.03.2023</td></tr><tr><td>TXN_1040764</td><td>Coffee</td><td>3.0</td><td>2.0</td><td>6.0</td><td>Cash</td><td>Takeaway</td><td>27.07.2023</td></tr></tbody></table></div>"
      ]
     },
     "metadata": {
      "application/vnd.databricks.v1+output": {
       "addedWidgets": {},
       "aggData": [],
       "aggError": "",
       "aggOverflow": false,
       "aggSchema": [],
       "aggSeriesLimitReached": false,
       "aggType": "",
       "arguments": {},
       "columnCustomDisplayInfos": {},
       "data": [
        [
         "          TXN_2548360",
         "Salad",
         "5.0",
         "5.0",
         "25.0",
         "Cash",
         "Takeaway",
         "07.11.2023"
        ],
        [
         "TXN3160411\t",
         "Coffee",
         "2.0",
         "2.0",
         "4.0",
         "Digital Wallet",
         "In-store",
         "11.06.2023"
        ],
        [
         "TXN4271903",
         "Cookie",
         "4.0",
         "1.0",
         "4.0",
         "Credit Card",
         "In-store",
         "19.07.2023"
        ],
        [
         "TXN_1000555",
         "Tea",
         "1.0",
         "1.5",
         "1.5",
         "Credit Card",
         "In-store",
         "19.10.2023"
        ],
        [
         "TXN_1002457",
         "Cookie",
         "5.0",
         "1.0",
         "5.0",
         "Digital Wallet",
         "Takeaway",
         "29.09.2023"
        ],
        [
         "TXN_1004184",
         "Smoothie",
         "1.0",
         "4.0",
         "4.0",
         "Credit Card",
         "In-store",
         "18.05.2023"
        ],
        [
         "TXN_1004563",
         "Tea",
         "5.0",
         "1.5",
         "7.5",
         "Credit Card",
         "In-store",
         "28.10.2023"
        ],
        [
         "TXN_1005331",
         "Coffee",
         "1.0",
         "2.0",
         "2.0",
         "Digital Wallet",
         "Takeaway",
         "04.11.2023"
        ],
        [
         "TXN_1005377",
         "Cake",
         "5.0",
         "3.0",
         "15.0",
         "Digital Wallet",
         "Takeaway",
         "03.06.2023"
        ],
        [
         "TXN_1006942",
         "Salad",
         "1.0",
         "5.0",
         "5.0",
         "Credit Card",
         "In-store",
         "30.11.2023"
        ],
        [
         "TXN_1007347",
         "Salad",
         "4.0",
         "5.0",
         "20.0",
         "Digital Wallet",
         "In-store",
         "28.08.2023"
        ],
        [
         "TXN_1009421",
         "Cookie",
         "4.0",
         "1.0",
         "4.0",
         "Cash",
         "Takeaway",
         "21.02.2023"
        ],
        [
         "TXN_1010950",
         "Cookie",
         "1.0",
         "1.0",
         "1.0",
         "Digital Wallet",
         "Takeaway",
         "07.01.2023"
        ],
        [
         "TXN_1011236",
         "Cake",
         "1.0",
         "3.0",
         "3.0",
         "Cash",
         "In-store",
         "08.02.2023"
        ],
        [
         "TXN_1015883",
         "Cookie",
         "4.0",
         "1.0",
         "4.0",
         "Cash",
         "In-store",
         "16.10.2023"
        ],
        [
         "TXN_1020478",
         "Coffee",
         "1.0",
         "2.0",
         "2.0",
         "Digital Wallet",
         "Takeaway",
         "09.03.2023"
        ],
        [
         "TXN_1022523",
         "Salad",
         "4.0",
         "5.0",
         "20.0",
         "Cash",
         "In-store",
         "25.11.2023"
        ],
        [
         "TXN_1026827",
         "Cookie",
         "4.0",
         "1.0",
         "4.0",
         "Digital Wallet",
         "In-store",
         "02.01.2023"
        ],
        [
         "TXN_1035504",
         "Smoothie",
         "2.0",
         "4.0",
         "8.0",
         "Digital Wallet",
         "Takeaway",
         "30.03.2023"
        ],
        [
         "TXN_1040764",
         "Coffee",
         "3.0",
         "2.0",
         "6.0",
         "Cash",
         "Takeaway",
         "27.07.2023"
        ]
       ],
       "datasetInfos": [],
       "dbfsResultPath": null,
       "isJsonSchema": true,
       "metadata": {},
       "overflow": false,
       "plotOptions": {
        "customPlotOptions": {},
        "displayType": "table",
        "pivotAggregation": null,
        "pivotColumns": null,
        "xColumns": null,
        "yColumns": null
       },
       "removedWidgets": [],
       "schema": [
        {
         "metadata": "{}",
         "name": "transaction_id",
         "type": "\"string\""
        },
        {
         "metadata": "{}",
         "name": "item",
         "type": "\"string\""
        },
        {
         "metadata": "{}",
         "name": "quantity",
         "type": "\"string\""
        },
        {
         "metadata": "{}",
         "name": "price_per_unit",
         "type": "\"string\""
        },
        {
         "metadata": "{}",
         "name": "total_spent",
         "type": "\"string\""
        },
        {
         "metadata": "{}",
         "name": "payment_method",
         "type": "\"string\""
        },
        {
         "metadata": "{}",
         "name": "location",
         "type": "\"string\""
        },
        {
         "metadata": "{}",
         "name": "transaction_date",
         "type": "\"string\""
        }
       ],
       "type": "table"
      }
     },
     "output_type": "display_data"
    }
   ],
   "source": [
    "# Refresh catalog and verify\n",
    "spark.catalog.refreshTable(\"cafe_sales_bronze2\")\n",
    "print(\"✅ Catalog cache refreshed for Bronze2\")\n",
    "\n",
    "# Read back from Bronze2 to verify\n",
    "df_verify = spark.read.format(\"delta\").load(bronze2_path)\n",
    "\n",
    "print(f\"\\nVerification - row count in Bronze2: {df_verify.count()}\")\n",
    "display(df_verify.limit(20))\n"
   ]
  }
 ],
 "metadata": {
  "application/vnd.databricks.v1+notebook": {
   "computePreferences": null,
   "dashboards": [],
   "environmentMetadata": {
    "base_environment": "",
    "environment_version": "4"
   },
   "inputWidgetPreferences": null,
   "language": "python",
   "notebookMetadata": {
    "pythonIndentUnit": 4
   },
   "notebookName": "03-cleaning-data",
   "widgets": {}
  },
  "language_info": {
   "name": "python"
  }
 },
 "nbformat": 4,
 "nbformat_minor": 0
}