{
 "cells": [
  {
   "cell_type": "code",
   "execution_count": 0,
   "metadata": {
    "application/vnd.databricks.v1+cell": {
     "cellMetadata": {
      "byteLimit": 2048000,
      "rowLimit": 10000
     },
     "inputWidgets": {},
     "nuid": "65c982c7-4773-4efc-b2a5-520c459a06df",
     "showTitle": false,
     "tableResultSettingsMap": {},
     "title": ""
    }
   },
   "outputs": [
    {
     "output_type": "stream",
     "name": "stdout",
     "output_type": "stream",
     "text": [
      "Initial row count (Bronze2): 3555\n"
     ]
    },
    {
     "output_type": "display_data",
     "data": {
      "text/html": [
       "<style scoped>\n",
       "  .table-result-container {\n",
       "    max-height: 300px;\n",
       "    overflow: auto;\n",
       "  }\n",
       "  table, th, td {\n",
       "    border: 1px solid black;\n",
       "    border-collapse: collapse;\n",
       "  }\n",
       "  th, td {\n",
       "    padding: 5px;\n",
       "  }\n",
       "  th {\n",
       "    text-align: left;\n",
       "  }\n",
       "</style><div class='table-result-container'><table class='table-result'><thead style='background-color: white'><tr><th>transaction_id</th><th>item</th><th>quantity</th><th>price_per_unit</th><th>total_spent</th><th>payment_method</th><th>location</th><th>transaction_date</th></tr></thead><tbody><tr><td>TXN_2548360</td><td>Salad</td><td>5.0</td><td>5.0</td><td>25.0</td><td>Cash</td><td>Takeaway</td><td>07-11-2023</td></tr><tr><td>TXN_3160411</td><td>Coffee</td><td>2.0</td><td>2.0</td><td>4.0</td><td>no-cash payment</td><td>In-store</td><td>11-06-2023</td></tr><tr><td>TXN_4271903</td><td>Cookie</td><td>4.0</td><td>1.0</td><td>4.0</td><td>no-cash payment</td><td>In-store</td><td>19-07-2023</td></tr><tr><td>TXN_1000555</td><td>Tea</td><td>1.0</td><td>1.5</td><td>1.5</td><td>no-cash payment</td><td>In-store</td><td>19-10-2023</td></tr><tr><td>TXN_1002457</td><td>Cookie</td><td>5.0</td><td>1.0</td><td>5.0</td><td>no-cash payment</td><td>Takeaway</td><td>29-09-2023</td></tr><tr><td>TXN_1004184</td><td>Smoothie</td><td>1.0</td><td>4.0</td><td>4.0</td><td>no-cash payment</td><td>In-store</td><td>18-05-2023</td></tr><tr><td>TXN_1004563</td><td>Tea</td><td>5.0</td><td>1.5</td><td>7.5</td><td>no-cash payment</td><td>In-store</td><td>28-10-2023</td></tr><tr><td>TXN_1005331</td><td>Coffee</td><td>1.0</td><td>2.0</td><td>2.0</td><td>no-cash payment</td><td>Takeaway</td><td>04-11-2023</td></tr><tr><td>TXN_1005377</td><td>Cake</td><td>5.0</td><td>3.0</td><td>15.0</td><td>no-cash payment</td><td>Takeaway</td><td>03-06-2023</td></tr><tr><td>TXN_1006942</td><td>Salad</td><td>1.0</td><td>5.0</td><td>5.0</td><td>no-cash payment</td><td>In-store</td><td>30-11-2023</td></tr></tbody></table></div>"
      ]
     },
     "metadata": {
      "application/vnd.databricks.v1+output": {
       "addedWidgets": {},
       "aggData": [],
       "aggError": "",
       "aggOverflow": false,
       "aggSchema": [],
       "aggSeriesLimitReached": false,
       "aggType": "",
       "arguments": {},
       "columnCustomDisplayInfos": {},
       "data": [
        [
         "TXN_2548360",
         "Salad",
         "5.0",
         "5.0",
         "25.0",
         "Cash",
         "Takeaway",
         "07-11-2023"
        ],
        [
         "TXN_3160411",
         "Coffee",
         "2.0",
         "2.0",
         "4.0",
         "no-cash payment",
         "In-store",
         "11-06-2023"
        ],
        [
         "TXN_4271903",
         "Cookie",
         "4.0",
         "1.0",
         "4.0",
         "no-cash payment",
         "In-store",
         "19-07-2023"
        ],
        [
         "TXN_1000555",
         "Tea",
         "1.0",
         "1.5",
         "1.5",
         "no-cash payment",
         "In-store",
         "19-10-2023"
        ],
        [
         "TXN_1002457",
         "Cookie",
         "5.0",
         "1.0",
         "5.0",
         "no-cash payment",
         "Takeaway",
         "29-09-2023"
        ],
        [
         "TXN_1004184",
         "Smoothie",
         "1.0",
         "4.0",
         "4.0",
         "no-cash payment",
         "In-store",
         "18-05-2023"
        ],
        [
         "TXN_1004563",
         "Tea",
         "5.0",
         "1.5",
         "7.5",
         "no-cash payment",
         "In-store",
         "28-10-2023"
        ],
        [
         "TXN_1005331",
         "Coffee",
         "1.0",
         "2.0",
         "2.0",
         "no-cash payment",
         "Takeaway",
         "04-11-2023"
        ],
        [
         "TXN_1005377",
         "Cake",
         "5.0",
         "3.0",
         "15.0",
         "no-cash payment",
         "Takeaway",
         "03-06-2023"
        ],
        [
         "TXN_1006942",
         "Salad",
         "1.0",
         "5.0",
         "5.0",
         "no-cash payment",
         "In-store",
         "30-11-2023"
        ]
       ],
       "datasetInfos": [],
       "dbfsResultPath": null,
       "isJsonSchema": true,
       "metadata": {},
       "overflow": false,
       "plotOptions": {
        "customPlotOptions": {},
        "displayType": "table",
        "pivotAggregation": null,
        "pivotColumns": null,
        "xColumns": null,
        "yColumns": null
       },
       "removedWidgets": [],
       "schema": [
        {
         "metadata": "{}",
         "name": "transaction_id",
         "type": "\"string\""
        },
        {
         "metadata": "{}",
         "name": "item",
         "type": "\"string\""
        },
        {
         "metadata": "{}",
         "name": "quantity",
         "type": "\"string\""
        },
        {
         "metadata": "{}",
         "name": "price_per_unit",
         "type": "\"string\""
        },
        {
         "metadata": "{}",
         "name": "total_spent",
         "type": "\"string\""
        },
        {
         "metadata": "{}",
         "name": "payment_method",
         "type": "\"string\""
        },
        {
         "metadata": "{}",
         "name": "location",
         "type": "\"string\""
        },
        {
         "metadata": "{}",
         "name": "transaction_date",
         "type": "\"string\""
        }
       ],
       "type": "table"
      }
     },
     "output_type": "display_data"
    }
   ],
   "source": [
    "# Read data from Bronze2 Delta Table\n",
    "bronze2_path = \"/mnt/bronze2/cafe_sales\"\n",
    "df_bronze2 = spark.read.format(\"delta\").load(bronze2_path)\n",
    "\n",
    "# Display initial row count and sample data\n",
    "print(f\"Initial row count (Bronze2): {df_bronze2.count()}\")\n",
    "display(df_bronze2.limit(10))\n"
   ]
  },
  {
   "cell_type": "code",
   "execution_count": 0,
   "metadata": {
    "application/vnd.databricks.v1+cell": {
     "cellMetadata": {
      "byteLimit": 2048000,
      "rowLimit": 10000
     },
     "inputWidgets": {},
     "nuid": "6c5bf187-52b7-411e-9797-a495b53c50f6",
     "showTitle": false,
     "tableResultSettingsMap": {},
     "title": ""
    }
   },
   "outputs": [
    {
     "output_type": "stream",
     "name": "stdout",
     "output_type": "stream",
     "text": [
      "✅ Usunięto 0 rekordów bez dokładnie 3 liter i 7 cyfr\nPozostało rekordów: 3555\n"
     ]
    },
    {
     "output_type": "display_data",
     "data": {
      "text/html": [
       "<style scoped>\n",
       "  .table-result-container {\n",
       "    max-height: 300px;\n",
       "    overflow: auto;\n",
       "  }\n",
       "  table, th, td {\n",
       "    border: 1px solid black;\n",
       "    border-collapse: collapse;\n",
       "  }\n",
       "  th, td {\n",
       "    padding: 5px;\n",
       "  }\n",
       "  th {\n",
       "    text-align: left;\n",
       "  }\n",
       "</style><div class='table-result-container'><table class='table-result'><thead style='background-color: white'><tr><th>transaction_id</th><th>item</th><th>quantity</th><th>price_per_unit</th><th>total_spent</th><th>payment_method</th><th>location</th><th>transaction_date</th></tr></thead><tbody><tr><td>TXN_2548360</td><td>Salad</td><td>5.0</td><td>5.0</td><td>25.0</td><td>Cash</td><td>Takeaway</td><td>07-11-2023</td></tr><tr><td>TXN_3160411</td><td>Coffee</td><td>2.0</td><td>2.0</td><td>4.0</td><td>no-cash payment</td><td>In-store</td><td>11-06-2023</td></tr><tr><td>TXN_4271903</td><td>Cookie</td><td>4.0</td><td>1.0</td><td>4.0</td><td>no-cash payment</td><td>In-store</td><td>19-07-2023</td></tr><tr><td>TXN_1000555</td><td>Tea</td><td>1.0</td><td>1.5</td><td>1.5</td><td>no-cash payment</td><td>In-store</td><td>19-10-2023</td></tr><tr><td>TXN_1002457</td><td>Cookie</td><td>5.0</td><td>1.0</td><td>5.0</td><td>no-cash payment</td><td>Takeaway</td><td>29-09-2023</td></tr><tr><td>TXN_1004184</td><td>Smoothie</td><td>1.0</td><td>4.0</td><td>4.0</td><td>no-cash payment</td><td>In-store</td><td>18-05-2023</td></tr><tr><td>TXN_1004563</td><td>Tea</td><td>5.0</td><td>1.5</td><td>7.5</td><td>no-cash payment</td><td>In-store</td><td>28-10-2023</td></tr><tr><td>TXN_1005331</td><td>Coffee</td><td>1.0</td><td>2.0</td><td>2.0</td><td>no-cash payment</td><td>Takeaway</td><td>04-11-2023</td></tr><tr><td>TXN_1005377</td><td>Cake</td><td>5.0</td><td>3.0</td><td>15.0</td><td>no-cash payment</td><td>Takeaway</td><td>03-06-2023</td></tr><tr><td>TXN_1006942</td><td>Salad</td><td>1.0</td><td>5.0</td><td>5.0</td><td>no-cash payment</td><td>In-store</td><td>30-11-2023</td></tr></tbody></table></div>"
      ]
     },
     "metadata": {
      "application/vnd.databricks.v1+output": {
       "addedWidgets": {},
       "aggData": [],
       "aggError": "",
       "aggOverflow": false,
       "aggSchema": [],
       "aggSeriesLimitReached": false,
       "aggType": "",
       "arguments": {},
       "columnCustomDisplayInfos": {},
       "data": [
        [
         "TXN_2548360",
         "Salad",
         "5.0",
         "5.0",
         "25.0",
         "Cash",
         "Takeaway",
         "07-11-2023"
        ],
        [
         "TXN_3160411",
         "Coffee",
         "2.0",
         "2.0",
         "4.0",
         "no-cash payment",
         "In-store",
         "11-06-2023"
        ],
        [
         "TXN_4271903",
         "Cookie",
         "4.0",
         "1.0",
         "4.0",
         "no-cash payment",
         "In-store",
         "19-07-2023"
        ],
        [
         "TXN_1000555",
         "Tea",
         "1.0",
         "1.5",
         "1.5",
         "no-cash payment",
         "In-store",
         "19-10-2023"
        ],
        [
         "TXN_1002457",
         "Cookie",
         "5.0",
         "1.0",
         "5.0",
         "no-cash payment",
         "Takeaway",
         "29-09-2023"
        ],
        [
         "TXN_1004184",
         "Smoothie",
         "1.0",
         "4.0",
         "4.0",
         "no-cash payment",
         "In-store",
         "18-05-2023"
        ],
        [
         "TXN_1004563",
         "Tea",
         "5.0",
         "1.5",
         "7.5",
         "no-cash payment",
         "In-store",
         "28-10-2023"
        ],
        [
         "TXN_1005331",
         "Coffee",
         "1.0",
         "2.0",
         "2.0",
         "no-cash payment",
         "Takeaway",
         "04-11-2023"
        ],
        [
         "TXN_1005377",
         "Cake",
         "5.0",
         "3.0",
         "15.0",
         "no-cash payment",
         "Takeaway",
         "03-06-2023"
        ],
        [
         "TXN_1006942",
         "Salad",
         "1.0",
         "5.0",
         "5.0",
         "no-cash payment",
         "In-store",
         "30-11-2023"
        ]
       ],
       "datasetInfos": [],
       "dbfsResultPath": null,
       "isJsonSchema": true,
       "metadata": {},
       "overflow": false,
       "plotOptions": {
        "customPlotOptions": {},
        "displayType": "table",
        "pivotAggregation": null,
        "pivotColumns": null,
        "xColumns": null,
        "yColumns": null
       },
       "removedWidgets": [],
       "schema": [
        {
         "metadata": "{}",
         "name": "transaction_id",
         "type": "\"string\""
        },
        {
         "metadata": "{}",
         "name": "item",
         "type": "\"string\""
        },
        {
         "metadata": "{}",
         "name": "quantity",
         "type": "\"string\""
        },
        {
         "metadata": "{}",
         "name": "price_per_unit",
         "type": "\"string\""
        },
        {
         "metadata": "{}",
         "name": "total_spent",
         "type": "\"string\""
        },
        {
         "metadata": "{}",
         "name": "payment_method",
         "type": "\"string\""
        },
        {
         "metadata": "{}",
         "name": "location",
         "type": "\"string\""
        },
        {
         "metadata": "{}",
         "name": "transaction_date",
         "type": "\"string\""
        }
       ],
       "type": "table"
      }
     },
     "output_type": "display_data"
    }
   ],
   "source": [
    "from pyspark.sql.functions import col, regexp_replace, length, upper\n",
    "\n",
    "# Count records before validation\n",
    "before_count = df_bronze2.count()\n",
    "\n",
    "# Remove records that don't have exactly 3 letters and 7 digits\n",
    "df_valid = df_bronze2.filter(\n",
    "    (col(\"transaction_id\").isNotNull()) &\n",
    "    (length(regexp_replace(col(\"transaction_id\"), \"[^A-Za-z]\", \"\")) == 3) &\n",
    "    (length(regexp_replace(col(\"transaction_id\"), \"[^0-9]\", \"\")) == 7)\n",
    ")\n",
    "\n",
    "after_filter_count = df_valid.count()\n",
    "print(f\"✅ Usunięto {before_count - after_filter_count} rekordów bez dokładnie 3 liter i 7 cyfr\")\n",
    "print(f\"Pozostało rekordów: {after_filter_count}\")\n",
    "display(df_valid.limit(10))\n"
   ]
  },
  {
   "cell_type": "code",
   "execution_count": 0,
   "metadata": {
    "application/vnd.databricks.v1+cell": {
     "cellMetadata": {
      "byteLimit": 2048000,
      "rowLimit": 10000
     },
     "inputWidgets": {},
     "nuid": "8f77d298-5aa3-4d33-9df3-fea001b700b8",
     "showTitle": false,
     "tableResultSettingsMap": {},
     "title": ""
    }
   },
   "outputs": [
    {
     "output_type": "stream",
     "name": "stdout",
     "output_type": "stream",
     "text": [
      "✅ 1. Zamieniono pierwsze 3 znaki na wielkie litery\n✅ 2. Dodano underscore między literami a cyframi\n"
     ]
    },
    {
     "output_type": "display_data",
     "data": {
      "text/html": [
       "<style scoped>\n",
       "  .table-result-container {\n",
       "    max-height: 300px;\n",
       "    overflow: auto;\n",
       "  }\n",
       "  table, th, td {\n",
       "    border: 1px solid black;\n",
       "    border-collapse: collapse;\n",
       "  }\n",
       "  th, td {\n",
       "    padding: 5px;\n",
       "  }\n",
       "  th {\n",
       "    text-align: left;\n",
       "  }\n",
       "</style><div class='table-result-container'><table class='table-result'><thead style='background-color: white'><tr><th>transaction_id</th><th>item</th><th>quantity</th><th>price_per_unit</th><th>total_spent</th><th>payment_method</th><th>location</th><th>transaction_date</th></tr></thead><tbody><tr><td>TXN_2548360</td><td>Salad</td><td>5.0</td><td>5.0</td><td>25.0</td><td>Cash</td><td>Takeaway</td><td>07-11-2023</td></tr><tr><td>TXN_3160411</td><td>Coffee</td><td>2.0</td><td>2.0</td><td>4.0</td><td>no-cash payment</td><td>In-store</td><td>11-06-2023</td></tr><tr><td>TXN_4271903</td><td>Cookie</td><td>4.0</td><td>1.0</td><td>4.0</td><td>no-cash payment</td><td>In-store</td><td>19-07-2023</td></tr><tr><td>TXN_1000555</td><td>Tea</td><td>1.0</td><td>1.5</td><td>1.5</td><td>no-cash payment</td><td>In-store</td><td>19-10-2023</td></tr><tr><td>TXN_1002457</td><td>Cookie</td><td>5.0</td><td>1.0</td><td>5.0</td><td>no-cash payment</td><td>Takeaway</td><td>29-09-2023</td></tr><tr><td>TXN_1004184</td><td>Smoothie</td><td>1.0</td><td>4.0</td><td>4.0</td><td>no-cash payment</td><td>In-store</td><td>18-05-2023</td></tr><tr><td>TXN_1004563</td><td>Tea</td><td>5.0</td><td>1.5</td><td>7.5</td><td>no-cash payment</td><td>In-store</td><td>28-10-2023</td></tr><tr><td>TXN_1005331</td><td>Coffee</td><td>1.0</td><td>2.0</td><td>2.0</td><td>no-cash payment</td><td>Takeaway</td><td>04-11-2023</td></tr><tr><td>TXN_1005377</td><td>Cake</td><td>5.0</td><td>3.0</td><td>15.0</td><td>no-cash payment</td><td>Takeaway</td><td>03-06-2023</td></tr><tr><td>TXN_1006942</td><td>Salad</td><td>1.0</td><td>5.0</td><td>5.0</td><td>no-cash payment</td><td>In-store</td><td>30-11-2023</td></tr></tbody></table></div>"
      ]
     },
     "metadata": {
      "application/vnd.databricks.v1+output": {
       "addedWidgets": {},
       "aggData": [],
       "aggError": "",
       "aggOverflow": false,
       "aggSchema": [],
       "aggSeriesLimitReached": false,
       "aggType": "",
       "arguments": {},
       "columnCustomDisplayInfos": {},
       "data": [
        [
         "TXN_2548360",
         "Salad",
         "5.0",
         "5.0",
         "25.0",
         "Cash",
         "Takeaway",
         "07-11-2023"
        ],
        [
         "TXN_3160411",
         "Coffee",
         "2.0",
         "2.0",
         "4.0",
         "no-cash payment",
         "In-store",
         "11-06-2023"
        ],
        [
         "TXN_4271903",
         "Cookie",
         "4.0",
         "1.0",
         "4.0",
         "no-cash payment",
         "In-store",
         "19-07-2023"
        ],
        [
         "TXN_1000555",
         "Tea",
         "1.0",
         "1.5",
         "1.5",
         "no-cash payment",
         "In-store",
         "19-10-2023"
        ],
        [
         "TXN_1002457",
         "Cookie",
         "5.0",
         "1.0",
         "5.0",
         "no-cash payment",
         "Takeaway",
         "29-09-2023"
        ],
        [
         "TXN_1004184",
         "Smoothie",
         "1.0",
         "4.0",
         "4.0",
         "no-cash payment",
         "In-store",
         "18-05-2023"
        ],
        [
         "TXN_1004563",
         "Tea",
         "5.0",
         "1.5",
         "7.5",
         "no-cash payment",
         "In-store",
         "28-10-2023"
        ],
        [
         "TXN_1005331",
         "Coffee",
         "1.0",
         "2.0",
         "2.0",
         "no-cash payment",
         "Takeaway",
         "04-11-2023"
        ],
        [
         "TXN_1005377",
         "Cake",
         "5.0",
         "3.0",
         "15.0",
         "no-cash payment",
         "Takeaway",
         "03-06-2023"
        ],
        [
         "TXN_1006942",
         "Salad",
         "1.0",
         "5.0",
         "5.0",
         "no-cash payment",
         "In-store",
         "30-11-2023"
        ]
       ],
       "datasetInfos": [],
       "dbfsResultPath": null,
       "isJsonSchema": true,
       "metadata": {},
       "overflow": false,
       "plotOptions": {
        "customPlotOptions": {},
        "displayType": "table",
        "pivotAggregation": null,
        "pivotColumns": null,
        "xColumns": null,
        "yColumns": null
       },
       "removedWidgets": [],
       "schema": [
        {
         "metadata": "{}",
         "name": "transaction_id",
         "type": "\"string\""
        },
        {
         "metadata": "{}",
         "name": "item",
         "type": "\"string\""
        },
        {
         "metadata": "{}",
         "name": "quantity",
         "type": "\"string\""
        },
        {
         "metadata": "{}",
         "name": "price_per_unit",
         "type": "\"string\""
        },
        {
         "metadata": "{}",
         "name": "total_spent",
         "type": "\"string\""
        },
        {
         "metadata": "{}",
         "name": "payment_method",
         "type": "\"string\""
        },
        {
         "metadata": "{}",
         "name": "location",
         "type": "\"string\""
        },
        {
         "metadata": "{}",
         "name": "transaction_date",
         "type": "\"string\""
        }
       ],
       "type": "table"
      }
     },
     "output_type": "display_data"
    }
   ],
   "source": [
    "from pyspark.sql.functions import concat, substring, lit\n",
    "\n",
    "# Extract letters and digits, then format as UPPERCASE_LETTERS + '_' + DIGITS\n",
    "df_formatted = df_valid.withColumn(\n",
    "    \"transaction_id\",\n",
    "    concat(\n",
    "        upper(substring(regexp_replace(col(\"transaction_id\"), \"[^A-Za-z]\", \"\"), 1, 3)),\n",
    "        lit(\"_\"),\n",
    "        substring(regexp_replace(col(\"transaction_id\"), \"[^0-9]\", \"\"), 1, 7)\n",
    "    )\n",
    ")\n",
    "\n",
    "print(\"✅ 1. Zamieniono pierwsze 3 znaki na wielkie litery\")\n",
    "print(\"✅ 2. Dodano underscore między literami a cyframi\")\n",
    "display(df_formatted.limit(10))\n"
   ]
  },
  {
   "cell_type": "code",
   "execution_count": 0,
   "metadata": {
    "application/vnd.databricks.v1+cell": {
     "cellMetadata": {
      "byteLimit": 2048000,
      "rowLimit": 10000
     },
     "inputWidgets": {},
     "nuid": "2375f8bd-dd12-4041-b59d-c58129659e07",
     "showTitle": false,
     "tableResultSettingsMap": {},
     "title": ""
    }
   },
   "outputs": [
    {
     "output_type": "stream",
     "name": "stdout",
     "output_type": "stream",
     "text": [
      "✅ 3. Ostateczna walidacja - usunięto 0 niepoprawnych formatów\nPozostało rekordów: 3555\n"
     ]
    },
    {
     "output_type": "display_data",
     "data": {
      "text/html": [
       "<style scoped>\n",
       "  .table-result-container {\n",
       "    max-height: 300px;\n",
       "    overflow: auto;\n",
       "  }\n",
       "  table, th, td {\n",
       "    border: 1px solid black;\n",
       "    border-collapse: collapse;\n",
       "  }\n",
       "  th, td {\n",
       "    padding: 5px;\n",
       "  }\n",
       "  th {\n",
       "    text-align: left;\n",
       "  }\n",
       "</style><div class='table-result-container'><table class='table-result'><thead style='background-color: white'><tr><th>transaction_id</th><th>item</th><th>quantity</th><th>price_per_unit</th><th>total_spent</th><th>payment_method</th><th>location</th><th>transaction_date</th></tr></thead><tbody><tr><td>TXN_2548360</td><td>Salad</td><td>5.0</td><td>5.0</td><td>25.0</td><td>Cash</td><td>Takeaway</td><td>07-11-2023</td></tr><tr><td>TXN_3160411</td><td>Coffee</td><td>2.0</td><td>2.0</td><td>4.0</td><td>no-cash payment</td><td>In-store</td><td>11-06-2023</td></tr><tr><td>TXN_4271903</td><td>Cookie</td><td>4.0</td><td>1.0</td><td>4.0</td><td>no-cash payment</td><td>In-store</td><td>19-07-2023</td></tr><tr><td>TXN_1000555</td><td>Tea</td><td>1.0</td><td>1.5</td><td>1.5</td><td>no-cash payment</td><td>In-store</td><td>19-10-2023</td></tr><tr><td>TXN_1002457</td><td>Cookie</td><td>5.0</td><td>1.0</td><td>5.0</td><td>no-cash payment</td><td>Takeaway</td><td>29-09-2023</td></tr><tr><td>TXN_1004184</td><td>Smoothie</td><td>1.0</td><td>4.0</td><td>4.0</td><td>no-cash payment</td><td>In-store</td><td>18-05-2023</td></tr><tr><td>TXN_1004563</td><td>Tea</td><td>5.0</td><td>1.5</td><td>7.5</td><td>no-cash payment</td><td>In-store</td><td>28-10-2023</td></tr><tr><td>TXN_1005331</td><td>Coffee</td><td>1.0</td><td>2.0</td><td>2.0</td><td>no-cash payment</td><td>Takeaway</td><td>04-11-2023</td></tr><tr><td>TXN_1005377</td><td>Cake</td><td>5.0</td><td>3.0</td><td>15.0</td><td>no-cash payment</td><td>Takeaway</td><td>03-06-2023</td></tr><tr><td>TXN_1006942</td><td>Salad</td><td>1.0</td><td>5.0</td><td>5.0</td><td>no-cash payment</td><td>In-store</td><td>30-11-2023</td></tr></tbody></table></div>"
      ]
     },
     "metadata": {
      "application/vnd.databricks.v1+output": {
       "addedWidgets": {},
       "aggData": [],
       "aggError": "",
       "aggOverflow": false,
       "aggSchema": [],
       "aggSeriesLimitReached": false,
       "aggType": "",
       "arguments": {},
       "columnCustomDisplayInfos": {},
       "data": [
        [
         "TXN_2548360",
         "Salad",
         "5.0",
         "5.0",
         "25.0",
         "Cash",
         "Takeaway",
         "07-11-2023"
        ],
        [
         "TXN_3160411",
         "Coffee",
         "2.0",
         "2.0",
         "4.0",
         "no-cash payment",
         "In-store",
         "11-06-2023"
        ],
        [
         "TXN_4271903",
         "Cookie",
         "4.0",
         "1.0",
         "4.0",
         "no-cash payment",
         "In-store",
         "19-07-2023"
        ],
        [
         "TXN_1000555",
         "Tea",
         "1.0",
         "1.5",
         "1.5",
         "no-cash payment",
         "In-store",
         "19-10-2023"
        ],
        [
         "TXN_1002457",
         "Cookie",
         "5.0",
         "1.0",
         "5.0",
         "no-cash payment",
         "Takeaway",
         "29-09-2023"
        ],
        [
         "TXN_1004184",
         "Smoothie",
         "1.0",
         "4.0",
         "4.0",
         "no-cash payment",
         "In-store",
         "18-05-2023"
        ],
        [
         "TXN_1004563",
         "Tea",
         "5.0",
         "1.5",
         "7.5",
         "no-cash payment",
         "In-store",
         "28-10-2023"
        ],
        [
         "TXN_1005331",
         "Coffee",
         "1.0",
         "2.0",
         "2.0",
         "no-cash payment",
         "Takeaway",
         "04-11-2023"
        ],
        [
         "TXN_1005377",
         "Cake",
         "5.0",
         "3.0",
         "15.0",
         "no-cash payment",
         "Takeaway",
         "03-06-2023"
        ],
        [
         "TXN_1006942",
         "Salad",
         "1.0",
         "5.0",
         "5.0",
         "no-cash payment",
         "In-store",
         "30-11-2023"
        ]
       ],
       "datasetInfos": [],
       "dbfsResultPath": null,
       "isJsonSchema": true,
       "metadata": {},
       "overflow": false,
       "plotOptions": {
        "customPlotOptions": {},
        "displayType": "table",
        "pivotAggregation": null,
        "pivotColumns": null,
        "xColumns": null,
        "yColumns": null
       },
       "removedWidgets": [],
       "schema": [
        {
         "metadata": "{}",
         "name": "transaction_id",
         "type": "\"string\""
        },
        {
         "metadata": "{}",
         "name": "item",
         "type": "\"string\""
        },
        {
         "metadata": "{}",
         "name": "quantity",
         "type": "\"string\""
        },
        {
         "metadata": "{}",
         "name": "price_per_unit",
         "type": "\"string\""
        },
        {
         "metadata": "{}",
         "name": "total_spent",
         "type": "\"string\""
        },
        {
         "metadata": "{}",
         "name": "payment_method",
         "type": "\"string\""
        },
        {
         "metadata": "{}",
         "name": "location",
         "type": "\"string\""
        },
        {
         "metadata": "{}",
         "name": "transaction_date",
         "type": "\"string\""
        }
       ],
       "type": "table"
      }
     },
     "output_type": "display_data"
    }
   ],
   "source": [
    "# Final validation: keep only records matching pattern XXX_NNNNNNN\n",
    "df_validated = df_formatted.filter(\n",
    "    col(\"transaction_id\").rlike(\"^[A-Z]{3}_[0-9]{7}$\")\n",
    ")\n",
    "\n",
    "final_count = df_validated.count()\n",
    "removed_count = after_filter_count - final_count\n",
    "print(f\"✅ 3. Ostateczna walidacja - usunięto {removed_count} niepoprawnych formatów\")\n",
    "print(f\"Pozostało rekordów: {final_count}\")\n",
    "display(df_validated.limit(10))\n"
   ]
  },
  {
   "cell_type": "code",
   "execution_count": 0,
   "metadata": {
    "application/vnd.databricks.v1+cell": {
     "cellMetadata": {
      "byteLimit": 2048000,
      "rowLimit": 10000
     },
     "inputWidgets": {},
     "nuid": "e91ec0d6-bd2b-4f35-a178-0b0bbf04dfc9",
     "showTitle": false,
     "tableResultSettingsMap": {},
     "title": ""
    }
   },
   "outputs": [
    {
     "output_type": "stream",
     "name": "stdout",
     "output_type": "stream",
     "text": [
      "✅ Format daty zamieniony z 'dd.mm.yyyy' na 'dd-mm-yyyy'\n"
     ]
    },
    {
     "output_type": "display_data",
     "data": {
      "text/html": [
       "<style scoped>\n",
       "  .table-result-container {\n",
       "    max-height: 300px;\n",
       "    overflow: auto;\n",
       "  }\n",
       "  table, th, td {\n",
       "    border: 1px solid black;\n",
       "    border-collapse: collapse;\n",
       "  }\n",
       "  th, td {\n",
       "    padding: 5px;\n",
       "  }\n",
       "  th {\n",
       "    text-align: left;\n",
       "  }\n",
       "</style><div class='table-result-container'><table class='table-result'><thead style='background-color: white'><tr><th>transaction_id</th><th>item</th><th>quantity</th><th>price_per_unit</th><th>total_spent</th><th>payment_method</th><th>location</th><th>transaction_date</th></tr></thead><tbody><tr><td>TXN_2548360</td><td>Salad</td><td>5.0</td><td>5.0</td><td>25.0</td><td>Cash</td><td>Takeaway</td><td>07-11-2023</td></tr><tr><td>TXN_3160411</td><td>Coffee</td><td>2.0</td><td>2.0</td><td>4.0</td><td>no-cash payment</td><td>In-store</td><td>11-06-2023</td></tr><tr><td>TXN_4271903</td><td>Cookie</td><td>4.0</td><td>1.0</td><td>4.0</td><td>no-cash payment</td><td>In-store</td><td>19-07-2023</td></tr><tr><td>TXN_1000555</td><td>Tea</td><td>1.0</td><td>1.5</td><td>1.5</td><td>no-cash payment</td><td>In-store</td><td>19-10-2023</td></tr><tr><td>TXN_1002457</td><td>Cookie</td><td>5.0</td><td>1.0</td><td>5.0</td><td>no-cash payment</td><td>Takeaway</td><td>29-09-2023</td></tr><tr><td>TXN_1004184</td><td>Smoothie</td><td>1.0</td><td>4.0</td><td>4.0</td><td>no-cash payment</td><td>In-store</td><td>18-05-2023</td></tr><tr><td>TXN_1004563</td><td>Tea</td><td>5.0</td><td>1.5</td><td>7.5</td><td>no-cash payment</td><td>In-store</td><td>28-10-2023</td></tr><tr><td>TXN_1005331</td><td>Coffee</td><td>1.0</td><td>2.0</td><td>2.0</td><td>no-cash payment</td><td>Takeaway</td><td>04-11-2023</td></tr><tr><td>TXN_1005377</td><td>Cake</td><td>5.0</td><td>3.0</td><td>15.0</td><td>no-cash payment</td><td>Takeaway</td><td>03-06-2023</td></tr><tr><td>TXN_1006942</td><td>Salad</td><td>1.0</td><td>5.0</td><td>5.0</td><td>no-cash payment</td><td>In-store</td><td>30-11-2023</td></tr></tbody></table></div>"
      ]
     },
     "metadata": {
      "application/vnd.databricks.v1+output": {
       "addedWidgets": {},
       "aggData": [],
       "aggError": "",
       "aggOverflow": false,
       "aggSchema": [],
       "aggSeriesLimitReached": false,
       "aggType": "",
       "arguments": {},
       "columnCustomDisplayInfos": {},
       "data": [
        [
         "TXN_2548360",
         "Salad",
         "5.0",
         "5.0",
         "25.0",
         "Cash",
         "Takeaway",
         "07-11-2023"
        ],
        [
         "TXN_3160411",
         "Coffee",
         "2.0",
         "2.0",
         "4.0",
         "no-cash payment",
         "In-store",
         "11-06-2023"
        ],
        [
         "TXN_4271903",
         "Cookie",
         "4.0",
         "1.0",
         "4.0",
         "no-cash payment",
         "In-store",
         "19-07-2023"
        ],
        [
         "TXN_1000555",
         "Tea",
         "1.0",
         "1.5",
         "1.5",
         "no-cash payment",
         "In-store",
         "19-10-2023"
        ],
        [
         "TXN_1002457",
         "Cookie",
         "5.0",
         "1.0",
         "5.0",
         "no-cash payment",
         "Takeaway",
         "29-09-2023"
        ],
        [
         "TXN_1004184",
         "Smoothie",
         "1.0",
         "4.0",
         "4.0",
         "no-cash payment",
         "In-store",
         "18-05-2023"
        ],
        [
         "TXN_1004563",
         "Tea",
         "5.0",
         "1.5",
         "7.5",
         "no-cash payment",
         "In-store",
         "28-10-2023"
        ],
        [
         "TXN_1005331",
         "Coffee",
         "1.0",
         "2.0",
         "2.0",
         "no-cash payment",
         "Takeaway",
         "04-11-2023"
        ],
        [
         "TXN_1005377",
         "Cake",
         "5.0",
         "3.0",
         "15.0",
         "no-cash payment",
         "Takeaway",
         "03-06-2023"
        ],
        [
         "TXN_1006942",
         "Salad",
         "1.0",
         "5.0",
         "5.0",
         "no-cash payment",
         "In-store",
         "30-11-2023"
        ]
       ],
       "datasetInfos": [],
       "dbfsResultPath": null,
       "isJsonSchema": true,
       "metadata": {},
       "overflow": false,
       "plotOptions": {
        "customPlotOptions": {},
        "displayType": "table",
        "pivotAggregation": null,
        "pivotColumns": null,
        "xColumns": null,
        "yColumns": null
       },
       "removedWidgets": [],
       "schema": [
        {
         "metadata": "{}",
         "name": "transaction_id",
         "type": "\"string\""
        },
        {
         "metadata": "{}",
         "name": "item",
         "type": "\"string\""
        },
        {
         "metadata": "{}",
         "name": "quantity",
         "type": "\"string\""
        },
        {
         "metadata": "{}",
         "name": "price_per_unit",
         "type": "\"string\""
        },
        {
         "metadata": "{}",
         "name": "total_spent",
         "type": "\"string\""
        },
        {
         "metadata": "{}",
         "name": "payment_method",
         "type": "\"string\""
        },
        {
         "metadata": "{}",
         "name": "location",
         "type": "\"string\""
        },
        {
         "metadata": "{}",
         "name": "transaction_date",
         "type": "\"string\""
        }
       ],
       "type": "table"
      }
     },
     "output_type": "display_data"
    }
   ],
   "source": [
    "from pyspark.sql.functions import when, regexp_replace\n",
    "\n",
    "# Convert date format from dd.mm.yyyy to dd-mm-yyyy\n",
    "df_date_fixed = df_validated.withColumn(\n",
    "    \"transaction_date\",\n",
    "    when(\n",
    "        col(\"transaction_date\").contains(\".\"),\n",
    "        regexp_replace(col(\"transaction_date\"), \"\\\\.\", \"-\")\n",
    "    ).otherwise(col(\"transaction_date\"))\n",
    ")\n",
    "\n",
    "print(\"✅ Format daty zamieniony z 'dd.mm.yyyy' na 'dd-mm-yyyy'\")\n",
    "display(df_date_fixed.limit(10))\n"
   ]
  },
  {
   "cell_type": "code",
   "execution_count": 0,
   "metadata": {
    "application/vnd.databricks.v1+cell": {
     "cellMetadata": {
      "byteLimit": 2048000,
      "rowLimit": 10000
     },
     "inputWidgets": {},
     "nuid": "055060d2-b22b-440f-94f5-81c17fa12386",
     "showTitle": false,
     "tableResultSettingsMap": {},
     "title": ""
    }
   },
   "outputs": [
    {
     "output_type": "stream",
     "name": "stdout",
     "output_type": "stream",
     "text": [
      "✅ Zamieniono 'Digital Wallet' i 'Credit Card' na 'no-cash payment'\n"
     ]
    },
    {
     "output_type": "display_data",
     "data": {
      "text/html": [
       "<style scoped>\n",
       "  .table-result-container {\n",
       "    max-height: 300px;\n",
       "    overflow: auto;\n",
       "  }\n",
       "  table, th, td {\n",
       "    border: 1px solid black;\n",
       "    border-collapse: collapse;\n",
       "  }\n",
       "  th, td {\n",
       "    padding: 5px;\n",
       "  }\n",
       "  th {\n",
       "    text-align: left;\n",
       "  }\n",
       "</style><div class='table-result-container'><table class='table-result'><thead style='background-color: white'><tr><th>transaction_id</th><th>item</th><th>quantity</th><th>price_per_unit</th><th>total_spent</th><th>payment_method</th><th>location</th><th>transaction_date</th></tr></thead><tbody><tr><td>TXN_2548360</td><td>Salad</td><td>5.0</td><td>5.0</td><td>25.0</td><td>Cash</td><td>Takeaway</td><td>07-11-2023</td></tr><tr><td>TXN_3160411</td><td>Coffee</td><td>2.0</td><td>2.0</td><td>4.0</td><td>no-cash payment</td><td>In-store</td><td>11-06-2023</td></tr><tr><td>TXN_4271903</td><td>Cookie</td><td>4.0</td><td>1.0</td><td>4.0</td><td>no-cash payment</td><td>In-store</td><td>19-07-2023</td></tr><tr><td>TXN_1000555</td><td>Tea</td><td>1.0</td><td>1.5</td><td>1.5</td><td>no-cash payment</td><td>In-store</td><td>19-10-2023</td></tr><tr><td>TXN_1002457</td><td>Cookie</td><td>5.0</td><td>1.0</td><td>5.0</td><td>no-cash payment</td><td>Takeaway</td><td>29-09-2023</td></tr><tr><td>TXN_1004184</td><td>Smoothie</td><td>1.0</td><td>4.0</td><td>4.0</td><td>no-cash payment</td><td>In-store</td><td>18-05-2023</td></tr><tr><td>TXN_1004563</td><td>Tea</td><td>5.0</td><td>1.5</td><td>7.5</td><td>no-cash payment</td><td>In-store</td><td>28-10-2023</td></tr><tr><td>TXN_1005331</td><td>Coffee</td><td>1.0</td><td>2.0</td><td>2.0</td><td>no-cash payment</td><td>Takeaway</td><td>04-11-2023</td></tr><tr><td>TXN_1005377</td><td>Cake</td><td>5.0</td><td>3.0</td><td>15.0</td><td>no-cash payment</td><td>Takeaway</td><td>03-06-2023</td></tr><tr><td>TXN_1006942</td><td>Salad</td><td>1.0</td><td>5.0</td><td>5.0</td><td>no-cash payment</td><td>In-store</td><td>30-11-2023</td></tr></tbody></table></div>"
      ]
     },
     "metadata": {
      "application/vnd.databricks.v1+output": {
       "addedWidgets": {},
       "aggData": [],
       "aggError": "",
       "aggOverflow": false,
       "aggSchema": [],
       "aggSeriesLimitReached": false,
       "aggType": "",
       "arguments": {},
       "columnCustomDisplayInfos": {},
       "data": [
        [
         "TXN_2548360",
         "Salad",
         "5.0",
         "5.0",
         "25.0",
         "Cash",
         "Takeaway",
         "07-11-2023"
        ],
        [
         "TXN_3160411",
         "Coffee",
         "2.0",
         "2.0",
         "4.0",
         "no-cash payment",
         "In-store",
         "11-06-2023"
        ],
        [
         "TXN_4271903",
         "Cookie",
         "4.0",
         "1.0",
         "4.0",
         "no-cash payment",
         "In-store",
         "19-07-2023"
        ],
        [
         "TXN_1000555",
         "Tea",
         "1.0",
         "1.5",
         "1.5",
         "no-cash payment",
         "In-store",
         "19-10-2023"
        ],
        [
         "TXN_1002457",
         "Cookie",
         "5.0",
         "1.0",
         "5.0",
         "no-cash payment",
         "Takeaway",
         "29-09-2023"
        ],
        [
         "TXN_1004184",
         "Smoothie",
         "1.0",
         "4.0",
         "4.0",
         "no-cash payment",
         "In-store",
         "18-05-2023"
        ],
        [
         "TXN_1004563",
         "Tea",
         "5.0",
         "1.5",
         "7.5",
         "no-cash payment",
         "In-store",
         "28-10-2023"
        ],
        [
         "TXN_1005331",
         "Coffee",
         "1.0",
         "2.0",
         "2.0",
         "no-cash payment",
         "Takeaway",
         "04-11-2023"
        ],
        [
         "TXN_1005377",
         "Cake",
         "5.0",
         "3.0",
         "15.0",
         "no-cash payment",
         "Takeaway",
         "03-06-2023"
        ],
        [
         "TXN_1006942",
         "Salad",
         "1.0",
         "5.0",
         "5.0",
         "no-cash payment",
         "In-store",
         "30-11-2023"
        ]
       ],
       "datasetInfos": [],
       "dbfsResultPath": null,
       "isJsonSchema": true,
       "metadata": {},
       "overflow": false,
       "plotOptions": {
        "customPlotOptions": {},
        "displayType": "table",
        "pivotAggregation": null,
        "pivotColumns": null,
        "xColumns": null,
        "yColumns": null
       },
       "removedWidgets": [],
       "schema": [
        {
         "metadata": "{}",
         "name": "transaction_id",
         "type": "\"string\""
        },
        {
         "metadata": "{}",
         "name": "item",
         "type": "\"string\""
        },
        {
         "metadata": "{}",
         "name": "quantity",
         "type": "\"string\""
        },
        {
         "metadata": "{}",
         "name": "price_per_unit",
         "type": "\"string\""
        },
        {
         "metadata": "{}",
         "name": "total_spent",
         "type": "\"string\""
        },
        {
         "metadata": "{}",
         "name": "payment_method",
         "type": "\"string\""
        },
        {
         "metadata": "{}",
         "name": "location",
         "type": "\"string\""
        },
        {
         "metadata": "{}",
         "name": "transaction_date",
         "type": "\"string\""
        }
       ],
       "type": "table"
      }
     },
     "output_type": "display_data"
    }
   ],
   "source": [
    "# Standardize payment methods: 'Digital Wallet' and 'Credit Card' → 'no-cash payment'\n",
    "df_payment_std = df_date_fixed.withColumn(\n",
    "    \"payment_method\",\n",
    "    when(\n",
    "        upper(col(\"payment_method\")).isin(\"DIGITAL WALLET\", \"CREDIT CARD\"),\n",
    "        \"no-cash payment\"\n",
    "    ).otherwise(col(\"payment_method\"))\n",
    ")\n",
    "\n",
    "print(\"✅ Zamieniono 'Digital Wallet' i 'Credit Card' na 'no-cash payment'\")\n",
    "display(df_payment_std.limit(10))\n"
   ]
  },
  {
   "cell_type": "code",
   "execution_count": 0,
   "metadata": {
    "application/vnd.databricks.v1+cell": {
     "cellMetadata": {
      "byteLimit": 2048000,
      "rowLimit": 10000
     },
     "inputWidgets": {},
     "nuid": "4387b66a-327d-4964-bc8b-f70d75b969d6",
     "showTitle": false,
     "tableResultSettingsMap": {},
     "title": ""
    }
   },
   "outputs": [
    {
     "output_type": "stream",
     "name": "stdout",
     "output_type": "stream",
     "text": [
      "✅ Bronze2 table updated with validated and standardized data\nFinal row count: 3555\n"
     ]
    }
   ],
   "source": [
    "# Clear cache before writing to avoid schema analysis issues\n",
    "spark.catalog.clearCache()\n",
    "\n",
    "# Overwrite Bronze2 Delta Table with validated and standardized data\n",
    "df_payment_std.write \\\n",
    "    .format(\"delta\") \\\n",
    "    .mode(\"overwrite\") \\\n",
    "    .option(\"overwriteSchema\", \"true\") \\\n",
    "    .save(bronze2_path)\n",
    "\n",
    "print(f\"✅ Bronze2 table updated with validated and standardized data\")\n",
    "print(f\"Final row count: {df_payment_std.count()}\")\n"
   ]
  },
  {
   "cell_type": "code",
   "execution_count": 0,
   "metadata": {
    "application/vnd.databricks.v1+cell": {
     "cellMetadata": {
      "byteLimit": 2048000,
      "rowLimit": 10000
     },
     "inputWidgets": {},
     "nuid": "6ff63439-d371-4a2c-82ce-95cd568e68be",
     "showTitle": false,
     "tableResultSettingsMap": {},
     "title": ""
    }
   },
   "outputs": [
    {
     "output_type": "stream",
     "name": "stdout",
     "output_type": "stream",
     "text": [
      "✅ Catalog cache refreshed for Bronze2\n\n=== Sample validated and standardized data from Bronze2 ===\n"
     ]
    },
    {
     "output_type": "display_data",
     "data": {
      "text/html": [
       "<style scoped>\n",
       "  .table-result-container {\n",
       "    max-height: 300px;\n",
       "    overflow: auto;\n",
       "  }\n",
       "  table, th, td {\n",
       "    border: 1px solid black;\n",
       "    border-collapse: collapse;\n",
       "  }\n",
       "  th, td {\n",
       "    padding: 5px;\n",
       "  }\n",
       "  th {\n",
       "    text-align: left;\n",
       "  }\n",
       "</style><div class='table-result-container'><table class='table-result'><thead style='background-color: white'><tr><th>transaction_id</th><th>item</th><th>quantity</th><th>price_per_unit</th><th>total_spent</th><th>payment_method</th><th>location</th><th>transaction_date</th></tr></thead><tbody><tr><td>TXN_2548360</td><td>Salad</td><td>5.0</td><td>5.0</td><td>25.0</td><td>Cash</td><td>Takeaway</td><td>07-11-2023</td></tr><tr><td>TXN_3160411</td><td>Coffee</td><td>2.0</td><td>2.0</td><td>4.0</td><td>no-cash payment</td><td>In-store</td><td>11-06-2023</td></tr><tr><td>TXN_4271903</td><td>Cookie</td><td>4.0</td><td>1.0</td><td>4.0</td><td>no-cash payment</td><td>In-store</td><td>19-07-2023</td></tr><tr><td>TXN_1000555</td><td>Tea</td><td>1.0</td><td>1.5</td><td>1.5</td><td>no-cash payment</td><td>In-store</td><td>19-10-2023</td></tr><tr><td>TXN_1002457</td><td>Cookie</td><td>5.0</td><td>1.0</td><td>5.0</td><td>no-cash payment</td><td>Takeaway</td><td>29-09-2023</td></tr><tr><td>TXN_1004184</td><td>Smoothie</td><td>1.0</td><td>4.0</td><td>4.0</td><td>no-cash payment</td><td>In-store</td><td>18-05-2023</td></tr><tr><td>TXN_1004563</td><td>Tea</td><td>5.0</td><td>1.5</td><td>7.5</td><td>no-cash payment</td><td>In-store</td><td>28-10-2023</td></tr><tr><td>TXN_1005331</td><td>Coffee</td><td>1.0</td><td>2.0</td><td>2.0</td><td>no-cash payment</td><td>Takeaway</td><td>04-11-2023</td></tr><tr><td>TXN_1005377</td><td>Cake</td><td>5.0</td><td>3.0</td><td>15.0</td><td>no-cash payment</td><td>Takeaway</td><td>03-06-2023</td></tr><tr><td>TXN_1006942</td><td>Salad</td><td>1.0</td><td>5.0</td><td>5.0</td><td>no-cash payment</td><td>In-store</td><td>30-11-2023</td></tr><tr><td>TXN_1007347</td><td>Salad</td><td>4.0</td><td>5.0</td><td>20.0</td><td>no-cash payment</td><td>In-store</td><td>28-08-2023</td></tr><tr><td>TXN_1009421</td><td>Cookie</td><td>4.0</td><td>1.0</td><td>4.0</td><td>Cash</td><td>Takeaway</td><td>21-02-2023</td></tr><tr><td>TXN_1010950</td><td>Cookie</td><td>1.0</td><td>1.0</td><td>1.0</td><td>no-cash payment</td><td>Takeaway</td><td>07-01-2023</td></tr><tr><td>TXN_1011236</td><td>Cake</td><td>1.0</td><td>3.0</td><td>3.0</td><td>Cash</td><td>In-store</td><td>08-02-2023</td></tr><tr><td>TXN_1015883</td><td>Cookie</td><td>4.0</td><td>1.0</td><td>4.0</td><td>Cash</td><td>In-store</td><td>16-10-2023</td></tr><tr><td>TXN_1020478</td><td>Coffee</td><td>1.0</td><td>2.0</td><td>2.0</td><td>no-cash payment</td><td>Takeaway</td><td>09-03-2023</td></tr><tr><td>TXN_1022523</td><td>Salad</td><td>4.0</td><td>5.0</td><td>20.0</td><td>Cash</td><td>In-store</td><td>25-11-2023</td></tr><tr><td>TXN_1026827</td><td>Cookie</td><td>4.0</td><td>1.0</td><td>4.0</td><td>no-cash payment</td><td>In-store</td><td>02-01-2023</td></tr><tr><td>TXN_1035504</td><td>Smoothie</td><td>2.0</td><td>4.0</td><td>8.0</td><td>no-cash payment</td><td>Takeaway</td><td>30-03-2023</td></tr><tr><td>TXN_1040764</td><td>Coffee</td><td>3.0</td><td>2.0</td><td>6.0</td><td>Cash</td><td>Takeaway</td><td>27-07-2023</td></tr></tbody></table></div>"
      ]
     },
     "metadata": {
      "application/vnd.databricks.v1+output": {
       "addedWidgets": {},
       "aggData": [],
       "aggError": "",
       "aggOverflow": false,
       "aggSchema": [],
       "aggSeriesLimitReached": false,
       "aggType": "",
       "arguments": {},
       "columnCustomDisplayInfos": {},
       "data": [
        [
         "TXN_2548360",
         "Salad",
         "5.0",
         "5.0",
         "25.0",
         "Cash",
         "Takeaway",
         "07-11-2023"
        ],
        [
         "TXN_3160411",
         "Coffee",
         "2.0",
         "2.0",
         "4.0",
         "no-cash payment",
         "In-store",
         "11-06-2023"
        ],
        [
         "TXN_4271903",
         "Cookie",
         "4.0",
         "1.0",
         "4.0",
         "no-cash payment",
         "In-store",
         "19-07-2023"
        ],
        [
         "TXN_1000555",
         "Tea",
         "1.0",
         "1.5",
         "1.5",
         "no-cash payment",
         "In-store",
         "19-10-2023"
        ],
        [
         "TXN_1002457",
         "Cookie",
         "5.0",
         "1.0",
         "5.0",
         "no-cash payment",
         "Takeaway",
         "29-09-2023"
        ],
        [
         "TXN_1004184",
         "Smoothie",
         "1.0",
         "4.0",
         "4.0",
         "no-cash payment",
         "In-store",
         "18-05-2023"
        ],
        [
         "TXN_1004563",
         "Tea",
         "5.0",
         "1.5",
         "7.5",
         "no-cash payment",
         "In-store",
         "28-10-2023"
        ],
        [
         "TXN_1005331",
         "Coffee",
         "1.0",
         "2.0",
         "2.0",
         "no-cash payment",
         "Takeaway",
         "04-11-2023"
        ],
        [
         "TXN_1005377",
         "Cake",
         "5.0",
         "3.0",
         "15.0",
         "no-cash payment",
         "Takeaway",
         "03-06-2023"
        ],
        [
         "TXN_1006942",
         "Salad",
         "1.0",
         "5.0",
         "5.0",
         "no-cash payment",
         "In-store",
         "30-11-2023"
        ],
        [
         "TXN_1007347",
         "Salad",
         "4.0",
         "5.0",
         "20.0",
         "no-cash payment",
         "In-store",
         "28-08-2023"
        ],
        [
         "TXN_1009421",
         "Cookie",
         "4.0",
         "1.0",
         "4.0",
         "Cash",
         "Takeaway",
         "21-02-2023"
        ],
        [
         "TXN_1010950",
         "Cookie",
         "1.0",
         "1.0",
         "1.0",
         "no-cash payment",
         "Takeaway",
         "07-01-2023"
        ],
        [
         "TXN_1011236",
         "Cake",
         "1.0",
         "3.0",
         "3.0",
         "Cash",
         "In-store",
         "08-02-2023"
        ],
        [
         "TXN_1015883",
         "Cookie",
         "4.0",
         "1.0",
         "4.0",
         "Cash",
         "In-store",
         "16-10-2023"
        ],
        [
         "TXN_1020478",
         "Coffee",
         "1.0",
         "2.0",
         "2.0",
         "no-cash payment",
         "Takeaway",
         "09-03-2023"
        ],
        [
         "TXN_1022523",
         "Salad",
         "4.0",
         "5.0",
         "20.0",
         "Cash",
         "In-store",
         "25-11-2023"
        ],
        [
         "TXN_1026827",
         "Cookie",
         "4.0",
         "1.0",
         "4.0",
         "no-cash payment",
         "In-store",
         "02-01-2023"
        ],
        [
         "TXN_1035504",
         "Smoothie",
         "2.0",
         "4.0",
         "8.0",
         "no-cash payment",
         "Takeaway",
         "30-03-2023"
        ],
        [
         "TXN_1040764",
         "Coffee",
         "3.0",
         "2.0",
         "6.0",
         "Cash",
         "Takeaway",
         "27-07-2023"
        ]
       ],
       "datasetInfos": [],
       "dbfsResultPath": null,
       "isJsonSchema": true,
       "metadata": {},
       "overflow": false,
       "plotOptions": {
        "customPlotOptions": {},
        "displayType": "table",
        "pivotAggregation": null,
        "pivotColumns": null,
        "xColumns": null,
        "yColumns": null
       },
       "removedWidgets": [],
       "schema": [
        {
         "metadata": "{}",
         "name": "transaction_id",
         "type": "\"string\""
        },
        {
         "metadata": "{}",
         "name": "item",
         "type": "\"string\""
        },
        {
         "metadata": "{}",
         "name": "quantity",
         "type": "\"string\""
        },
        {
         "metadata": "{}",
         "name": "price_per_unit",
         "type": "\"string\""
        },
        {
         "metadata": "{}",
         "name": "total_spent",
         "type": "\"string\""
        },
        {
         "metadata": "{}",
         "name": "payment_method",
         "type": "\"string\""
        },
        {
         "metadata": "{}",
         "name": "location",
         "type": "\"string\""
        },
        {
         "metadata": "{}",
         "name": "transaction_date",
         "type": "\"string\""
        }
       ],
       "type": "table"
      }
     },
     "output_type": "display_data"
    }
   ],
   "source": [
    "# Refresh catalog and verify changes for Bronze2\n",
    "from pyspark.sql.functions import length, col\n",
    "\n",
    "# Refresh catalog cache for Bronze2 table\n",
    "spark.catalog.refreshTable(\"cafe_sales_bronze2\")\n",
    "print(\"✅ Catalog cache refreshed for Bronze2\")\n",
    "\n",
    "# Read back from Bronze2 to verify changes\n",
    "df_verify = spark.read.format(\"delta\").load(bronze2_path)\n",
    "\n",
    "# Display sample validated and standardized data from Bronze2\n",
    "print(\"\\n=== Sample validated and standardized data from Bronze2 ===\")\n",
    "display(df_verify.limit(20))\n"
   ]
  }
 ],
 "metadata": {
  "application/vnd.databricks.v1+notebook": {
   "computePreferences": null,
   "dashboards": [],
   "environmentMetadata": {
    "base_environment": "",
    "environment_version": "4"
   },
   "inputWidgetPreferences": null,
   "language": "python",
   "notebookMetadata": {
    "pythonIndentUnit": 4
   },
   "notebookName": "05-validate-column-format",
   "widgets": {}
  },
  "language_info": {
   "name": "python"
  }
 },
 "nbformat": 4,
 "nbformat_minor": 0
}